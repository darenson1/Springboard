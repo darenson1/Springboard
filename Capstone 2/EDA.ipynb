{
 "cells": [
  {
   "cell_type": "code",
   "execution_count": 47,
   "metadata": {
    "collapsed": false
   },
   "outputs": [],
   "source": [
    "%matplotlib inline\n",
    "import pandas as pd\n",
    "import numpy as np\n",
    "import nltk\n",
    "from nltk.corpus import stopwords\n",
    "from nltk import word_tokenize\n",
    "from nltk.stem.wordnet import WordNetLemmatizer\n",
    "from string import punctuation\n",
    "from sklearn.cross_validation import train_test_split, cross_val_score\n",
    "\n",
    "from sklearn.naive_bayes import MultinomialNB\n",
    "from sklearn import svm\n",
    "from sklearn.linear_model import LogisticRegression\n",
    "from sklearn.feature_extraction.text import TfidfVectorizer\n",
    "from sklearn.decomposition import TruncatedSVD\n",
    "from sklearn.metrics import precision_score, confusion_matrix\n",
    "from sklearn.pipeline import Pipeline, make_pipeline\n",
    "from sklearn.feature_extraction.text import CountVectorizer, TfidfVectorizer\n",
    "from sklearn.decomposition import NMF, LatentDirichletAllocation\n",
    "from sklearn.model_selection import GridSearchCV\n",
    "from sklearn.metrics import accuracy_score, confusion_matrix, f1_score\n",
    "\n",
    "\n",
    "\n",
    "from __future__ import division\n",
    "import gzip\n",
    "import itertools\n",
    "import string\n",
    "import wordcloud\n",
    "import numpy as np\n",
    "import pandas as pd\n",
    "import datetime as dt\n",
    "import matplotlib.pyplot as plt\n",
    "import pylab as pl\n",
    "import matplotlib.pyplot as plt\n",
    "import itertools\n",
    "import seaborn as sns\n",
    "from textblob import TextBlob\n",
    "from collections import Counter\n"
   ]
  },
  {
   "cell_type": "code",
   "execution_count": 9,
   "metadata": {
    "collapsed": true
   },
   "outputs": [],
   "source": [
    "Sports_Outdoors = pd.read_json('Sports_and_Outdoors_5.json', lines=True)"
   ]
  },
  {
   "cell_type": "code",
   "execution_count": 10,
   "metadata": {
    "collapsed": false
   },
   "outputs": [
    {
     "data": {
      "text/html": [
       "<div>\n",
       "<table border=\"1\" class=\"dataframe\">\n",
       "  <thead>\n",
       "    <tr style=\"text-align: right;\">\n",
       "      <th></th>\n",
       "      <th>asin</th>\n",
       "      <th>helpful</th>\n",
       "      <th>overall</th>\n",
       "      <th>reviewText</th>\n",
       "      <th>reviewTime</th>\n",
       "      <th>reviewerID</th>\n",
       "      <th>reviewerName</th>\n",
       "      <th>summary</th>\n",
       "      <th>unixReviewTime</th>\n",
       "    </tr>\n",
       "  </thead>\n",
       "  <tbody>\n",
       "    <tr>\n",
       "      <th>0</th>\n",
       "      <td>1881509818</td>\n",
       "      <td>[0, 0]</td>\n",
       "      <td>5</td>\n",
       "      <td>This came in on time and I am veru happy with ...</td>\n",
       "      <td>01 26, 2014</td>\n",
       "      <td>AIXZKN4ACSKI</td>\n",
       "      <td>David Briner</td>\n",
       "      <td>Woks very good</td>\n",
       "      <td>1390694400</td>\n",
       "    </tr>\n",
       "    <tr>\n",
       "      <th>1</th>\n",
       "      <td>1881509818</td>\n",
       "      <td>[1, 1]</td>\n",
       "      <td>5</td>\n",
       "      <td>I had a factory Glock tool that I was using fo...</td>\n",
       "      <td>02 2, 2012</td>\n",
       "      <td>A1L5P841VIO02V</td>\n",
       "      <td>Jason A. Kramer</td>\n",
       "      <td>Works as well as the factory tool</td>\n",
       "      <td>1328140800</td>\n",
       "    </tr>\n",
       "    <tr>\n",
       "      <th>2</th>\n",
       "      <td>1881509818</td>\n",
       "      <td>[2, 2]</td>\n",
       "      <td>4</td>\n",
       "      <td>If you don't have a 3/32 punch or would like t...</td>\n",
       "      <td>02 28, 2012</td>\n",
       "      <td>AB2W04NI4OEAD</td>\n",
       "      <td>J. Fernald</td>\n",
       "      <td>It's a punch, that's all.</td>\n",
       "      <td>1330387200</td>\n",
       "    </tr>\n",
       "    <tr>\n",
       "      <th>3</th>\n",
       "      <td>1881509818</td>\n",
       "      <td>[0, 0]</td>\n",
       "      <td>4</td>\n",
       "      <td>This works no better than any 3/32 punch you w...</td>\n",
       "      <td>02 5, 2012</td>\n",
       "      <td>A148SVSWKTJKU6</td>\n",
       "      <td>Jusitn A. Watts \"Maverick9614\"</td>\n",
       "      <td>It's a punch with a Glock logo.</td>\n",
       "      <td>1328400000</td>\n",
       "    </tr>\n",
       "    <tr>\n",
       "      <th>4</th>\n",
       "      <td>1881509818</td>\n",
       "      <td>[0, 0]</td>\n",
       "      <td>4</td>\n",
       "      <td>I purchased this thinking maybe I need a speci...</td>\n",
       "      <td>04 23, 2013</td>\n",
       "      <td>AAAWJ6LW9WMOO</td>\n",
       "      <td>Material Man</td>\n",
       "      <td>Ok,tool does what a regular punch does.</td>\n",
       "      <td>1366675200</td>\n",
       "    </tr>\n",
       "  </tbody>\n",
       "</table>\n",
       "</div>"
      ],
      "text/plain": [
       "         asin helpful  overall  \\\n",
       "0  1881509818  [0, 0]        5   \n",
       "1  1881509818  [1, 1]        5   \n",
       "2  1881509818  [2, 2]        4   \n",
       "3  1881509818  [0, 0]        4   \n",
       "4  1881509818  [0, 0]        4   \n",
       "\n",
       "                                          reviewText   reviewTime  \\\n",
       "0  This came in on time and I am veru happy with ...  01 26, 2014   \n",
       "1  I had a factory Glock tool that I was using fo...   02 2, 2012   \n",
       "2  If you don't have a 3/32 punch or would like t...  02 28, 2012   \n",
       "3  This works no better than any 3/32 punch you w...   02 5, 2012   \n",
       "4  I purchased this thinking maybe I need a speci...  04 23, 2013   \n",
       "\n",
       "       reviewerID                    reviewerName  \\\n",
       "0    AIXZKN4ACSKI                    David Briner   \n",
       "1  A1L5P841VIO02V                 Jason A. Kramer   \n",
       "2   AB2W04NI4OEAD                      J. Fernald   \n",
       "3  A148SVSWKTJKU6  Jusitn A. Watts \"Maverick9614\"   \n",
       "4   AAAWJ6LW9WMOO                    Material Man   \n",
       "\n",
       "                                   summary  unixReviewTime  \n",
       "0                           Woks very good      1390694400  \n",
       "1        Works as well as the factory tool      1328140800  \n",
       "2                It's a punch, that's all.      1330387200  \n",
       "3          It's a punch with a Glock logo.      1328400000  \n",
       "4  Ok,tool does what a regular punch does.      1366675200  "
      ]
     },
     "execution_count": 10,
     "metadata": {},
     "output_type": "execute_result"
    }
   ],
   "source": [
    "Sports_Outdoors.head()"
   ]
  },
  {
   "cell_type": "code",
   "execution_count": 11,
   "metadata": {
    "collapsed": false
   },
   "outputs": [
    {
     "data": {
      "text/html": [
       "<div>\n",
       "<table border=\"1\" class=\"dataframe\">\n",
       "  <thead>\n",
       "    <tr style=\"text-align: right;\">\n",
       "      <th></th>\n",
       "      <th>asin</th>\n",
       "      <th>helpful</th>\n",
       "      <th>overall</th>\n",
       "      <th>reviewText</th>\n",
       "      <th>reviewTime</th>\n",
       "      <th>reviewerID</th>\n",
       "      <th>reviewerName</th>\n",
       "      <th>summary</th>\n",
       "      <th>unixReviewTime</th>\n",
       "    </tr>\n",
       "  </thead>\n",
       "  <tbody>\n",
       "    <tr>\n",
       "      <th>0</th>\n",
       "      <td>1881509818</td>\n",
       "      <td>[0, 0]</td>\n",
       "      <td>5</td>\n",
       "      <td>this came in on time and i am veru happy with ...</td>\n",
       "      <td>01 26, 2014</td>\n",
       "      <td>AIXZKN4ACSKI</td>\n",
       "      <td>David Briner</td>\n",
       "      <td>Woks very good</td>\n",
       "      <td>1390694400</td>\n",
       "    </tr>\n",
       "    <tr>\n",
       "      <th>1</th>\n",
       "      <td>1881509818</td>\n",
       "      <td>[1, 1]</td>\n",
       "      <td>5</td>\n",
       "      <td>i had a factory glock tool that i was using fo...</td>\n",
       "      <td>02 2, 2012</td>\n",
       "      <td>A1L5P841VIO02V</td>\n",
       "      <td>Jason A. Kramer</td>\n",
       "      <td>Works as well as the factory tool</td>\n",
       "      <td>1328140800</td>\n",
       "    </tr>\n",
       "    <tr>\n",
       "      <th>2</th>\n",
       "      <td>1881509818</td>\n",
       "      <td>[2, 2]</td>\n",
       "      <td>4</td>\n",
       "      <td>if you don't have a 3/32 punch or would like t...</td>\n",
       "      <td>02 28, 2012</td>\n",
       "      <td>AB2W04NI4OEAD</td>\n",
       "      <td>J. Fernald</td>\n",
       "      <td>It's a punch, that's all.</td>\n",
       "      <td>1330387200</td>\n",
       "    </tr>\n",
       "    <tr>\n",
       "      <th>3</th>\n",
       "      <td>1881509818</td>\n",
       "      <td>[0, 0]</td>\n",
       "      <td>4</td>\n",
       "      <td>this works no better than any 3/32 punch you w...</td>\n",
       "      <td>02 5, 2012</td>\n",
       "      <td>A148SVSWKTJKU6</td>\n",
       "      <td>Jusitn A. Watts \"Maverick9614\"</td>\n",
       "      <td>It's a punch with a Glock logo.</td>\n",
       "      <td>1328400000</td>\n",
       "    </tr>\n",
       "    <tr>\n",
       "      <th>4</th>\n",
       "      <td>1881509818</td>\n",
       "      <td>[0, 0]</td>\n",
       "      <td>4</td>\n",
       "      <td>i purchased this thinking maybe i need a speci...</td>\n",
       "      <td>04 23, 2013</td>\n",
       "      <td>AAAWJ6LW9WMOO</td>\n",
       "      <td>Material Man</td>\n",
       "      <td>Ok,tool does what a regular punch does.</td>\n",
       "      <td>1366675200</td>\n",
       "    </tr>\n",
       "  </tbody>\n",
       "</table>\n",
       "</div>"
      ],
      "text/plain": [
       "         asin helpful  overall  \\\n",
       "0  1881509818  [0, 0]        5   \n",
       "1  1881509818  [1, 1]        5   \n",
       "2  1881509818  [2, 2]        4   \n",
       "3  1881509818  [0, 0]        4   \n",
       "4  1881509818  [0, 0]        4   \n",
       "\n",
       "                                          reviewText   reviewTime  \\\n",
       "0  this came in on time and i am veru happy with ...  01 26, 2014   \n",
       "1  i had a factory glock tool that i was using fo...   02 2, 2012   \n",
       "2  if you don't have a 3/32 punch or would like t...  02 28, 2012   \n",
       "3  this works no better than any 3/32 punch you w...   02 5, 2012   \n",
       "4  i purchased this thinking maybe i need a speci...  04 23, 2013   \n",
       "\n",
       "       reviewerID                    reviewerName  \\\n",
       "0    AIXZKN4ACSKI                    David Briner   \n",
       "1  A1L5P841VIO02V                 Jason A. Kramer   \n",
       "2   AB2W04NI4OEAD                      J. Fernald   \n",
       "3  A148SVSWKTJKU6  Jusitn A. Watts \"Maverick9614\"   \n",
       "4   AAAWJ6LW9WMOO                    Material Man   \n",
       "\n",
       "                                   summary  unixReviewTime  \n",
       "0                           Woks very good      1390694400  \n",
       "1        Works as well as the factory tool      1328140800  \n",
       "2                It's a punch, that's all.      1330387200  \n",
       "3          It's a punch with a Glock logo.      1328400000  \n",
       "4  Ok,tool does what a regular punch does.      1366675200  "
      ]
     },
     "execution_count": 11,
     "metadata": {},
     "output_type": "execute_result"
    }
   ],
   "source": [
    "#cleaning data to lowercase\n",
    "Sports_Outdoors['reviewText'] = Sports_Outdoors['reviewText'].str.lower()\n",
    "Sports_Outdoors.head()"
   ]
  },
  {
   "cell_type": "code",
   "execution_count": 12,
   "metadata": {
    "collapsed": true
   },
   "outputs": [],
   "source": [
    "def remove_punctuations(text):\n",
    "    for punct in punctuation:\n",
    "        text = text.replace(punct, ' ')\n",
    "    return text"
   ]
  },
  {
   "cell_type": "code",
   "execution_count": 13,
   "metadata": {
    "collapsed": true
   },
   "outputs": [],
   "source": [
    "# remove punctuation\n",
    "Sports_Outdoors['reviewText'] = Sports_Outdoors['reviewText'].apply(remove_punctuations)"
   ]
  },
  {
   "cell_type": "code",
   "execution_count": 60,
   "metadata": {
    "collapsed": false
   },
   "outputs": [
    {
     "data": {
      "text/html": [
       "<div>\n",
       "<table border=\"1\" class=\"dataframe\">\n",
       "  <thead>\n",
       "    <tr style=\"text-align: right;\">\n",
       "      <th></th>\n",
       "      <th>asin</th>\n",
       "      <th>helpful</th>\n",
       "      <th>overall</th>\n",
       "      <th>reviewText</th>\n",
       "      <th>reviewTime</th>\n",
       "      <th>reviewerID</th>\n",
       "      <th>reviewerName</th>\n",
       "      <th>summary</th>\n",
       "      <th>unixReviewTime</th>\n",
       "    </tr>\n",
       "  </thead>\n",
       "  <tbody>\n",
       "    <tr>\n",
       "      <th>0</th>\n",
       "      <td>1881509818</td>\n",
       "      <td>[0, 0]</td>\n",
       "      <td>5</td>\n",
       "      <td>This came time I veru happy it, I haved used a...</td>\n",
       "      <td>01 26, 2014</td>\n",
       "      <td>AIXZKN4ACSKI</td>\n",
       "      <td>David Briner</td>\n",
       "      <td>Woks very good</td>\n",
       "      <td>1390694400</td>\n",
       "    </tr>\n",
       "    <tr>\n",
       "      <th>1</th>\n",
       "      <td>1881509818</td>\n",
       "      <td>[1, 1]</td>\n",
       "      <td>5</td>\n",
       "      <td>I factory Glock tool I using Glock 26, 27, 17....</td>\n",
       "      <td>02 2, 2012</td>\n",
       "      <td>A1L5P841VIO02V</td>\n",
       "      <td>Jason A. Kramer</td>\n",
       "      <td>Works as well as the factory tool</td>\n",
       "      <td>1328140800</td>\n",
       "    </tr>\n",
       "    <tr>\n",
       "      <th>2</th>\n",
       "      <td>1881509818</td>\n",
       "      <td>[2, 2]</td>\n",
       "      <td>4</td>\n",
       "      <td>If don't 3/32 punch would like one Glock bag, ...</td>\n",
       "      <td>02 28, 2012</td>\n",
       "      <td>AB2W04NI4OEAD</td>\n",
       "      <td>J. Fernald</td>\n",
       "      <td>It's a punch, that's all.</td>\n",
       "      <td>1330387200</td>\n",
       "    </tr>\n",
       "    <tr>\n",
       "      <th>3</th>\n",
       "      <td>1881509818</td>\n",
       "      <td>[0, 0]</td>\n",
       "      <td>4</td>\n",
       "      <td>This works better 3/32 punch would find hardwa...</td>\n",
       "      <td>02 5, 2012</td>\n",
       "      <td>A148SVSWKTJKU6</td>\n",
       "      <td>Jusitn A. Watts \"Maverick9614\"</td>\n",
       "      <td>It's a punch with a Glock logo.</td>\n",
       "      <td>1328400000</td>\n",
       "    </tr>\n",
       "    <tr>\n",
       "      <th>4</th>\n",
       "      <td>1881509818</td>\n",
       "      <td>[0, 0]</td>\n",
       "      <td>4</td>\n",
       "      <td>I purchased thinking maybe I need special tool...</td>\n",
       "      <td>04 23, 2013</td>\n",
       "      <td>AAAWJ6LW9WMOO</td>\n",
       "      <td>Material Man</td>\n",
       "      <td>Ok,tool does what a regular punch does.</td>\n",
       "      <td>1366675200</td>\n",
       "    </tr>\n",
       "  </tbody>\n",
       "</table>\n",
       "</div>"
      ],
      "text/plain": [
       "         asin helpful  overall  \\\n",
       "0  1881509818  [0, 0]        5   \n",
       "1  1881509818  [1, 1]        5   \n",
       "2  1881509818  [2, 2]        4   \n",
       "3  1881509818  [0, 0]        4   \n",
       "4  1881509818  [0, 0]        4   \n",
       "\n",
       "                                          reviewText   reviewTime  \\\n",
       "0  This came time I veru happy it, I haved used a...  01 26, 2014   \n",
       "1  I factory Glock tool I using Glock 26, 27, 17....   02 2, 2012   \n",
       "2  If don't 3/32 punch would like one Glock bag, ...  02 28, 2012   \n",
       "3  This works better 3/32 punch would find hardwa...   02 5, 2012   \n",
       "4  I purchased thinking maybe I need special tool...  04 23, 2013   \n",
       "\n",
       "       reviewerID                    reviewerName  \\\n",
       "0    AIXZKN4ACSKI                    David Briner   \n",
       "1  A1L5P841VIO02V                 Jason A. Kramer   \n",
       "2   AB2W04NI4OEAD                      J. Fernald   \n",
       "3  A148SVSWKTJKU6  Jusitn A. Watts \"Maverick9614\"   \n",
       "4   AAAWJ6LW9WMOO                    Material Man   \n",
       "\n",
       "                                   summary  unixReviewTime  \n",
       "0                           Woks very good      1390694400  \n",
       "1        Works as well as the factory tool      1328140800  \n",
       "2                It's a punch, that's all.      1330387200  \n",
       "3          It's a punch with a Glock logo.      1328400000  \n",
       "4  Ok,tool does what a regular punch does.      1366675200  "
      ]
     },
     "execution_count": 60,
     "metadata": {},
     "output_type": "execute_result"
    }
   ],
   "source": [
    "# remove stopwords\n",
    "stop = stopwords.words('english')\n",
    "Sports_Outdoors['reviewText'] = Sports_Outdoors['reviewText'].apply(lambda x: ' '.join([item for item in x.split() if item not in stop]))\n",
    "Sports_Outdoors.head()"
   ]
  },
  {
   "cell_type": "code",
   "execution_count": 16,
   "metadata": {
    "collapsed": true
   },
   "outputs": [],
   "source": [
    "# creating a tokenized column for the reviewText\n",
    "Sports_Outdoors['reviewText_tok'] = Sports_Outdoors['reviewText'].apply(word_tokenize)"
   ]
  },
  {
   "cell_type": "markdown",
   "metadata": {},
   "source": [
    "## EDA"
   ]
  },
  {
   "cell_type": "code",
   "execution_count": 17,
   "metadata": {
    "collapsed": false
   },
   "outputs": [
    {
     "data": {
      "text/plain": [
       "<matplotlib.axes._subplots.AxesSubplot at 0x7e59fbe0>"
      ]
     },
     "execution_count": 17,
     "metadata": {},
     "output_type": "execute_result"
    },
    {
     "data": {
      "image/png": "[encoded data removed]",
      "text/plain": [
       "<matplotlib.figure.Figure at 0x1f44c828>"
      ]
     },
     "metadata": {},
     "output_type": "display_data"
    }
   ],
   "source": [
    "Sports_Outdoors['overall'].value_counts('1').plot(kind='Bar')"
   ]
  },
  {
   "cell_type": "code",
   "execution_count": 20,
   "metadata": {
    "collapsed": true
   },
   "outputs": [],
   "source": [
    "# creating a positive negative column where positive review (4-5) are 1 and negative reviews (1-3) are 0.\n",
    "Sports_Outdoors['pos_neg'] = Sports_Outdoors['overall'].apply(lambda x: 1 if x > 3 else 0)\n",
    "Sports_Outdoors[\"overall\"] = Sports_Outdoors[\"overall\"].apply(lambda x: '1' if x > 3 else '0')"
   ]
  },
  {
   "cell_type": "code",
   "execution_count": 21,
   "metadata": {
    "collapsed": false
   },
   "outputs": [
    {
     "data": {
      "text/plain": [
       "<matplotlib.text.Text at 0x85f06ef0>"
      ]
     },
     "execution_count": 21,
     "metadata": {},
     "output_type": "execute_result"
    },
    {
     "data": {
      "image/png": "[encoded data removed]",
      "text/plain": [
       "<matplotlib.figure.Figure at 0x1f44cac8>"
      ]
     },
     "metadata": {},
     "output_type": "display_data"
    }
   ],
   "source": [
    "Sports_Outdoors['overall'].value_counts('1').plot(kind='Bar', color=['b','r'])\n",
    "plt.xlabel('review sentiment')\n",
    "plt.ylabel('Percentage')"
   ]
  },
  {
   "cell_type": "code",
   "execution_count": 22,
   "metadata": {
    "collapsed": false
   },
   "outputs": [
    {
     "name": "stdout",
     "output_type": "stream",
     "text": [
      "Number of unique Products in the Sports and Outdoors Category = 18357\n"
     ]
    }
   ],
   "source": [
    "products = Sports_Outdoors['overall'].groupby(Sports_Outdoors['asin']).count()\n",
    "print (\"Number of unique Products in the Sports and Outdoors Category = {}\".format(products.count()))"
   ]
  },
  {
   "cell_type": "code",
   "execution_count": 23,
   "metadata": {
    "collapsed": false
   },
   "outputs": [
    {
     "name": "stdout",
     "output_type": "stream",
     "text": [
      "Top 20 Reviewed Products:\n",
      "\n",
      "asin\n",
      "B001HBHNHE    1042\n",
      "B001T7QJ9O     763\n",
      "B000S5ODN2     647\n",
      "B0010O748Q     513\n",
      "B0000C50K3     427\n",
      "B002ZYRV2E     401\n",
      "B002OKWHVO     398\n",
      "B000GCRWCG     393\n",
      "B001HBHNHY     372\n",
      "B0035L35A8     359\n",
      "B004U8CP88     357\n",
      "B001WJ577O     355\n",
      "B004TNWD40     349\n",
      "B006X9DLQM     344\n",
      "B00178CS4K     343\n",
      "B006QF3TW4     323\n",
      "B003NFI092     309\n",
      "B00200E0HM     307\n",
      "B001949TKS     298\n",
      "B000JZ7JM8     293\n",
      "Name: overall, dtype: int64\n",
      "\n",
      "Most Reviewed Product, B001HBHNHE has 1042 reviews\n"
     ]
    }
   ],
   "source": [
    "#Top 20 Products\n",
    "sorted_products = products.sort_values(ascending=False)\n",
    "print (\"Top 20 Reviewed Products:\\n\")\n",
    "print (sorted_products[:20])\n",
    "print (\"\\nMost Reviewed Product, B001HBHNHE has {} reviews\".format(products.max()))"
   ]
  },
  {
   "cell_type": "code",
   "execution_count": 24,
   "metadata": {
    "collapsed": false
   },
   "outputs": [
    {
     "name": "stdout",
     "output_type": "stream",
     "text": [
      "Bottom 20 Reviewed Products:\n",
      "\n",
      "asin\n",
      "B003VN1U7K    5\n",
      "B003VZIWZQ    5\n",
      "B00BFXAIEY    5\n",
      "B000T1VZCW    5\n",
      "B000TH4MMG    5\n",
      "B003XDWY32    5\n",
      "B000T29STI    5\n",
      "B003WXR992    5\n",
      "B003WXJOEA    5\n",
      "B000TAADTO    5\n",
      "B00BGI7R38    5\n",
      "B003WHHXAS    5\n",
      "B000TTR0JG    5\n",
      "B003WHA1N4    5\n",
      "B000TRKTUK    5\n",
      "B000TTHVYA    5\n",
      "B003WGUEEG    5\n",
      "B000TTM3OI    5\n",
      "B003WDTI78    5\n",
      "B003Z6HUZE    5\n",
      "Name: overall, dtype: int64\n",
      "\n",
      "Most Reviewed Product, B003Z6HUZE has 5 reviews\n"
     ]
    }
   ],
   "source": [
    "#Bottom 20 Products\n",
    "sorted_products = products.sort_values(ascending=False)\n",
    "print (\"Bottom 20 Reviewed Products:\\n\")\n",
    "print (sorted_products[18337:])\n",
    "print (\"\\nMost Reviewed Product, B003Z6HUZE has {} reviews\".format(products.min()))"
   ]
  },
  {
   "cell_type": "code",
   "execution_count": 25,
   "metadata": {
    "collapsed": false
   },
   "outputs": [
    {
     "name": "stdout",
     "output_type": "stream",
     "text": [
      "('Number of overall reviews:', 296337)\n"
     ]
    }
   ],
   "source": [
    "print(\"Number of overall reviews:\", len(Sports_Outdoors.pos_neg))"
   ]
  },
  {
   "cell_type": "code",
   "execution_count": 26,
   "metadata": {
    "collapsed": false
   },
   "outputs": [
    {
     "name": "stdout",
     "output_type": "stream",
     "text": [
      "('Number of positive reviews: ', 253017)\n",
      "('Percent of reviews: ', 85.38150821530893)\n"
     ]
    }
   ],
   "source": [
    "print('Number of positive reviews: ', Sports_Outdoors.pos_neg.sum())\n",
    "print('Percent of reviews: ', Sports_Outdoors.pos_neg.sum()/len(Sports_Outdoors.pos_neg)*100)"
   ]
  },
  {
   "cell_type": "code",
   "execution_count": 27,
   "metadata": {
    "collapsed": false
   },
   "outputs": [
    {
     "name": "stdout",
     "output_type": "stream",
     "text": [
      "('Number of negative reviews: ', 43320)\n",
      "('Percent of reviews: ', 14.618491784691079)\n"
     ]
    }
   ],
   "source": [
    "print('Number of negative reviews: ', 296337-253017)\n",
    "print('Percent of reviews: ', 43320/len(Sports_Outdoors.pos_neg)*100)"
   ]
  },
  {
   "cell_type": "code",
   "execution_count": 28,
   "metadata": {
    "collapsed": false
   },
   "outputs": [
    {
     "name": "stdout",
     "output_type": "stream",
     "text": [
      "('Number of unique reviewers: ', 35598)\n"
     ]
    }
   ],
   "source": [
    "print('Number of unique reviewers: ', len(set(Sports_Outdoors.reviewerID)))"
   ]
  },
  {
   "cell_type": "code",
   "execution_count": 29,
   "metadata": {
    "collapsed": false
   },
   "outputs": [
    {
     "name": "stdout",
     "output_type": "stream",
     "text": [
      "('Average Length of Reviews: ', 44.456190080887637)\n"
     ]
    }
   ],
   "source": [
    "length = []\n",
    "for review in Sports_Outdoors.reviewText_tok:\n",
    "    length.append(len(review))\n",
    "print('Average Length of Reviews: ', np.mean(length))"
   ]
  },
  {
   "cell_type": "code",
   "execution_count": 30,
   "metadata": {
    "collapsed": false
   },
   "outputs": [
    {
     "data": {
      "text/plain": [
       "<matplotlib.text.Text at 0x8632b320>"
      ]
     },
     "execution_count": 30,
     "metadata": {},
     "output_type": "execute_result"
    },
    {
     "data": {
      "image/png": "[encoded data removed]",
      "text/plain": [
       "<matplotlib.figure.Figure at 0x86107278>"
      ]
     },
     "metadata": {},
     "output_type": "display_data"
    }
   ],
   "source": [
    "plt.hist(length, bins=200);\n",
    "plt.xlim((0,600))\n",
    "plt.title('Length of Reviews')"
   ]
  },
  {
   "cell_type": "code",
   "execution_count": 31,
   "metadata": {
    "collapsed": true
   },
   "outputs": [],
   "source": [
    "pos_reviews = Sports_Outdoors[Sports_Outdoors.pos_neg == 1]"
   ]
  },
  {
   "cell_type": "code",
   "execution_count": 32,
   "metadata": {
    "collapsed": false
   },
   "outputs": [
    {
     "name": "stdout",
     "output_type": "stream",
     "text": [
      "('Average Length of Positive Reviews: ', 43.419758356157885)\n"
     ]
    }
   ],
   "source": [
    "pos_length = []\n",
    "for review in pos_reviews.reviewText_tok:\n",
    "    pos_length.append(len(review))\n",
    "print('Average Length of Positive Reviews: ', np.mean(pos_length))"
   ]
  },
  {
   "cell_type": "code",
   "execution_count": 33,
   "metadata": {
    "collapsed": false
   },
   "outputs": [
    {
     "data": {
      "text/plain": [
       "<matplotlib.text.Text at 0x86ce02e8>"
      ]
     },
     "execution_count": 33,
     "metadata": {},
     "output_type": "execute_result"
    },
    {
     "data": {
      "image/png": "[encoded data removed]",
      "text/plain": [
       "<matplotlib.figure.Figure at 0x86265390>"
      ]
     },
     "metadata": {},
     "output_type": "display_data"
    }
   ],
   "source": [
    "plt.hist(pos_length, bins=200);\n",
    "plt.xlim((0,600))\n",
    "plt.title('Positive Reviews')"
   ]
  },
  {
   "cell_type": "code",
   "execution_count": 34,
   "metadata": {
    "collapsed": false
   },
   "outputs": [
    {
     "name": "stdout",
     "output_type": "stream",
     "text": [
      "('Average Length of Negative Reviews: ', 44.456190080887637)\n"
     ]
    }
   ],
   "source": [
    "neg_reviews = Sports_Outdoors[Sports_Outdoors.pos_neg == 0]\n",
    "neg_length = []\n",
    "for review in neg_reviews.reviewText_tok:\n",
    "    neg_length.append(len(review))\n",
    "print('Average Length of Negative Reviews: ', np.mean(length))"
   ]
  },
  {
   "cell_type": "code",
   "execution_count": 35,
   "metadata": {
    "collapsed": false
   },
   "outputs": [
    {
     "data": {
      "text/plain": [
       "<matplotlib.text.Text at 0x86c33940>"
      ]
     },
     "execution_count": 35,
     "metadata": {},
     "output_type": "execute_result"
    },
    {
     "data": {
      "image/png": "[encoded data removed]",
      "text/plain": [
       "<matplotlib.figure.Figure at 0x86d68550>"
      ]
     },
     "metadata": {},
     "output_type": "display_data"
    }
   ],
   "source": [
    "plt.hist(neg_length, bins=200);\n",
    "plt.xlim((0,600))\n",
    "plt.title('Negative Reviews')"
   ]
  },
  {
   "cell_type": "code",
   "execution_count": 37,
   "metadata": {
    "collapsed": false
   },
   "outputs": [
    {
     "data": {
      "text/plain": [
       "0     came time veru happy haved used already makes ...\n",
       "1     factory glock tool using glock 26 27 17 since ...\n",
       "2     3 32 punch would like one glock bag okay butt ...\n",
       "3     works better 3 32 punch would find hardware st...\n",
       "4     purchased thinking maybe need special tool eas...\n",
       "5     needed tool really break g22 works perfectly d...\n",
       "6            u get need completely take glock model gen\n",
       "7     light doubt capture attention night time drive...\n",
       "8     light laser torch work well bright installed t...\n",
       "9     everything says would like 34 lane 34 markings...\n",
       "10    bright would recommend lite anyone put one wif...\n",
       "Name: reviewText, dtype: object"
      ]
     },
     "execution_count": 37,
     "metadata": {},
     "output_type": "execute_result"
    }
   ],
   "source": [
    "Sports_Outdoors['reviewText'][:11]"
   ]
  },
  {
   "cell_type": "code",
   "execution_count": 38,
   "metadata": {
    "collapsed": true
   },
   "outputs": [],
   "source": [
    "reviews = Sports_Outdoors['reviewText']"
   ]
  },
  {
   "cell_type": "code",
   "execution_count": 39,
   "metadata": {
    "collapsed": true
   },
   "outputs": [],
   "source": [
    "stops = stopwords.words('english')"
   ]
  },
  {
   "cell_type": "code",
   "execution_count": 40,
   "metadata": {
    "collapsed": true
   },
   "outputs": [],
   "source": [
    "def tokenize(text):\n",
    "    tokenized = word_tokenize(text)\n",
    "    no_punc = []\n",
    "    for review in tokenized:\n",
    "        line = \"\".join(char for char in review if char not in string.punctuation)\n",
    "        no_punc.append(line)\n",
    "    tokens = lemmatize(no_punc)\n",
    "    return tokens\n",
    "\n",
    "\n",
    "def lemmatize(tokens):\n",
    "    lmtzr = WordNetLemmatizer()\n",
    "    lemma = [lmtzr.lemmatize(t) for t in tokens]\n",
    "    return lemma"
   ]
  },
  {
   "cell_type": "code",
   "execution_count": 41,
   "metadata": {
    "collapsed": true
   },
   "outputs": [],
   "source": [
    "reviews = reviews.apply(lambda x: tokenize(x))"
   ]
  },
  {
   "cell_type": "code",
   "execution_count": 42,
   "metadata": {
    "collapsed": false
   },
   "outputs": [
    {
     "data": {
      "text/plain": [
       "0     [came, time, veru, happy, haved, used, already...\n",
       "1     [factory, glock, tool, using, glock, 26, 27, 1...\n",
       "2     [3, 32, punch, would, like, one, glock, bag, o...\n",
       "3     [work, better, 3, 32, punch, would, find, hard...\n",
       "4     [purchased, thinking, maybe, need, special, to...\n",
       "5     [needed, tool, really, break, g22, work, perfe...\n",
       "6     [u, get, need, completely, take, glock, model,...\n",
       "7     [light, doubt, capture, attention, night, time...\n",
       "8     [light, laser, torch, work, well, bright, inst...\n",
       "9     [everything, say, would, like, 34, lane, 34, m...\n",
       "10    [bright, would, recommend, lite, anyone, put, ...\n",
       "Name: reviewText, dtype: object"
      ]
     },
     "execution_count": 42,
     "metadata": {},
     "output_type": "execute_result"
    }
   ],
   "source": [
    "reviews[:11]"
   ]
  },
  {
   "cell_type": "code",
   "execution_count": 44,
   "metadata": {
    "collapsed": false
   },
   "outputs": [],
   "source": [
    "cloud = wordcloud.WordCloud(background_color='black', max_font_size=60, \n",
    "                                relative_scaling=1).generate(' '.join(Sports_Outdoors.reviewText))"
   ]
  },
  {
   "cell_type": "code",
   "execution_count": 45,
   "metadata": {
    "collapsed": false
   },
   "outputs": [
    {
     "data": {
      "image/png": "[encoded data removed]",
      "text/plain": [
       "<matplotlib.figure.Figure at 0x14d0b36d8>"
      ]
     },
     "metadata": {},
     "output_type": "display_data"
    }
   ],
   "source": [
    "fig = plt.figure(figsize=(20, 10))\n",
    "plt.axis('off')\n",
    "plt.imshow(cloud);"
   ]
  },
  {
   "cell_type": "code",
   "execution_count": 48,
   "metadata": {
    "collapsed": false
   },
   "outputs": [
    {
     "name": "stdout",
     "output_type": "stream",
     "text": [
      "[nltk_data] Downloading package punkt to C:\\Users\\Danny\n",
      "[nltk_data]     Arenson\\AppData\\Roaming\\nltk_data...\n",
      "[nltk_data]   Package punkt is already up-to-date!\n"
     ]
    }
   ],
   "source": [
    "nltk.download('punkt')\n",
    "from nltk.tokenize import sent_tokenize, word_tokenize\n",
    "from nltk.stem import WordNetLemmatizer\n",
    "from nltk.corpus import stopwords\n",
    "from nltk import FreqDist\n",
    "from nltk.tokenize import RegexpTokenizer"
   ]
  },
  {
   "cell_type": "code",
   "execution_count": 49,
   "metadata": {
    "collapsed": true
   },
   "outputs": [],
   "source": [
    "stop = stopwords.words('english')\n",
    "lemmatizer = WordNetLemmatizer()"
   ]
  },
  {
   "cell_type": "code",
   "execution_count": 51,
   "metadata": {
    "collapsed": true
   },
   "outputs": [],
   "source": [
    "tokens = Sports_Outdoors[\"summary\"].apply(nltk.word_tokenize)"
   ]
  },
  {
   "cell_type": "code",
   "execution_count": 52,
   "metadata": {
    "collapsed": false
   },
   "outputs": [
    {
     "data": {
      "text/plain": [
       "0                                   [Woks, very, good]\n",
       "1            [Works, as, well, as, the, factory, tool]\n",
       "2              [It, 's, a, punch, ,, that, 's, all, .]\n",
       "3          [It, 's, a, punch, with, a, Glock, logo, .]\n",
       "4    [Ok, ,, tool, does, what, a, regular, punch, d...\n",
       "Name: summary, dtype: object"
      ]
     },
     "execution_count": 52,
     "metadata": {},
     "output_type": "execute_result"
    }
   ],
   "source": [
    "tokens.head()"
   ]
  },
  {
   "cell_type": "code",
   "execution_count": 54,
   "metadata": {
    "collapsed": true
   },
   "outputs": [],
   "source": [
    "from __future__ import print_function\n",
    "import string\n",
    "from string import maketrans"
   ]
  },
  {
   "cell_type": "code",
   "execution_count": 55,
   "metadata": {
    "collapsed": true
   },
   "outputs": [],
   "source": [
    "lemmatizer = nltk.WordNetLemmatizer()\n",
    "stop = stopwords.words('english')\n",
    "translation = string.maketrans(string.punctuation,' '*len(string.punctuation))\n",
    "def preprocess (eachline):\n",
    "    sentence = eachline.lower()\n",
    "    tokenizer = RegexpTokenizer(r'\\w+')\n",
    "    tokens = tokenizer.tokenize(sentence)\n",
    "    stop_words = (w for w in tokens if not w in stop)\n",
    "    clean_words =(w for w in stop_words if not w.isnumeric())\n",
    "    stemmed = [w for w in clean_words if lemmatizer.lemmatize(w)] \n",
    "    return ' '.join(stemmed)"
   ]
  },
  {
   "cell_type": "code",
   "execution_count": 56,
   "metadata": {
    "collapsed": true
   },
   "outputs": [],
   "source": [
    "cleaned_reviews = []\n",
    "for w in Sports_Outdoors['summary']:\n",
    "    cleaned_reviews.append(preprocess(w))"
   ]
  },
  {
   "cell_type": "code",
   "execution_count": 57,
   "metadata": {
    "collapsed": false
   },
   "outputs": [
    {
     "data": {
      "text/plain": [
       "[u'woks good',\n",
       " u'works well factory tool',\n",
       " u'punch',\n",
       " u'punch glock logo',\n",
       " u'ok tool regular punch',\n",
       " u'glock punch tool needed glock applications',\n",
       " u'great tool',\n",
       " u'bright',\n",
       " u'seen',\n",
       " u'bicycle rear tail light',\n",
       " u'great lite',\n",
       " u'worth price charge',\n",
       " u'bargain',\n",
       " u'bulky',\n",
       " u'love',\n",
       " u'bulky',\n",
       " u'rear bike light',\n",
       " u'needed little modification',\n",
       " u'good light price laser iight cool factor',\n",
       " u'resistance good quality',\n",
       " u'girlfriend loves',\n",
       " u'opposed resistance',\n",
       " u'bought purple one',\n",
       " u'good resistance band',\n",
       " u'great device',\n",
       " u'great product even greater company',\n",
       " u'excellent product',\n",
       " u'gym bag',\n",
       " u'great set',\n",
       " u'love',\n",
       " u'versatile',\n",
       " u'short',\n",
       " u'super',\n",
       " u'lovin',\n",
       " u'excellent bands',\n",
       " u'quick easy economical',\n",
       " u'works great travel cheapest way workout home',\n",
       " u'high quality bands',\n",
       " u'perfect',\n",
       " u'broke extrememly fast inconvenient',\n",
       " u'resistance bands',\n",
       " u'work great',\n",
       " u'band discoloration',\n",
       " u'quality product quality workout cheap',\n",
       " u'useful',\n",
       " u'wow',\n",
       " u'good basic set',\n",
       " u'great',\n",
       " u'effective great quality',\n",
       " u'cables long',\n",
       " u'potential dangerous',\n",
       " u'beats competition',\n",
       " u'love',\n",
       " u'gym',\n",
       " u'great resistance band set',\n",
       " u'takes getting used',\n",
       " u'impressed',\n",
       " u'seems okay',\n",
       " u'good',\n",
       " u'awesome',\n",
       " u'great set functional bands training home',\n",
       " u'bands time time far good elasticity great accessories come',\n",
       " u'gym bag',\n",
       " u'great workouts resistance bands',\n",
       " u'best class lot room improvement',\n",
       " u'good basic workout',\n",
       " u'good quality good accessories',\n",
       " u'great quick workout',\n",
       " u'truck driver use',\n",
       " u'great traveling professionals',\n",
       " u'black mountain products ups game',\n",
       " u'like bands',\n",
       " u'work great',\n",
       " u'love love love bands',\n",
       " u'good product fair price',\n",
       " u'defective careful',\n",
       " u'worth',\n",
       " u'great product money',\n",
       " u'really great',\n",
       " u'nice set resistance bands',\n",
       " u'nice set',\n",
       " u'work well p90x',\n",
       " u'black mountain',\n",
       " u'needs gyms',\n",
       " u'great p90x',\n",
       " u'lightweight',\n",
       " u'good bands',\n",
       " u'resistance band set black mountain products',\n",
       " u'nice set resistance bands',\n",
       " u'great bands',\n",
       " u'works great needs minimal completely evaluate product',\n",
       " u'awesome kit would paid single band walmart',\n",
       " u'good money',\n",
       " u'advertised',\n",
       " u'great product awesome warranty amazing customer service',\n",
       " u'wore fast',\n",
       " u'resistance bands',\n",
       " u'bought sets',\n",
       " u'good starter set',\n",
       " u'great product',\n",
       " u'gym bag',\n",
       " u'awesome',\n",
       " u'black mountain resistance bands rock',\n",
       " u'quick anywhere workout',\n",
       " u'great little package',\n",
       " u'bands great',\n",
       " u'well made',\n",
       " u'bought gift son loves',\n",
       " u'like ones gym',\n",
       " u'great bands',\n",
       " u'totally great',\n",
       " u'advertised',\n",
       " u'good size',\n",
       " u'great exercise routine including p90x well physical therapy',\n",
       " u'arms ripped',\n",
       " u'strong durable',\n",
       " u'durable',\n",
       " u'perfect',\n",
       " u'great',\n",
       " u'advertised',\n",
       " u'great product money',\n",
       " u'terrific range weights',\n",
       " u'pleased',\n",
       " u'good great',\n",
       " u'great versatility',\n",
       " u'got pt',\n",
       " u'good bands',\n",
       " u'good rehabilitation product',\n",
       " u'good',\n",
       " u'could better',\n",
       " u'excellent bands travel',\n",
       " u'wonderful product',\n",
       " u'worst kit',\n",
       " u'complete kit',\n",
       " u'worth',\n",
       " u'plastic tips cleaning rods suck',\n",
       " u'missing parts cheaply made',\n",
       " u'great kit',\n",
       " u'cleaning kit',\n",
       " u'waste rmoney',\n",
       " u'standard cleaning kit',\n",
       " u'large kit',\n",
       " u'handy traveling',\n",
       " u'gots lots',\n",
       " u'slam cleaning fantastic',\n",
       " u'spend extra money better kit',\n",
       " u'excellent starter kit',\n",
       " u'outers gun cleaning kit',\n",
       " u'excellent product excellent value added service',\n",
       " u'year',\n",
       " u'excellent accessory safe dumbbell training',\n",
       " u'use everytime',\n",
       " u'works great',\n",
       " u'must',\n",
       " u'perfect yr old crowd',\n",
       " u'awesome fort',\n",
       " u'toddlers love thing',\n",
       " u'group fun toy',\n",
       " u'great fun',\n",
       " u'kids love',\n",
       " u'use dog tunnel',\n",
       " u'puppy loves',\n",
       " u'perfect tunnel training energetic puppy',\n",
       " u'works great training dog agility',\n",
       " u'sons loves',\n",
       " u'worth ball return',\n",
       " u'nice office',\n",
       " u'stand place putt away',\n",
       " u'cheaply made toy',\n",
       " u'putting mat',\n",
       " u'putt n hazard fun ball return totally inconsistent',\n",
       " u'pretty much yawner',\n",
       " u'good practicing technique',\n",
       " u'huge hit entire family',\n",
       " u'putting mat',\n",
       " u'alright seen better',\n",
       " u'low quality product',\n",
       " u'really good gift fun practice',\n",
       " u'bucks maybe',\n",
       " u'low quality build',\n",
       " u'cheaply made product',\n",
       " u'good practice',\n",
       " u'lots fun',\n",
       " u'fun challenging',\n",
       " u'great gift',\n",
       " u'fun practice',\n",
       " u'eye detail',\n",
       " u'bit disappointing',\n",
       " u'absolutley best multi tool',\n",
       " u'wow thing like work art',\n",
       " u'swiss made',\n",
       " u'great multitool',\n",
       " u'best multi tools',\n",
       " u'plus years counting',\n",
       " u'best multi tool ever bought',\n",
       " u'tough heavy hard',\n",
       " u'beat leatherman game',\n",
       " u'victorinox multi tool',\n",
       " u'always side',\n",
       " u'top line heavy multi tool',\n",
       " u'best insulator leaks',\n",
       " u'big sturdy cooler',\n",
       " u'dump coach',\n",
       " u'life',\n",
       " u'water cooler',\n",
       " u'nice cooler',\n",
       " u'excellent cheap camping air mat',\n",
       " u'good pool float',\n",
       " u'cheap product',\n",
       " u'excellent pool float',\n",
       " u'best pool raft money',\n",
       " u'different use terrific product',\n",
       " u'got sleeping bag padding purpose excellent',\n",
       " u'good purchase',\n",
       " u'meh',\n",
       " u'bit different old days still great',\n",
       " u'wham trac ball racket game',\n",
       " u'one best backyard games ever invented',\n",
       " u'like kid',\n",
       " u'family love',\n",
       " u'favorite',\n",
       " u'fun durable',\n",
       " u'excellent net soccer training',\n",
       " u'great practice net',\n",
       " u'rebounder works great',\n",
       " u'months outside works great',\n",
       " u'great product',\n",
       " u'classic gem must',\n",
       " u'loving item already',\n",
       " u'great stove top giddle use broiling',\n",
       " u'worth trouble cast iron care',\n",
       " u'big warping heavy messy piece',\n",
       " u'good features excellent value',\n",
       " u'excellent value price',\n",
       " u'bushnell 12x25 vs nikon 10x25',\n",
       " u'good product',\n",
       " u'spy big eyes',\n",
       " u'fit',\n",
       " u'potential',\n",
       " u'well made',\n",
       " u'ruger gp beretta px4 storm usage',\n",
       " u'fits p220',\n",
       " u'quality lock',\n",
       " u'good sort lock gets',\n",
       " u'good built',\n",
       " u'guns protection',\n",
       " u'optimized 1911a1',\n",
       " u'safety priority',\n",
       " u'thing great',\n",
       " u'needed feel confident grand',\n",
       " u'secure simple scratch finish take unnecessary space',\n",
       " u'fit guns',\n",
       " u'really fit ar',\n",
       " u'fits like glove',\n",
       " u'feel much safer',\n",
       " u'nra insrtuctor',\n",
       " u'job',\n",
       " u'great purchase guns',\n",
       " u'gun saftey quick access',\n",
       " u'four five bad',\n",
       " u'works well price',\n",
       " u'cheap protection',\n",
       " u'love',\n",
       " u'inexpensive took seconds engage trigger',\n",
       " u'awesome quality',\n",
       " u'hooray key',\n",
       " u'great price',\n",
       " u'high quality parts easy use',\n",
       " u'keeps kids away fail unlock',\n",
       " u'master lock',\n",
       " u'little cheap works intended',\n",
       " u'better nothing maybe 2nd security',\n",
       " u'supposed',\n",
       " u'fits well easy operate safe expensive firearms',\n",
       " u'great little lock',\n",
       " u'great lock',\n",
       " u'simple',\n",
       " u'work well combo lock nice addition',\n",
       " u'master lock 94dspt digit combination gun lock',\n",
       " u'perfect',\n",
       " u'wow',\n",
       " u'works well',\n",
       " u'simple lock good deal',\n",
       " u'combo lock safety',\n",
       " u'great product reputable manufacturer',\n",
       " u'works',\n",
       " u'good',\n",
       " u'flash light',\n",
       " u'works deterrent gets way',\n",
       " u'even firearms gun cabinet',\n",
       " u'fits well seems sturdy locking mechanism smooth',\n",
       " u'great child proofing',\n",
       " u'great product grade',\n",
       " u'good quality standard combination trigger lock',\n",
       " u'secondary lock',\n",
       " u'trigger lock',\n",
       " u'works great',\n",
       " u'gunlock',\n",
       " u'great combo lock',\n",
       " u'good security lost key',\n",
       " u'one guns always stored',\n",
       " u'safety',\n",
       " u'safety item',\n",
       " u'great lock',\n",
       " u'handful',\n",
       " u'impressed',\n",
       " u'great alternative key locks',\n",
       " u'gun lock',\n",
       " u'must',\n",
       " u'works well',\n",
       " '',\n",
       " u'master lock digit combination gun lock',\n",
       " u'works multiple guns',\n",
       " u'supposed good price',\n",
       " u'anyone keeps firearm home protection one',\n",
       " u'job',\n",
       " u'safety first',\n",
       " u'works pretty well',\n",
       " u'buy need',\n",
       " u'much bigger appears',\n",
       " u'best trigger lock available market',\n",
       " u'trigger lock',\n",
       " u'excellent security manner firearms',\n",
       " u'secure safe',\n",
       " u'keys',\n",
       " u'secure lock thick',\n",
       " u'little add insurance',\n",
       " u'four stars',\n",
       " u'good trigger lock',\n",
       " u'great lock',\n",
       " u'gets job done',\n",
       " u'fits nicely',\n",
       " u'great little lock beats using key',\n",
       " u'fit walther p99',\n",
       " u'secure gun lock',\n",
       " u'okay gets job done semi happy',\n",
       " u'w p',\n",
       " u'great safety device',\n",
       " u'bulky',\n",
       " u'disappointed',\n",
       " u'quick easy use',\n",
       " u'like',\n",
       " u'perfect combo security quick access',\n",
       " u'great idea less perfect execution',\n",
       " u'keep kids',\n",
       " u'sturdy known brand cheap',\n",
       " u'must',\n",
       " u'hey lock',\n",
       " u'prefer locks',\n",
       " u'nice',\n",
       " u'easy use',\n",
       " u'never use another gun lock besides one',\n",
       " u'safe convinient firearm trigger lock',\n",
       " u'keeps guns secure unintended use',\n",
       " u'right',\n",
       " u'lock gun',\n",
       " u'za_survivalist decent quick access sturdy',\n",
       " u'trigger lock',\n",
       " u'sturdy construction',\n",
       " u'master lock rifle',\n",
       " u'fit well',\n",
       " u'great product',\n",
       " u'good price little klunky',\n",
       " u'good lock handguns rifles',\n",
       " u'works everything',\n",
       " u'piece mind',\n",
       " u'lot bigger expected good bad',\n",
       " u'exactly need',\n",
       " u'would buy',\n",
       " u'must safe accessable weapons',\n",
       " u'great lock design',\n",
       " u'work well lever action rifles',\n",
       " u'nice quick lock',\n",
       " u'excellent designed use',\n",
       " u'keeps trigger inaccessible',\n",
       " u'great',\n",
       " u'serviceable',\n",
       " u'good price poor durability',\n",
       " u'good get good price',\n",
       " u'durable',\n",
       " u'good product',\n",
       " u'great',\n",
       " u'great',\n",
       " u'rubber bases',\n",
       " u'wow great bases',\n",
       " u'durable',\n",
       " u'great waffle bases',\n",
       " u'nice set bases',\n",
       " u'good product',\n",
       " u'solid performer backyard baseball game',\n",
       " u'nice quality rubber bases',\n",
       " u'fireline',\n",
       " u'fireline continues best',\n",
       " u'multipurpose line beading fishing',\n",
       " u'fishing great beaders',\n",
       " u'sheds color',\n",
       " u'could harder determine line strength',\n",
       " u'canon 10x30 binoculars',\n",
       " u'knock socks',\n",
       " u'fantastic binoculars year warranty',\n",
       " u'excellent optics',\n",
       " u'things rule',\n",
       " u'canon binocs',\n",
       " u'image stabilzation makes difference',\n",
       " u'love',\n",
       " u'awesome binos',\n",
       " u'gamechanger',\n",
       " u'absolute fun',\n",
       " u'good',\n",
       " u'great replica ball',\n",
       " u'yr old loves',\n",
       " u'good nephew',\n",
       " u'bad mini football',\n",
       " u'study stainless steel frame good materials construction',\n",
       " u'part childhood',\n",
       " u'best trike available quite reasonably priced given quality',\n",
       " u'built like tank big kids',\n",
       " u'retro beauty big heavy tough squeak squeak squeak rustable steel',\n",
       " u'rusts easily watch',\n",
       " u'dangerous tricycle',\n",
       " u'great little trike money',\n",
       " u'time favorite knife',\n",
       " u'great knive',\n",
       " u'lovely precision knife money',\n",
       " u'excellent knife',\n",
       " u'great utility knife',\n",
       " u'excellent companion spec elite',\n",
       " u'excellent knife',\n",
       " u'awesome knife',\n",
       " u'knife rocks',\n",
       " u'excellent well rounded purpose tool set',\n",
       " u'right tool',\n",
       " u'love lost',\n",
       " u'works great',\n",
       " u'daily use',\n",
       " u'nice knife',\n",
       " u'love knife',\n",
       " u'great knife',\n",
       " u'simple effective bit large heavy pocket',\n",
       " u'extremely well built knife',\n",
       " u'times good',\n",
       " u'great outdoor knife',\n",
       " u'absolutely stellar belt knife',\n",
       " u'best large knife money',\n",
       " u'great item',\n",
       " u'gerber folding clip point serrated gator kife',\n",
       " u'great money',\n",
       " u'love knife',\n",
       " u'fine knife one big caveat',\n",
       " u'great grip sharp',\n",
       " u'great knife great price',\n",
       " u'great nife great price',\n",
       " u'perfect knife',\n",
       " u'excellent knife',\n",
       " u'around excellent knife',\n",
       " u'blade',\n",
       " u'great knife',\n",
       " u'real ez stylish',\n",
       " u'long time fan',\n",
       " u'favorite pocket knife design',\n",
       " u'great knife price',\n",
       " u'great knife great price',\n",
       " u'excellent blade made usa',\n",
       " u'great knife',\n",
       " u'awesome knife well built gerber',\n",
       " u'gift friend',\n",
       " u'lightweight pocket knife',\n",
       " u'perfect henckels serrated bread knife',\n",
       " u'diamond sharp',\n",
       " u'really works steel terrible',\n",
       " u'work like charm',\n",
       " u'sharpening dmt diamond grit tools excellent',\n",
       " u'simply best sharpener kitchen knives',\n",
       " u'simply works great',\n",
       " u'great option',\n",
       " u'mini sharpener',\n",
       " u'handy sharperner works',\n",
       " u'great tool',\n",
       " u'nice little sharpener keychain',\n",
       " u'manny',\n",
       " u'portable fragile sharpener',\n",
       " u'stay sharp',\n",
       " u'holy crap',\n",
       " '',\n",
       " u'handy sharpener',\n",
       " u'excellent product go wrong purchase',\n",
       " u'good product',\n",
       " u'awesome product',\n",
       " u'great product',\n",
       " u'missing stone',\n",
       " u'excellent honing ski edges',\n",
       " u'good kit',\n",
       " u'dmt high quality diamond stone',\n",
       " u'small useful',\n",
       " u'bit small perfect hunting knifes pocket knives swords',\n",
       " u'good trunk tackle box',\n",
       " u'handy',\n",
       " u'bought lost least two keep coming back',\n",
       " u'dull second knife',\n",
       " u'best ever used',\n",
       " u'perfect one sharpener solution especailly longer sheath accessory pouch',\n",
       " u'diamond knife sharpener',\n",
       " u'dmt fwef double sided diafold sharpener fine extra fine',\n",
       " u'mighty sharp',\n",
       " u'job',\n",
       " u'nice',\n",
       " u'fast easy',\n",
       " u'awesome knife sharpener',\n",
       " u'amazing',\n",
       " u'good limited purpose sharpener',\n",
       " u'great sharpener',\n",
       " u'excellent sharpener',\n",
       " u'excellent carried edc backpack every day',\n",
       " u'far best easiest',\n",
       " u'dmt fwfc double sided diafold sharpener fine coarse',\n",
       " u'fast work',\n",
       " u'five stars',\n",
       " u'excellent sharpener',\n",
       " u'great sharpener',\n",
       " u'best pocket sharpener available',\n",
       " '',\n",
       " u'good product easy use',\n",
       " u'good sharpener',\n",
       " u'nice good',\n",
       " u'fantastic',\n",
       " u'job',\n",
       " u'great product',\n",
       " u'dmt fine extre fine',\n",
       " u'impressive even sharpen',\n",
       " u'easy use',\n",
       " u'better could price',\n",
       " u'sharpens quickly',\n",
       " u'good product decent price american made',\n",
       " u'effective sharpening tool',\n",
       " u'excellent starter travel sharpener',\n",
       " u'excellent sharpener',\n",
       " u'works',\n",
       " u'sharpen sharp diamonds',\n",
       " u'greatest sharpener ever',\n",
       " u'swish swish swish swish blade razor sharp ready use',\n",
       " u'expensive worth price',\n",
       " u'durable would think',\n",
       " u'sharpen without',\n",
       " u'good way hold stones different lengths',\n",
       " u'makes sharping knide easy',\n",
       " u'get duosharp bench stone must',\n",
       " u'okay',\n",
       " u'could use litle traction expected',\n",
       " u'quality whetstone base ridiculously low price',\n",
       " u'works great',\n",
       " u'works perfectly dmt duo sharp stones',\n",
       " u'great product',\n",
       " u'great set',\n",
       " u'good',\n",
       " u'sturdy fun',\n",
       " u'sturdy little net',\n",
       " u'nice sport goal',\n",
       " u'good value set',\n",
       " u'kids love',\n",
       " u'best victorinox',\n",
       " u'favourite victorinox swiss army knife',\n",
       " u'best swiss army knife',\n",
       " u'stars',\n",
       " u'perfect everyday tool set',\n",
       " u'good',\n",
       " u'great gift awesome every day tool',\n",
       " u'classic',\n",
       " u'loved lost ordered exact duplicate',\n",
       " u'like much cellidor sd',\n",
       " u'pocket knife ants',\n",
       " u'great anyone',\n",
       " u'carry wherever go um except airport',\n",
       " u'great pocket tool',\n",
       " u'keyring wrong end',\n",
       " u'bought',\n",
       " u'great every day knife',\n",
       " u'good value',\n",
       " u'swiss army quality miniature size',\n",
       " u'baby mcgyver way baby',\n",
       " u'indispensable',\n",
       " u'great',\n",
       " u'great sidekick',\n",
       " u'white classic',\n",
       " u'cute',\n",
       " u'swiss army knife',\n",
       " u'handy little knife highly recommended',\n",
       " u'swiss rescue',\n",
       " u'perfect key chain',\n",
       " u'nice little knife',\n",
       " u'go wrong',\n",
       " u'bought girlfriend',\n",
       " u'best knife ever',\n",
       " u'handy tool',\n",
       " u'perfect',\n",
       " u'makes great gift',\n",
       " u'great gift idea',\n",
       " u'best best',\n",
       " u'super cute version classic',\n",
       " u'indispensable leave home without',\n",
       " u'perfect keychain pocket knife',\n",
       " u'would feel unprepared day without',\n",
       " u'lost without',\n",
       " u'smallest quality pocket knives',\n",
       " u'love little knife',\n",
       " u'victorinox swiss army classic pocket knife black',\n",
       " u'cute',\n",
       " u'best mini',\n",
       " u'great key chain',\n",
       " u'excellent',\n",
       " u'great tiny tool',\n",
       " u'use everyday',\n",
       " u'everyone needs one',\n",
       " u'must tool',\n",
       " u'cute handy little swiss knife',\n",
       " u'kind cute',\n",
       " u'swiss army classic',\n",
       " u'great first knife',\n",
       " u'sak classic',\n",
       " u'love',\n",
       " u'nice',\n",
       " u'love',\n",
       " u'best',\n",
       " u'irish celtic',\n",
       " u'nice 1st pocket knife',\n",
       " u'victorinox swiss army knife',\n",
       " u'good reading sizes',\n",
       " u'nice slim silver alox',\n",
       " u'practical basic good thing',\n",
       " u'probably 10th one',\n",
       " u'classic reason',\n",
       " u'great little knife non traditional color',\n",
       " u'excellent',\n",
       " u'great little knife',\n",
       " u'beautiful',\n",
       " u'hopefully tsa legal',\n",
       " u'useful',\n",
       " u'real daily carry',\n",
       " u'wmd',\n",
       " u'great knife useful many common tasks',\n",
       " u'simple functional',\n",
       " u'great keychain tool',\n",
       " u'classic',\n",
       " u'tiny',\n",
       " u'old faithful',\n",
       " u'victorinox pocket power',\n",
       " u'must edc',\n",
       " u'good quality great gift item',\n",
       " u'survival knife review swiss army knife classic',\n",
       " u'comparing alox vs plastic scales models',\n",
       " u'going carry pocket knife',\n",
       " u'real girly quality keychain sized pocket knife',\n",
       " u'great gift',\n",
       " u'like lot',\n",
       " u'tiny yet terribly useful',\n",
       " u'great gift',\n",
       " u'perfect keychain use',\n",
       " u'great small knive',\n",
       " u'classic lives',\n",
       " u'great small first knife',\n",
       " u'outstanding keychain knife',\n",
       " u'swiss army quality less',\n",
       " u'best everyday knife gal could',\n",
       " u'good starter knife',\n",
       " u'love knives',\n",
       " u'box cutter benefits',\n",
       " u'another tsa caused purchase',\n",
       " u'excellent basic swiss army knife',\n",
       " u'little pocket knife',\n",
       " u'oh handy',\n",
       " u'best pocket knife husband ever',\n",
       " u'go wrong swiss army',\n",
       " u'useful little gift',\n",
       " u'saw blade',\n",
       " u'poor scissor feature',\n",
       " u'smaller expected',\n",
       " u'like getting old friend back',\n",
       " u'make wife happy',\n",
       " u'life without knife would different',\n",
       " u'classic',\n",
       " u'love little pocket knife keychain',\n",
       " u'indispensible',\n",
       " u'fifth one',\n",
       " u'perfect tiny knife keychain',\n",
       " u'amazing tool',\n",
       " u'little serious knife',\n",
       " u'victorinox classic',\n",
       " u'quality classic',\n",
       " u'key ring wrong end',\n",
       " u'great',\n",
       " u'carry one',\n",
       " u'nice upgrade miss toothpick tweezers',\n",
       " u'great practical tool',\n",
       " u'handy',\n",
       " u'great small pocket knife pretty small',\n",
       " u'plain handy',\n",
       " u'great carry purse',\n",
       " u'handy tool',\n",
       " u'great size',\n",
       " u'best little lady knife ever',\n",
       " u'perfect classic',\n",
       " u'great gift dad',\n",
       " u'presentation little jewel horrible',\n",
       " u'fine little pocket key chain knife',\n",
       " u'victorinox classic sd pocket knife',\n",
       " u'gift',\n",
       " u'ditto',\n",
       " u'victorinox swiss army classic sd pocket knife blue',\n",
       " u'great keychain knife',\n",
       " u'great first knife kid',\n",
       " u'practical inexpensive keychain tool',\n",
       " u'replaces one',\n",
       " u'sleek sharp',\n",
       " u'perfect key chain practical',\n",
       " u'get leatherman micra instead',\n",
       " u'tool could better',\n",
       " u'great tool',\n",
       " u'worst credit card knives',\n",
       " u'handy good quality',\n",
       " u'novelty items great',\n",
       " '',\n",
       " u'cheesy',\n",
       " u'leave amex home leave home without',\n",
       " u'sharp',\n",
       " u'quality great',\n",
       " u'great tool',\n",
       " u'outstanding multitool',\n",
       " u'great looking functioning tool',\n",
       " u'great tool keep mind comes sheath nylon',\n",
       " u'aesthetic multi tool',\n",
       " u'love product',\n",
       " u'miss swiss',\n",
       " u'victorinox rs tool',\n",
       " u'swisstool rs heavy workhorse',\n",
       " u'swiss perfection',\n",
       " u'swisstool rs',\n",
       " u'awesome',\n",
       " u'like could better',\n",
       " u'quality general purpose multitool',\n",
       " u'best multitool',\n",
       " u'excellent multitool',\n",
       " u'best best',\n",
       " u'beautifully made',\n",
       " u'best multi tool',\n",
       " u'excellent multitool',\n",
       " u'fantastic construction weird design issues',\n",
       " u'great multi tool',\n",
       " u'say best multitool',\n",
       " u'yup sure five reference quality tool',\n",
       " u'old swiss army knife',\n",
       " u'good quality outdated tool selection',\n",
       " u'good starter knife throw kit useful swiss army knife best set tools',\n",
       " u'perfect knife',\n",
       " u'good choice edc',\n",
       " u'great inferior super tinker small tinker',\n",
       " u'great knife',\n",
       " u'channel inner macgyver',\n",
       " u'classic sak',\n",
       " u'size tools wise probably useful',\n",
       " u'perfect pocketknife day day use',\n",
       " u'victorinox tinker',\n",
       " u'victorinox swiss army tinker pocket knife victorinox swiss army tinker pocket knife',\n",
       " u'love knife',\n",
       " u'great knife',\n",
       " u'handy',\n",
       " u'still quality product',\n",
       " u'versatility small package small price',\n",
       " u'never without one',\n",
       " u'great around pocket knife',\n",
       " u'excellent basic knife',\n",
       " u'best swiss army knife',\n",
       " u'arrived good condition advertised',\n",
       " u'swiss army',\n",
       " u'useful particular knife good set',\n",
       " u'climber silvertech sweet',\n",
       " u'mcguyver special',\n",
       " u'cool tech',\n",
       " u'great tool',\n",
       " u'great product',\n",
       " u'good ol swiss army knife',\n",
       " u'victorinox original swiss army climber pocket knife red',\n",
       " u'great model general purpose use',\n",
       " u'quality',\n",
       " u'simple solid',\n",
       " u'great knife',\n",
       " u'carried knife years',\n",
       " u'like red silver good choice',\n",
       " u'name pocket knives victorinox',\n",
       " u'love knife',\n",
       " u'much larger classic',\n",
       " u'best',\n",
       " u'excellent pocket knife',\n",
       " u'perfect',\n",
       " u'wow nice swiss army knife',\n",
       " u'great little pocket knife',\n",
       " u'right',\n",
       " u'favorite pocket knife',\n",
       " u'p e r f e c',\n",
       " u'fell flat',\n",
       " u'great price',\n",
       " u'basketball',\n",
       " u'good basketball',\n",
       " u'decent cheap bball',\n",
       " u'spalding intermediate basketball',\n",
       " u'cheap solid',\n",
       " u'lightweight durable functional backpacker review',\n",
       " u'great item',\n",
       " u'perfect river float',\n",
       " u'nice little boat worth money',\n",
       " u'love',\n",
       " u'trooper',\n",
       " u'looks good',\n",
       " u'price beat',\n",
       " u'pool toy',\n",
       " u'fun',\n",
       " u'nice boat kids',\n",
       " u'fun tough',\n",
       " u'works well',\n",
       " u'worked well kids riding breakers beach',\n",
       " u'great value price',\n",
       " u'fun',\n",
       " u'great boat',\n",
       " u'fun toy',\n",
       " u'love dr bonner products',\n",
       " u'plan using years hope get sick smell',\n",
       " u'bye bye winter legs',\n",
       " u'best around soap',\n",
       " u'soap',\n",
       " u'lived without',\n",
       " u'thin watered',\n",
       " u'times chemical world',\n",
       " u'dr bronner citrus soap acne brighting skin',\n",
       " u'staple soap needs diluting though',\n",
       " u'cleans good',\n",
       " u'amazing',\n",
       " u'last soap ever need',\n",
       " u'kidding',\n",
       " u'use everything',\n",
       " u'nothing bad',\n",
       " u'excellent product',\n",
       " u'smells great',\n",
       " u'fell love whole story soap included',\n",
       " u'absolutely love stuff',\n",
       " u'best camp backpacking bio soap',\n",
       " u'fantastic natural ethically produced soap everyone favorite rabbi chemist',\n",
       " u'great shampoo body wash',\n",
       " u'wonderful product',\n",
       " u'excellent soap',\n",
       " u'favorite body wash ever',\n",
       " u'far great',\n",
       " u'beat dr bronner',\n",
       " u'favorite bronner scent',\n",
       " u'favorite soap put pump dispenser around kids',\n",
       " u'fantastic camping backpacking purpose cleaner',\n",
       " u'simple clean',\n",
       " u'best body wash ever',\n",
       " u'smell strong',\n",
       " u'good smelling lackluster cleaning',\n",
       " u'tea tree bronner soap',\n",
       " u'answer question bottle sealed tamperproof style',\n",
       " u'lifelong user',\n",
       " u'weird smell wash hair',\n",
       " u'many uses',\n",
       " u'dr bronner peppermint soap',\n",
       " u'tingles',\n",
       " u'excellent soap',\n",
       " u'best soap',\n",
       " u'wonderful natural soap',\n",
       " u'love dr bonner soaps',\n",
       " u'gentle natural',\n",
       " u'love stuff',\n",
       " u'good stuff tingly skin',\n",
       " u'pure useful awesome',\n",
       " u'nice mild soap',\n",
       " u'little goes long way',\n",
       " u'good stuff backpacking',\n",
       " u'greatest soap ever',\n",
       " u'great product value',\n",
       " u'rats',\n",
       " u'love soap',\n",
       " u'always best',\n",
       " u'mint',\n",
       " u'get baby eyes',\n",
       " u'simply best soap ever used',\n",
       " u'strong lavender scent rich lather',\n",
       " u'hippy classic leave tingly clean',\n",
       " u'great product great price value',\n",
       " u'wait long try',\n",
       " u'good soap',\n",
       " u'cleans well smells fantastic',\n",
       " u'tingly candy cane',\n",
       " u'awesome stuff',\n",
       " u'best',\n",
       " u'favorite',\n",
       " u'tingly',\n",
       " u'using years mostly camping',\n",
       " u'love',\n",
       " u'great stuff',\n",
       " u'excellent product',\n",
       " u'better dr woods products',\n",
       " u'best soap ever',\n",
       " u'smells like gasoline',\n",
       " u'absolute fave soap citrus kitchen use',\n",
       " u'refreshing magic',\n",
       " u'pleasant soap',\n",
       " u'always great product',\n",
       " u'favorite since kid',\n",
       " u'pleasant scent gets clean without drying',\n",
       " u'great',\n",
       " u'natural effective aromatherapeutic',\n",
       " u'cooling',\n",
       " u'excellent skin conditions',\n",
       " u'good soap could without preachy label',\n",
       " u'love stuff',\n",
       " u'excellent product',\n",
       " u'best soap ever',\n",
       " u'caught hype',\n",
       " u'castile soap rocks many things',\n",
       " u'really concentrated',\n",
       " u'buy',\n",
       " u'pleasantly surprised',\n",
       " u'never disappoints',\n",
       " u'best body wash available',\n",
       " u'another dr bronner fanatic',\n",
       " u'love soap',\n",
       " u'great product',\n",
       " u'try',\n",
       " u'may world best toddler shampoo',\n",
       " u'best soap ever',\n",
       " u'always good',\n",
       " u'threw',\n",
       " u'answer needs',\n",
       " u'life dr bronner soap',\n",
       " u'dr bronner pepperming soap',\n",
       " u'peppermint gives nice cooling effect',\n",
       " u'scent rose hemp great soap',\n",
       " u'opinion',\n",
       " u'clean open',\n",
       " u'five stars',\n",
       " u'great mild invigorating soap',\n",
       " u'love hippie soap',\n",
       " u'impressed',\n",
       " u'great product',\n",
       " u'best product ever',\n",
       " u'new product incredibly impressed',\n",
       " u'definitely cleans',\n",
       " u'always good might need refrigerated use slowly',\n",
       " u'still great',\n",
       " u'minty',\n",
       " u'come smelling like roses every morning',\n",
       " u'sure good soap',\n",
       " u'looooooove stuff',\n",
       " u'smells great works well',\n",
       " u'takes engine room yuck',\n",
       " u'lifesaver',\n",
       " u'soap used kid',\n",
       " u'great sensitive skin',\n",
       " u'missing instructions showers gal',\n",
       " u'gentle skin use little drying hair',\n",
       " u'tingly nice',\n",
       " u'good smelling soap',\n",
       " u'invigorating amazing product',\n",
       " u'stuff best',\n",
       " u'good soap body',\n",
       " u'dr bonner peppermint works great',\n",
       " u'love',\n",
       " u'magic soap almost almost',\n",
       " u'could better dr bronners',\n",
       " u'hate hippies',\n",
       " u'great product really use anything',\n",
       " u'fan',\n",
       " u'great shampoo',\n",
       " u'great soap',\n",
       " u'great soap',\n",
       " u'love dr bronners',\n",
       " u'excellent liquid soap',\n",
       " u'strong stuff',\n",
       " u'smells great little goes long way',\n",
       " u'love em',\n",
       " u'one clean',\n",
       " u'use loofah',\n",
       " u'love dr booner hippy soap',\n",
       " u'mostly use clean home',\n",
       " u'great soap watery',\n",
       " u'great size camping',\n",
       " u'excellent quality stability ball',\n",
       " u'make sure order one guarantees comes plug',\n",
       " u'thera band red 55cm slow deflate system pro series anti burst exercise ball',\n",
       " u'ball exercise ball',\n",
       " u'like balls',\n",
       " u'sturdy',\n",
       " u'inch ball orange red complaint',\n",
       " u'fit perfectly',\n",
       " u'good wheels',\n",
       " u'developed flat spots kind quickly',\n",
       " u'perfect replacements wheels',\n",
       " u'decent replacement wheels',\n",
       " u'bike car rack',\n",
       " u'clips scratch car mounting pain',\n",
       " u'excellent value investment',\n",
       " u'fits toyota 4runner spoiler',\n",
       " ...]"
      ]
     },
     "execution_count": 57,
     "metadata": {},
     "output_type": "execute_result"
    }
   ],
   "source": [
    "cleaned_reviews"
   ]
  },
  {
   "cell_type": "markdown",
   "metadata": {},
   "source": [
    "## Textblob"
   ]
  },
  {
   "cell_type": "code",
   "execution_count": 58,
   "metadata": {
    "collapsed": true
   },
   "outputs": [],
   "source": [
    "# read the entire file into a python array\n",
    "with open('Sports_and_Outdoors_5.json', 'rb') as f:\n",
    "    reviews = f.readlines()\n",
    "\n",
    "data = [line.decode('utf-8') for line in reviews]\n",
    "# remove the trailing \"\\n\" from each line\n",
    "data_clean = map(lambda x: x.rstrip(), data)\n",
    "\n",
    "data_json_str = \"[\" + ','.join(data_clean) + \"]\"\n",
    "\n",
    "# now, load it into pandas\n",
    "Sports_Outdoors = pd.read_json((data_json_str))"
   ]
  },
  {
   "cell_type": "code",
   "execution_count": 61,
   "metadata": {
    "collapsed": false
   },
   "outputs": [
    {
     "name": "stdout",
     "output_type": "stream",
     "text": [
      "18357\n"
     ]
    },
    {
     "data": {
      "text/plain": [
       "asin\n",
       "1881509818    This came time I veru happy it, I haved used a...\n",
       "2094869245    This light doubt capture attention night-time ...\n",
       "7245456259    So worked well couple weeks, lunge workout, sn...\n",
       "7245456313    These bands claimed sizex good 5'7 inch 145 pd...\n",
       "B000002NUS    I bought Walmart price Amazon. On first use, c...\n",
       "Name: reviewText, dtype: object"
      ]
     },
     "execution_count": 61,
     "metadata": {},
     "output_type": "execute_result"
    }
   ],
   "source": [
    "grouped = Sports_Outdoors['reviewText'].groupby(Sports_Outdoors['asin']).sum()\n",
    "print(len(grouped))\n",
    "grouped.head()"
   ]
  },
  {
   "cell_type": "code",
   "execution_count": 62,
   "metadata": {
    "collapsed": true
   },
   "outputs": [],
   "source": [
    "first = grouped[grouped.index[0]]"
   ]
  },
  {
   "cell_type": "code",
   "execution_count": 63,
   "metadata": {
    "collapsed": true
   },
   "outputs": [],
   "source": [
    "# x must be an asin number from the grouped series\n",
    "def product_sentiment(x):\n",
    "    reviews = TextBlob(grouped[str(x)])\n",
    "    return reviews.sentiment.polarity"
   ]
  },
  {
   "cell_type": "code",
   "execution_count": 64,
   "metadata": {
    "collapsed": false
   },
   "outputs": [
    {
     "data": {
      "text/plain": [
       "0.2639930555555555"
      ]
     },
     "execution_count": 64,
     "metadata": {},
     "output_type": "execute_result"
    }
   ],
   "source": [
    "product_sentiment(7245456259)"
   ]
  },
  {
   "cell_type": "code",
   "execution_count": 65,
   "metadata": {
    "collapsed": true
   },
   "outputs": [],
   "source": [
    "sentiments = []\n",
    "for x in grouped.index:\n",
    "    sentiments.append(product_sentiment(x))"
   ]
  },
  {
   "cell_type": "code",
   "execution_count": 66,
   "metadata": {
    "collapsed": false
   },
   "outputs": [
    {
     "data": {
      "image/png": "[encoded data removed]",
      "text/plain": [
       "<matplotlib.figure.Figure at 0x189fad4a8>"
      ]
     },
     "metadata": {},
     "output_type": "display_data"
    }
   ],
   "source": [
    "plot = sns.distplot(sentiments, color='y');\n",
    "plot.set(xlabel='Polarity Score', ylabel='1x10^3')\n",
    "plt.title('Sentiments')\n",
    "plt.show()"
   ]
  },
  {
   "cell_type": "code",
   "execution_count": 67,
   "metadata": {
    "collapsed": false
   },
   "outputs": [
    {
     "data": {
      "text/plain": [
       "0.20201951395492149"
      ]
     },
     "execution_count": 67,
     "metadata": {},
     "output_type": "execute_result"
    }
   ],
   "source": [
    "np.mean(sentiments)"
   ]
  },
  {
   "cell_type": "code",
   "execution_count": 68,
   "metadata": {
    "collapsed": false
   },
   "outputs": [
    {
     "data": {
      "text/plain": [
       "[-0.17878787878787875,\n",
       " -0.1143939393939394,\n",
       " -0.046568627450980386,\n",
       " -0.037255602496566384,\n",
       " -0.035192147034252295]"
      ]
     },
     "execution_count": 68,
     "metadata": {},
     "output_type": "execute_result"
    }
   ],
   "source": [
    "sort_sentiments_neg = sorted(sentiments)\n",
    "sort_sentiments_neg[:5]"
   ]
  },
  {
   "cell_type": "code",
   "execution_count": 69,
   "metadata": {
    "collapsed": false
   },
   "outputs": [
    {
     "data": {
      "text/plain": [
       "[0.6448717948717948,\n",
       " 0.6000000000000001,\n",
       " 0.567,\n",
       " 0.5547202797202797,\n",
       " 0.5540343915343915]"
      ]
     },
     "execution_count": 69,
     "metadata": {},
     "output_type": "execute_result"
    }
   ],
   "source": [
    "sort_sentiments_pos = sorted(sentiments, reverse=True)\n",
    "sort_sentiments_pos[:5]"
   ]
  },
  {
   "cell_type": "code",
   "execution_count": 70,
   "metadata": {
    "collapsed": true
   },
   "outputs": [],
   "source": [
    "def product_num(x):\n",
    "    return grouped.index[sentiments.index(x)]"
   ]
  },
  {
   "cell_type": "markdown",
   "metadata": {},
   "source": [
    "### Most Negative"
   ]
  },
  {
   "cell_type": "code",
   "execution_count": 71,
   "metadata": {
    "collapsed": false
   },
   "outputs": [
    {
     "data": {
      "text/plain": [
       "[0.2804029304029304,\n",
       " 0.28491830065359475,\n",
       " 0.2639930555555555,\n",
       " 0.23882643787524263,\n",
       " 0.15316961076306868,\n",
       " 0.1511040022069434,\n",
       " 0.16199494949494944,\n",
       " 0.212502639636786,\n",
       " 0.06650013451708366,\n",
       " 0.16716983265490726,\n",
       " 0.30172101449275357,\n",
       " 0.153871370175718,\n",
       " 0.14280961791831356,\n",
       " 0.16637931034482759,\n",
       " 0.264305740987984,\n",
       " 0.2021759259259259,\n",
       " 0.2300400979642051,\n",
       " 0.23715876349143336,\n",
       " 0.07097560975609757,\n",
       " 0.11516025641025639,\n",
       " 0.17458791208791213,\n",
       " 0.2931752993595099,\n",
       " 0.1746031746031746,\n",
       " 0.08481763511402686,\n",
       " 0.1206519431861898,\n",
       " 0.12134157509157512,\n",
       " 0.203729827005689,\n",
       " 0.2535737734487734,\n",
       " 0.17077343816314397,\n",
       " 0.17826721763085396,\n",
       " 0.1898137480798771,\n",
       " 0.19563900560224093,\n",
       " 0.20208535651966314,\n",
       " -0.009992784992785001,\n",
       " 0.22552931387608807,\n",
       " 0.154932719985076,\n",
       " 0.1504861663561878,\n",
       " 0.16382713371398724,\n",
       " 0.19722733563590034,\n",
       " 0.23248788638262327,\n",
       " 0.13983891804297527,\n",
       " 0.2092245542717241,\n",
       " 0.2634353741496598,\n",
       " 0.17576530612244895,\n",
       " 0.2995325118351434,\n",
       " 0.23254252533537279,\n",
       " 0.14845068197109015,\n",
       " 0.22548701298701299,\n",
       " 0.23101868595539485,\n",
       " 0.14602521356699627,\n",
       " 0.2626331057258892,\n",
       " 0.27592687074829936,\n",
       " 0.22224817514046238,\n",
       " 0.19267257133110782,\n",
       " 0.15157262211783487,\n",
       " 0.2223338293650794,\n",
       " 0.1703428208518029,\n",
       " 0.06322753695579782,\n",
       " 0.21857443094539872,\n",
       " 0.11363372093023255,\n",
       " 0.2042523997634618,\n",
       " 0.1556103896103896,\n",
       " 0.08570892943534454,\n",
       " 0.0943059415278695,\n",
       " 0.23628430438063455,\n",
       " 0.22465835446604676,\n",
       " 0.128219696969697,\n",
       " 0.2593631925954101,\n",
       " 0.17287981859410428,\n",
       " 0.2695888329357719,\n",
       " 0.2460898512057049,\n",
       " 0.15835137085137083,\n",
       " 0.14731150016171568,\n",
       " 0.07364578414010231,\n",
       " 0.12140225875118262,\n",
       " 0.20413155660069232,\n",
       " 0.07787442396313364,\n",
       " 0.07280658641769754,\n",
       " 0.0426190476190476,\n",
       " 0.1447916666666667,\n",
       " 0.06810344827586207,\n",
       " 0.10572248102139412,\n",
       " 0.12899310565977232,\n",
       " 0.13231631794131796,\n",
       " 0.20464940098661039,\n",
       " 0.18846798428109107,\n",
       " 0.20732004218004235,\n",
       " 0.15821759259259258,\n",
       " 0.16358134920634929,\n",
       " 0.08035501700680273,\n",
       " 0.1982550705467373,\n",
       " 0.21270847465291914,\n",
       " 0.20065511243855977,\n",
       " 0.17588154705865305,\n",
       " 0.19416546732994105,\n",
       " 0.12335518102372037,\n",
       " 0.2507633016208597,\n",
       " 0.19728880752816916,\n",
       " 0.14477272727272728,\n",
       " 0.2802732914777699,\n",
       " 0.16693371943371935,\n",
       " 0.19132093607851178,\n",
       " 0.10681671626984125,\n",
       " 0.30010808270676687,\n",
       " 0.3755411255411254,\n",
       " 0.2068189775910364,\n",
       " 0.14466301282815047,\n",
       " 0.19520376175548584,\n",
       " 0.14563492063492064,\n",
       " 0.16602116402116404,\n",
       " 0.2029345512520626,\n",
       " 0.2949383654170888,\n",
       " 0.20805463270579552,\n",
       " 0.2644689957593184,\n",
       " 0.18080895008605857,\n",
       " 0.21755175983436856,\n",
       " 0.256982604551412,\n",
       " 0.18892154382414117,\n",
       " 0.1662878787878788,\n",
       " 0.17121771776569614,\n",
       " 0.3228810645137177,\n",
       " 0.292511574074074,\n",
       " 0.04959490740740745,\n",
       " 0.26360636645962743,\n",
       " 0.5083739177489178,\n",
       " 0.18006296865014282,\n",
       " 0.16740498202362605,\n",
       " 0.05032177643784787,\n",
       " 0.19923575455552206,\n",
       " 0.15585020085020088,\n",
       " 0.15088648530956217,\n",
       " 0.05717703349282296,\n",
       " 0.23833498677248674,\n",
       " 0.3403947368421053,\n",
       " 0.2714761904761904,\n",
       " 0.19940934771443247,\n",
       " 0.11779568945266619,\n",
       " 0.13839766773311077,\n",
       " 0.15945898258340177,\n",
       " 0.17743769372132606,\n",
       " 0.17042956349206348,\n",
       " 0.275462962962963,\n",
       " 0.22925396825396827,\n",
       " 0.26113026819923374,\n",
       " 0.17270258980785283,\n",
       " 0.147250612635228,\n",
       " 0.1897453703703704,\n",
       " 0.15030197444831592,\n",
       " 0.20923913043478265,\n",
       " 0.1922190712513293,\n",
       " 0.25446874999999997,\n",
       " 0.21501337129054515,\n",
       " 0.27350240607606674,\n",
       " 0.1568815331010453,\n",
       " 0.15869669337754444,\n",
       " 0.3304715219421102,\n",
       " 0.17218597262952096,\n",
       " 0.19073660714285715,\n",
       " 0.2180703259005146,\n",
       " 0.171599839554385,\n",
       " 0.1193627450980392,\n",
       " 0.1435956790123457,\n",
       " 0.19153363997113995,\n",
       " 0.1716353493527406,\n",
       " 0.07098907910271544,\n",
       " 0.26722222222222225,\n",
       " 0.24347222222222223,\n",
       " 0.14290190107050574,\n",
       " 0.1644816988566989,\n",
       " 0.1125653082549634,\n",
       " 0.07098239919214498,\n",
       " 0.15137269193391642,\n",
       " 0.13813852813852814,\n",
       " 0.29496512746512754,\n",
       " 0.2107456140350878,\n",
       " 0.33613095238095236,\n",
       " 0.029097402597402587,\n",
       " 0.19064285714285717,\n",
       " 0.10010513296227581,\n",
       " 0.23099999999999998,\n",
       " 0.18385416666666665,\n",
       " 0.2933514030612244,\n",
       " 0.16908104976418933,\n",
       " 0.2823529411764706,\n",
       " 0.01388888888888891,\n",
       " 0.11499999999999999,\n",
       " 0.1498789353650465,\n",
       " 0.1861607142857143,\n",
       " 0.18633475661184393,\n",
       " 0.18610263140435535,\n",
       " 0.1270691609977324,\n",
       " 0.19958987193362196,\n",
       " 0.17594619666048242,\n",
       " 0.13128732378732386,\n",
       " 0.11916431704260654,\n",
       " 0.18391865079365083,\n",
       " 0.38166666666666665,\n",
       " 0.2008757730364873,\n",
       " 0.2013852813852814,\n",
       " 0.2178045977011495,\n",
       " 0.2291019144623968,\n",
       " 0.10701960076960072,\n",
       " 0.1893197723185408,\n",
       " 0.1431303507347915,\n",
       " 0.29746651785714295,\n",
       " 0.20043174910196188,\n",
       " 0.22318181818181818,\n",
       " 0.24668003565062388,\n",
       " 0.19431599753381926,\n",
       " 0.19687796400536792,\n",
       " 0.12246525404420142,\n",
       " 0.21651034151034146,\n",
       " 0.26328463203463204,\n",
       " 0.21112179487179486,\n",
       " 0.18073286052009457,\n",
       " 0.23611161215327872,\n",
       " 0.06833333333333333,\n",
       " 0.04727564102564102,\n",
       " 0.2001356589147287,\n",
       " 0.13267045454545454,\n",
       " 0.20283521303258148,\n",
       " 0.2675638371290545,\n",
       " 0.11614937641723362,\n",
       " 0.2265716685175676,\n",
       " 0.20265958617653537,\n",
       " 0.10785797535797532,\n",
       " 0.25631706256706266,\n",
       " 0.24103896103896089,\n",
       " 0.16541666666666668,\n",
       " 0.22581177131763655,\n",
       " 0.18062543846042042,\n",
       " 0.3717832341269842,\n",
       " 0.28723902726696027,\n",
       " 0.18293400915977437,\n",
       " 0.28034415584415584,\n",
       " 0.10166666666666668,\n",
       " 0.2736607142857143,\n",
       " 0.056352380952380925,\n",
       " 0.15900842044134728,\n",
       " 0.09384236453201969,\n",
       " 0.20958624708624712,\n",
       " 0.22198743386243397,\n",
       " 0.18125191307009494,\n",
       " 0.23984232103437406,\n",
       " 0.23448006903389348,\n",
       " 0.14129336846728147,\n",
       " 0.21573828470380194,\n",
       " 0.26785277136775076,\n",
       " 0.2287998168344574,\n",
       " 0.38269308943089436,\n",
       " 0.2592594834543987,\n",
       " 0.19860834256183094,\n",
       " 0.2671724700952641,\n",
       " 0.21796843796388274,\n",
       " 0.279136396011396,\n",
       " 0.23693919716646997,\n",
       " 0.19065933028549845,\n",
       " 0.3098626373626373,\n",
       " 0.2541187739463601,\n",
       " 0.40132218844984807,\n",
       " 0.30018964273274606,\n",
       " 0.16978715728715732,\n",
       " 0.22347774621212116,\n",
       " 0.40499999999999997,\n",
       " 0.17951159951159945,\n",
       " 0.3705762987012987,\n",
       " 0.17027417027417036,\n",
       " 0.2803333333333333,\n",
       " 0.27456536406536397,\n",
       " 0.17424242424242428,\n",
       " 0.2174868595813905,\n",
       " 0.19289223402859765,\n",
       " 0.2109492243867244,\n",
       " 0.24118488097420673,\n",
       " 0.28294117647058825,\n",
       " 0.27853071036106736,\n",
       " 0.12077560121038382,\n",
       " 0.2823402584335645,\n",
       " 0.26066998106060607,\n",
       " 0.24975255789961667,\n",
       " 0.2279023754023755,\n",
       " 0.3249483471074381,\n",
       " 0.13792561349693253,\n",
       " 0.21096320346320346,\n",
       " 0.23425981073020588,\n",
       " 0.20550355441659798,\n",
       " 0.22825714285714288,\n",
       " 0.33979591836734696,\n",
       " 0.228608273909998,\n",
       " 0.343488455988456,\n",
       " 0.1551041551041551,\n",
       " 0.36757992007992,\n",
       " 0.19212942612942613,\n",
       " 0.1850952380952381,\n",
       " 0.18072263356562127,\n",
       " 0.16199633699633698,\n",
       " 0.08750941188441191,\n",
       " 0.3077793040293041,\n",
       " 0.0855805243445693,\n",
       " 0.21570399764844211,\n",
       " 0.29222222222222216,\n",
       " 0.21317567567567572,\n",
       " 0.24669738863287252,\n",
       " 0.20347584349492748,\n",
       " 0.1726166026069518,\n",
       " 0.19492780981674232,\n",
       " 0.12808791208791206,\n",
       " 0.2394962519199025,\n",
       " 0.27847222222222223,\n",
       " 0.12580216450216453,\n",
       " 0.31159874608150473,\n",
       " 0.16979166666666667,\n",
       " 0.16359140102321917,\n",
       " 0.23880483943916778,\n",
       " 0.2764265188834156,\n",
       " 0.10858439303751803,\n",
       " 0.12652363184079604,\n",
       " 0.1310574927355749,\n",
       " 0.20906162464985992,\n",
       " 0.24995348641575058,\n",
       " 0.059972142919341206,\n",
       " 0.15749422799422802,\n",
       " 0.12825757575757574,\n",
       " 0.13899755495645913,\n",
       " 0.21790438397581252,\n",
       " 0.14235660595914523,\n",
       " 0.13306570255773437,\n",
       " 0.23992271032180676,\n",
       " 0.2219173441734417,\n",
       " 0.22943895643363715,\n",
       " 0.16183123249299722,\n",
       " 0.19779081808343166,\n",
       " 0.2172570346320346,\n",
       " 0.17780792872704634,\n",
       " 0.2029909611840305,\n",
       " 0.23083333333333333,\n",
       " 0.09808574466469207,\n",
       " 0.1310221528936613,\n",
       " 0.08964196800931497,\n",
       " 0.17643109432325113,\n",
       " 0.3032478632478633,\n",
       " 0.2400935374149659,\n",
       " 0.15444900483503418,\n",
       " 0.2895210622710622,\n",
       " 0.15220189701897013,\n",
       " 0.3106837606837607,\n",
       " 0.11829710144927538,\n",
       " 0.2827528654141557,\n",
       " 0.1548898927159797,\n",
       " 0.22290721918982778,\n",
       " 0.19508667027417032,\n",
       " 0.18564102564102566,\n",
       " 0.21544765840220384,\n",
       " 0.19772551092318538,\n",
       " 0.18954299943883282,\n",
       " 0.12266537069168648,\n",
       " 0.2414737654320987,\n",
       " 0.18313229265216024,\n",
       " 0.20489487179487179,\n",
       " 0.2936124794745485,\n",
       " 0.1726574500768049,\n",
       " 0.3632986111111111,\n",
       " 0.22943254631307722,\n",
       " 0.08440671965397241,\n",
       " 0.10660660660660663,\n",
       " 0.24226057928313968,\n",
       " 0.21787824534406586,\n",
       " 0.16399773884467758,\n",
       " 0.3102052785923754,\n",
       " 0.2681373979396131,\n",
       " 0.2239164847498181,\n",
       " 0.12823404856013548,\n",
       " 0.17371825396825397,\n",
       " 0.17752976190476186,\n",
       " 0.2863562091503268,\n",
       " 0.223859126984127,\n",
       " 0.2662202380952381,\n",
       " 0.19256931502545538,\n",
       " 0.2444551282051282,\n",
       " 0.1828824721377913,\n",
       " 0.2156911375661376,\n",
       " 0.18548316762602465,\n",
       " 0.11721597589653149,\n",
       " 0.18160153118486455,\n",
       " 0.165889455372214,\n",
       " 0.13817965367965362,\n",
       " 0.20434531938019057,\n",
       " 0.19393231280438306,\n",
       " 0.21764915639915636,\n",
       " 0.19025622769043826,\n",
       " 0.14716036420118062,\n",
       " 0.1690900383141763,\n",
       " 0.2502043650793651,\n",
       " 0.13201770451770453,\n",
       " 0.07255830903790088,\n",
       " 0.15844009594009592,\n",
       " 0.15041433989389386,\n",
       " 0.17990740740740738,\n",
       " 0.20809034219748504,\n",
       " 0.21105889507318068,\n",
       " 0.17778387287315858,\n",
       " 0.20542521994134894,\n",
       " 0.2418109668109668,\n",
       " 0.13782123056559142,\n",
       " 0.20035548941798942,\n",
       " 0.21890756302521008,\n",
       " 0.19766095119447089,\n",
       " 0.1597932851192548,\n",
       " 0.14050595238095243,\n",
       " 0.16795133973451515,\n",
       " 0.16569444444444448,\n",
       " 0.15733650291869475,\n",
       " 0.1981269592476489,\n",
       " 0.19361322751322751,\n",
       " 0.23812169312169315,\n",
       " 0.10161560988031575,\n",
       " 0.11039069433435623,\n",
       " 0.17047827903091062,\n",
       " 0.13506393095208896,\n",
       " 0.17100740279545718,\n",
       " 0.19752057613168725,\n",
       " 0.219179717341482,\n",
       " 0.1345866461646165,\n",
       " 0.1362175925925926,\n",
       " 0.28828221075633503,\n",
       " 0.1752930033676001,\n",
       " 0.23130490956072344,\n",
       " 0.21178574065635464,\n",
       " 0.1726196375042256,\n",
       " 0.24002102092463537,\n",
       " 0.28958333333333336,\n",
       " 0.17898765432098768,\n",
       " 0.14512962962962966,\n",
       " 0.1481334371754932,\n",
       " 0.22283713699154878,\n",
       " 0.24609740259740262,\n",
       " 0.17283950617283955,\n",
       " 0.3830357142857143,\n",
       " 0.16663456393793477,\n",
       " 0.24171772910997044,\n",
       " 0.16326727461973367,\n",
       " 0.15441648629148633,\n",
       " 0.1835277777777778,\n",
       " 0.16902860652860655,\n",
       " 0.25126891975948584,\n",
       " 0.09755434782608698,\n",
       " 0.30817513736263735,\n",
       " 0.17311663216011042,\n",
       " 0.11412480718515204,\n",
       " 0.12338171051609789,\n",
       " 0.21213797188002187,\n",
       " 0.16859173931091742,\n",
       " 0.08203703703703705,\n",
       " 0.15417553557553532,\n",
       " 0.19431348243672691,\n",
       " 0.08686401966089467,\n",
       " 0.21603648088023092,\n",
       " 0.13216911503796755,\n",
       " 0.203617867537359,\n",
       " 0.2835978835978836,\n",
       " 0.1744313262495081,\n",
       " 0.2416747572815534,\n",
       " 0.24532828282828284,\n",
       " 0.19268020248073445,\n",
       " 0.11883874458874458,\n",
       " 0.16358467363941814,\n",
       " 0.19547215619202235,\n",
       " 0.13108297258297255,\n",
       " 0.21599946202349554,\n",
       " 0.13886580086580086,\n",
       " 0.12705394963459482,\n",
       " 0.16158909717733247,\n",
       " 0.07683766233766239,\n",
       " 0.21515112433862435,\n",
       " 0.21977513227513235,\n",
       " 0.07690110134963075,\n",
       " 0.20472062148377945,\n",
       " 0.4153869047619047,\n",
       " 0.20422106947969018,\n",
       " 0.13804347826086955,\n",
       " 0.2793110435663627,\n",
       " 0.33288146377432076,\n",
       " 0.1959764579989299,\n",
       " 0.13401458190931875,\n",
       " 0.21034086284086292,\n",
       " 0.3805847684923772,\n",
       " 0.12928402847152845,\n",
       " 0.2357988267770876,\n",
       " 0.15465661322804178,\n",
       " 0.2115879235706822,\n",
       " 0.14035714285714285,\n",
       " 0.1270867724229793,\n",
       " 0.13110026041666667,\n",
       " 0.38869047619047625,\n",
       " 0.23799319727891155,\n",
       " 0.3954545454545455,\n",
       " 0.13333333333333336,\n",
       " 0.27497252747252743,\n",
       " 0.2381502923306202,\n",
       " 0.18728787878787884,\n",
       " 0.22177202714347263,\n",
       " 0.2558641975308642,\n",
       " 0.15473155545112782,\n",
       " 0.33383672003284076,\n",
       " 0.21267316017316024,\n",
       " 0.1350214795398282,\n",
       " 0.26967904761904754,\n",
       " 0.21365303065670715,\n",
       " 0.27186417748917746,\n",
       " 0.2916494692522093,\n",
       " 0.2523809523809524,\n",
       " 0.3006071428571428,\n",
       " 0.1837301587301587,\n",
       " 0.20814536340852133,\n",
       " 0.30891986062717774,\n",
       " 0.3280316091954023,\n",
       " 0.2084082134082134,\n",
       " 0.20672107928416364,\n",
       " 0.17150856389986827,\n",
       " 0.21693198122511034,\n",
       " 0.22894665138782783,\n",
       " 0.23347916666666674,\n",
       " 0.1920218087234894,\n",
       " 0.1716322055137845,\n",
       " 0.18746696286169975,\n",
       " 0.174317224582376,\n",
       " 0.163728083180138,\n",
       " 0.25964968424645846,\n",
       " 0.13645682777261728,\n",
       " 0.17151111111111114,\n",
       " 0.2043799603174603,\n",
       " 0.16918400052328625,\n",
       " 0.27577160493827163,\n",
       " 0.254186743489069,\n",
       " 0.26282642089093705,\n",
       " 0.23619194591416814,\n",
       " 0.19600970017636687,\n",
       " 0.37186702551834133,\n",
       " 0.19697372320140175,\n",
       " 0.3069564265099978,\n",
       " 0.3161803444782168,\n",
       " 0.20569444444444449,\n",
       " 0.4312356321839081,\n",
       " 0.18659047619047622,\n",
       " 0.21747419247419247,\n",
       " 0.23647186147186147,\n",
       " 0.3066701680672268,\n",
       " 0.13052134646962238,\n",
       " 0.19219696969696967,\n",
       " -0.037255602496566384,\n",
       " 0.18928926542207794,\n",
       " 0.22108861168071703,\n",
       " 0.2573198122224097,\n",
       " 0.40084706959706956,\n",
       " 0.1799571281583,\n",
       " 0.3226612903225806,\n",
       " 0.14306478405315615,\n",
       " 0.22176528013077562,\n",
       " 0.220219298245614,\n",
       " 0.32807787174066233,\n",
       " 0.24895408163265306,\n",
       " 0.27872023809523816,\n",
       " 0.21635805860805854,\n",
       " 0.2738678501064243,\n",
       " 0.15254852092352095,\n",
       " 0.48139784322820034,\n",
       " 0.2512575072351608,\n",
       " 0.16178328474246845,\n",
       " 0.0852974727974728,\n",
       " 0.19587301587301592,\n",
       " 0.22083313291646625,\n",
       " 0.23064529220779226,\n",
       " 0.281904761904762,\n",
       " 0.18066731141199224,\n",
       " 0.34816137566137567,\n",
       " 0.1967507854464376,\n",
       " 0.26562611161448374,\n",
       " 0.19833540483716128,\n",
       " 0.1737433937442267,\n",
       " 0.14534534534534532,\n",
       " 0.09131378722287818,\n",
       " 0.2467071935157042,\n",
       " 0.04925526344797177,\n",
       " 0.2750108212774878,\n",
       " 0.32904420579420574,\n",
       " 0.26330609719498627,\n",
       " 0.25436208445642405,\n",
       " 0.2615004162504161,\n",
       " 0.29621681536285493,\n",
       " 0.29327472527472515,\n",
       " 0.2694805194805195,\n",
       " 0.1424642220524573,\n",
       " 0.0995667774685632,\n",
       " 0.2000920840612784,\n",
       " 0.2006030444964871,\n",
       " 0.18769811216037607,\n",
       " 0.12591991341991343,\n",
       " 0.2925324675324676,\n",
       " 0.24098324514991185,\n",
       " 0.19485796072268668,\n",
       " 0.15632271008777027,\n",
       " 0.0972838345864662,\n",
       " 0.20716145833333333,\n",
       " 0.17298646723646724,\n",
       " 0.13712713602187285,\n",
       " 0.2720431852411548,\n",
       " 0.20101731601731604,\n",
       " 0.12566925998529774,\n",
       " 0.22669047619047625,\n",
       " 0.14047619047619048,\n",
       " 0.24383799027423464,\n",
       " 0.17624627976190474,\n",
       " 0.318187074829932,\n",
       " 0.27994505494505495,\n",
       " 0.2091286239013512,\n",
       " 0.133974358974359,\n",
       " 0.16101679394052273,\n",
       " 0.07703081232492999,\n",
       " 0.2088926024955436,\n",
       " 0.3465007215007215,\n",
       " 0.1343918918918919,\n",
       " 0.19188577215226962,\n",
       " 0.10058435417041976,\n",
       " 0.19293831168831171,\n",
       " 0.151667044595616,\n",
       " 0.2948809523809524,\n",
       " 0.15142452218982833,\n",
       " 0.14473008417685462,\n",
       " 0.13593180178407444,\n",
       " 0.15631285585329707,\n",
       " 0.15746241843533107,\n",
       " 0.054562324929972,\n",
       " 0.15870982142857143,\n",
       " 0.3051489683769513,\n",
       " 0.15991723962312202,\n",
       " 0.2800000000000001,\n",
       " 0.2938934915659054,\n",
       " 0.2261928613402669,\n",
       " 0.29177927927927927,\n",
       " 0.15871212121212122,\n",
       " 0.20658914728682165,\n",
       " 0.18867450925143228,\n",
       " 0.14440280643551673,\n",
       " 0.15324173954035755,\n",
       " 0.229089861197004,\n",
       " 0.20186050154170956,\n",
       " 0.04948783359497644,\n",
       " 0.3339384100747737,\n",
       " 0.2985304169514696,\n",
       " 0.22979265937899035,\n",
       " 0.3264042759961127,\n",
       " 0.27258842490842483,\n",
       " 0.304012539184953,\n",
       " 0.31003430860327397,\n",
       " 0.38100000000000006,\n",
       " 0.206512813852814,\n",
       " 0.19234954767454762,\n",
       " 0.21515213093784524,\n",
       " 0.21750534188034187,\n",
       " 0.21122586872586874,\n",
       " 0.35871980676328513,\n",
       " 0.18545238095238098,\n",
       " 0.2372002941650549,\n",
       " 0.2976070336391437,\n",
       " 0.2203525132275132,\n",
       " 0.20561504200927286,\n",
       " 0.1792687457404958,\n",
       " 0.1790919265919266,\n",
       " 0.2187121212121212,\n",
       " 0.09276094276094277,\n",
       " 0.2281622544122544,\n",
       " 0.25198924446131127,\n",
       " 0.23400537634408605,\n",
       " 0.17686822328950605,\n",
       " 0.07332451499118164,\n",
       " 0.1640539713909279,\n",
       " 0.20812499999999998,\n",
       " 0.2345537002679862,\n",
       " 0.2977418414918415,\n",
       " 0.13620330286996954,\n",
       " 0.2627705627705628,\n",
       " 0.1692287157287157,\n",
       " 0.18651785714285718,\n",
       " 0.17760621580066027,\n",
       " 0.2852775822238909,\n",
       " 0.27907354797979805,\n",
       " 0.1413431592388427,\n",
       " 0.26487985178663154,\n",
       " 0.22122334455667791,\n",
       " 0.2196832413708844,\n",
       " 0.2848710973710974,\n",
       " 0.2519576719576718,\n",
       " 0.06457823895880309,\n",
       " 0.19003155099986085,\n",
       " 0.21910665441915422,\n",
       " 0.2331221198156682,\n",
       " 0.20235042735042738,\n",
       " 0.22367498880429915,\n",
       " 0.3343240202779676,\n",
       " 0.1871212121212122,\n",
       " 0.12077284213595109,\n",
       " 0.15933683077750882,\n",
       " 0.14359410239521606,\n",
       " 0.16478119310208858,\n",
       " 0.1497023354796463,\n",
       " 0.11549464414380833,\n",
       " 0.17112030412398063,\n",
       " 0.15406809948629802,\n",
       " 0.19438862792054293,\n",
       " 0.1929840125437884,\n",
       " 0.18382337457580167,\n",
       " 0.3715538847117794,\n",
       " 0.21327341791979954,\n",
       " 0.20587499999999997,\n",
       " 0.31990065490065484,\n",
       " 0.24128427128427127,\n",
       " 0.12227919835970688,\n",
       " 0.3389768901132539,\n",
       " 0.19687710437710443,\n",
       " 0.13148148148148148,\n",
       " 0.2108170499225546,\n",
       " 0.16143074747035144,\n",
       " 0.2324270482603816,\n",
       " 0.26779448621553886,\n",
       " 0.2758336511972876,\n",
       " 0.25191197691197686,\n",
       " 0.13515824915824912,\n",
       " 0.21598152263019374,\n",
       " 0.25479794944638695,\n",
       " 0.20093000191429025,\n",
       " 0.2823373392776377,\n",
       " 0.33571411115765964,\n",
       " 0.2652775523088023,\n",
       " 0.24448662687886832,\n",
       " 0.16408179012345683,\n",
       " 0.12434148737528568,\n",
       " 0.1530948229666697,\n",
       " 0.22078941173768765,\n",
       " 0.10644289375632665,\n",
       " 0.19372412990206628,\n",
       " 0.21895161290322573,\n",
       " 0.237106833277046,\n",
       " 0.08995167373880243,\n",
       " 0.19339764641488785,\n",
       " 0.11010313216195569,\n",
       " 0.19112679955703213,\n",
       " 0.4133333333333334,\n",
       " 0.33261460761460765,\n",
       " 0.1834487580140391,\n",
       " 0.14476395730706074,\n",
       " 0.17491953262786597,\n",
       " 0.1449074074074074,\n",
       " 0.15616883116883118,\n",
       " 0.33889686783804424,\n",
       " 0.19720973782771534,\n",
       " 0.14466660361178368,\n",
       " 0.1628028404344194,\n",
       " 0.21014072014691032,\n",
       " 0.16468630179344468,\n",
       " 0.14393939393939395,\n",
       " 0.203658781694496,\n",
       " 0.18019255519255523,\n",
       " 0.13692546938309652,\n",
       " 0.17867753623188404,\n",
       " 0.17151679421768715,\n",
       " 0.2166960420531849,\n",
       " 0.22120401550351224,\n",
       " 0.18390446051838458,\n",
       " 0.2168803292666929,\n",
       " 0.2486117230983302,\n",
       " 0.1955595976981519,\n",
       " 0.23892831635255876,\n",
       " 0.1295451025938831,\n",
       " 0.1882661198450672,\n",
       " 0.12372870692992641,\n",
       " 0.1994846144846143,\n",
       " 0.18036651072941387,\n",
       " 0.21884325550992217,\n",
       " 0.1952426866063229,\n",
       " 0.17044782502443795,\n",
       " 0.05275537634408609,\n",
       " 0.23299843014128735,\n",
       " 0.16698115811129513,\n",
       " 0.2496309246309246,\n",
       " 0.33780701754385967,\n",
       " 0.27963680387409207,\n",
       " 0.06824573863636366,\n",
       " 0.23608843537414964,\n",
       " 0.22475452427287293,\n",
       " 0.28674484461079847,\n",
       " 0.18295762736160084,\n",
       " 0.18437655088940139,\n",
       " 0.22803884711779446,\n",
       " 0.16775345326975763,\n",
       " 0.11837236659352045,\n",
       " 0.07277770306616461,\n",
       " 0.12844342124476052,\n",
       " 0.17402777777777778,\n",
       " 0.216985820551997,\n",
       " 0.19915972860188866,\n",
       " 0.1592123447757251,\n",
       " 0.10791866135902832,\n",
       " 0.20625165343915336,\n",
       " 0.1713653794854349,\n",
       " 0.16895767175096763,\n",
       " 0.18272101624721698,\n",
       " 0.12399113553113554,\n",
       " 0.3214781746031746,\n",
       " 0.17259037889719706,\n",
       " 0.16395988539883885,\n",
       " 0.17982668067226884,\n",
       " 0.16386243386243385,\n",
       " 0.23259712860978687,\n",
       " 0.22316180586654716,\n",
       " 0.18886634199134192,\n",
       " 0.12585830640408113,\n",
       " 0.19743599334613168,\n",
       " 0.2676328148975207,\n",
       " 0.21655273995551755,\n",
       " 0.22910629251700673,\n",
       " 0.13545945165945164,\n",
       " 0.1818480725623583,\n",
       " 0.27770061728395057,\n",
       " 0.2097513902087073,\n",
       " 0.28536967418546366,\n",
       " 0.12607248960190137,\n",
       " 0.11078978406822718,\n",
       " 0.17353262370704228,\n",
       " 0.08847041572289094,\n",
       " 0.1926874601874602,\n",
       " 0.2862243500379093,\n",
       " 0.19372903563941293,\n",
       " 0.2489583333333334,\n",
       " 0.18638818027210885,\n",
       " 0.1820414912468484,\n",
       " 0.2743728222996516,\n",
       " 0.16284147869674184,\n",
       " 0.30225,\n",
       " 0.1973733535967579,\n",
       " 0.16843149540517963,\n",
       " 0.21173110223110223,\n",
       " 0.22082759269715788,\n",
       " 0.1262782982045277,\n",
       " 0.08702380952380953,\n",
       " 0.2965181771633385,\n",
       " 0.2658143939393939,\n",
       " 0.2763642676767676,\n",
       " 0.2785847154053679,\n",
       " 0.27843581991201055,\n",
       " 0.26943027210884357,\n",
       " 0.2224045801526717,\n",
       " 0.1954045058883769,\n",
       " 0.1630059131689566,\n",
       " 0.21330402930402925,\n",
       " 0.27131519274376414,\n",
       " 0.21569080369399868,\n",
       " 0.05139784946236559,\n",
       " 0.06785037878787878,\n",
       " 0.15240601503759404,\n",
       " 0.19984411421911413,\n",
       " 0.27589285714285716,\n",
       " 0.23902802893309213,\n",
       " 0.19509915670466135,\n",
       " 0.1565387918959347,\n",
       " 0.1486708837139872,\n",
       " 0.2145164462918639,\n",
       " 0.1371126510305615,\n",
       " 0.14945874056013922,\n",
       " 0.21119431643625194,\n",
       " 0.10384508348794062,\n",
       " 0.20219413345275422,\n",
       " 0.2814106338413816,\n",
       " 0.21736312399355884,\n",
       " 0.20676299443631385,\n",
       " 0.15905260541927202,\n",
       " 0.16446696224922033,\n",
       " 0.19100799663299667,\n",
       " 0.18680814869061863,\n",
       " 0.22911310208778563,\n",
       " 0.2357014017728304,\n",
       " 0.19601190476190475,\n",
       " 0.2955652281746032,\n",
       " 0.18806673237476815,\n",
       " 0.18944748952770338,\n",
       " 0.21025133554388872,\n",
       " 0.2784566326530612,\n",
       " 0.19962554010719152,\n",
       " 0.3743023255813953,\n",
       " 0.1563037367724867,\n",
       " 0.16135960085112633,\n",
       " 0.11649089079644635,\n",
       " 0.1286808300395257,\n",
       " 0.30264756944444454,\n",
       " 0.12412518037518036,\n",
       " 0.19969063190498734,\n",
       " 0.1259479717813051,\n",
       " 0.175332952458469,\n",
       " 0.25616001645413405,\n",
       " 0.2417436974789916,\n",
       " 0.18685125703173822,\n",
       " 0.3653296988577363,\n",
       " 0.24278915919760996,\n",
       " 0.26477845222410445,\n",
       " 0.21468730674087816,\n",
       " 0.20896385364272343,\n",
       " 0.0999743438379802,\n",
       " 0.18534958964646467,\n",
       " 0.2610119047619048,\n",
       " 0.38583333333333336,\n",
       " 0.22660535903629841,\n",
       " 0.15105191256830605,\n",
       " 0.13713589743589738,\n",
       " 0.1671910430839002,\n",
       " 0.08988653622799964,\n",
       " 0.13424404761904757,\n",
       " 0.15231986939614056,\n",
       " 0.23850559163059162,\n",
       " 0.1970452069716776,\n",
       " 0.19399540517961578,\n",
       " 0.22797448979591836,\n",
       " 0.23369713892258523,\n",
       " 0.2071091348265261,\n",
       " 0.22031970380378776,\n",
       " 0.3143939393939393,\n",
       " 0.19161111111111115,\n",
       " 0.1522226146249584,\n",
       " 0.12274305751900093,\n",
       " 0.28505050505050505,\n",
       " 0.20828150912106136,\n",
       " 0.169727478187743,\n",
       " 0.27327861952861954,\n",
       " 0.28163427657613704,\n",
       " 0.15896879162504154,\n",
       " 0.19849146224146225,\n",
       " 0.19625377053502044,\n",
       " 0.1780484693877551,\n",
       " 0.14534125151577992,\n",
       " 0.3121598639455782,\n",
       " 0.15150045228403444,\n",
       " 0.15579237594089076,\n",
       " 0.1885547512596693,\n",
       " 0.16628700600474794,\n",
       " 0.14577761500017603,\n",
       " 0.1167429718099361,\n",
       " 0.14024123099123093,\n",
       " 0.1665797652639758,\n",
       " 0.17059281979082863,\n",
       " 0.09411928651059087,\n",
       " 0.1355486988764978,\n",
       " 0.13728580718798117,\n",
       " 0.18541160327767478,\n",
       " 0.2593755411255412,\n",
       " 0.2444264069264069,\n",
       " 0.23672214422214427,\n",
       " 0.24638439046333785,\n",
       " 0.21745346320346326,\n",
       " 0.1527756070288538,\n",
       " 0.21221912305983096,\n",
       " 0.10003723677452492,\n",
       " 0.16433896120463282,\n",
       " 0.12281746031746031,\n",
       " 0.18273989898989904,\n",
       " 0.2809998620660385,\n",
       " 0.2195141196013289,\n",
       " 0.14610420010700909,\n",
       " 0.19368235930735928,\n",
       " 0.18819770001100478,\n",
       " 0.14683753501400562,\n",
       " 0.12380952380952381,\n",
       " 0.22136399371069182,\n",
       " 0.17357920056134343,\n",
       " 0.1980982330038934,\n",
       " 0.1708188516474305,\n",
       " 0.24611607142857148,\n",
       " 0.21101248661732533,\n",
       " 0.21806249999999996,\n",
       " 0.2041666666666667,\n",
       " 0.29663461538461533,\n",
       " 0.0724749576205887,\n",
       " 0.2719742063492064,\n",
       " 0.12063008130081296,\n",
       " 0.1404592803030303,\n",
       " 0.24779912870945447,\n",
       " 0.30234102787456446,\n",
       " 0.2661818736818735,\n",
       " 0.18647022911728803,\n",
       " 0.16688368055555558,\n",
       " 0.2206587736975668,\n",
       " 0.19279846214120394,\n",
       " 0.0994550739612468,\n",
       " 0.14686796808037414,\n",
       " 0.20113510520487266,\n",
       " 0.1282535674202341,\n",
       " 0.1758524539076994,\n",
       " 0.16358024691358028,\n",
       " 0.0845138888888889,\n",
       " 0.25674396494708995,\n",
       " 0.1880718279214519,\n",
       " 0.1545103997564934,\n",
       " 0.22639986824769437,\n",
       " ...]"
      ]
     },
     "execution_count": 71,
     "metadata": {},
     "output_type": "execute_result"
    }
   ],
   "source": [
    "sentiments"
   ]
  },
  {
   "cell_type": "markdown",
   "metadata": {},
   "source": [
    "### Most Positive"
   ]
  },
  {
   "cell_type": "code",
   "execution_count": 73,
   "metadata": {
    "collapsed": false
   },
   "outputs": [
    {
     "data": {
      "text/plain": [
       "u'B0036N2UMY'"
      ]
     },
     "execution_count": 73,
     "metadata": {},
     "output_type": "execute_result"
    }
   ],
   "source": [
    "product_num(0.6448717948717948)"
   ]
  },
  {
   "cell_type": "markdown",
   "metadata": {},
   "source": [
    "### Positive Reviews Sentiment Polarity Text Blob"
   ]
  },
  {
   "cell_type": "code",
   "execution_count": 75,
   "metadata": {
    "collapsed": false
   },
   "outputs": [
    {
     "name": "stdout",
     "output_type": "stream",
     "text": [
      "18347\n"
     ]
    },
    {
     "data": {
      "text/plain": [
       "asin\n",
       "1881509818    came time veru happy haved used already makes ...\n",
       "2094869245    light doubt capture attention night time drive...\n",
       "7245456259    girlfriend disabled cant high impact workouts ...\n",
       "7245456313    bands claimed sizex good 5 7 inch 145 pder lov...\n",
       "B000002NUS    bought two sons kits attachments needed clean ...\n",
       "Name: reviewText, dtype: object"
      ]
     },
     "execution_count": 75,
     "metadata": {},
     "output_type": "execute_result"
    }
   ],
   "source": [
    "grouped_pos = pos_reviews['reviewText'].groupby(pos_reviews['asin']).sum()\n",
    "print(len(grouped_pos))\n",
    "grouped_pos.head()"
   ]
  },
  {
   "cell_type": "code",
   "execution_count": 76,
   "metadata": {
    "collapsed": true
   },
   "outputs": [],
   "source": [
    "sentiments_pos = []\n",
    "for x in grouped_pos.index:\n",
    "    sentiments_pos.append(product_sentiment(x))"
   ]
  },
  {
   "cell_type": "code",
   "execution_count": 77,
   "metadata": {
    "collapsed": false
   },
   "outputs": [
    {
     "data": {
      "image/png": "[encoded data removed]",
      "text/plain": [
       "<matplotlib.figure.Figure at 0x1e7b56a90>"
      ]
     },
     "metadata": {},
     "output_type": "display_data"
    }
   ],
   "source": [
    "plot = sns.distplot(sentiments_pos);\n",
    "plot.set(xlabel='Polarity Score', ylabel='1x10^3')\n",
    "plt.title('Positive Sentiments')\n",
    "plt.show()"
   ]
  },
  {
   "cell_type": "code",
   "execution_count": 78,
   "metadata": {
    "collapsed": false
   },
   "outputs": [
    {
     "data": {
      "text/plain": [
       "0.2020932177119438"
      ]
     },
     "execution_count": 78,
     "metadata": {},
     "output_type": "execute_result"
    }
   ],
   "source": [
    "np.mean(sentiments_pos)"
   ]
  },
  {
   "cell_type": "code",
   "execution_count": 79,
   "metadata": {
    "collapsed": false
   },
   "outputs": [
    {
     "name": "stdout",
     "output_type": "stream",
     "text": [
      "13229\n"
     ]
    },
    {
     "data": {
      "text/plain": [
       "asin\n",
       "2094869245    cheaply made supposed wish usb rechargeable th...\n",
       "7245456259    worked well couple weeks lunge workout snapped...\n",
       "7245456313    several different bands least likable stretch ...\n",
       "B000002NUS    bought walmart price amazon first use cleaning...\n",
       "B00000J6JO    main benefit putting mat ball return works wel...\n",
       "Name: reviewText, dtype: object"
      ]
     },
     "execution_count": 79,
     "metadata": {},
     "output_type": "execute_result"
    }
   ],
   "source": [
    "grouped_neg = neg_reviews['reviewText'].groupby(neg_reviews['asin']).sum()\n",
    "print(len(grouped_neg))\n",
    "grouped_neg.head()"
   ]
  },
  {
   "cell_type": "code",
   "execution_count": 80,
   "metadata": {
    "collapsed": true
   },
   "outputs": [],
   "source": [
    "sentiments_neg = []\n",
    "for x in grouped_neg.index:\n",
    "    sentiments_neg.append(product_sentiment(x))"
   ]
  },
  {
   "cell_type": "code",
   "execution_count": 81,
   "metadata": {
    "collapsed": false
   },
   "outputs": [
    {
     "data": {
      "image/png": "[encoded data removed]",
      "text/plain": [
       "<matplotlib.figure.Figure at 0x183cd1ba8>"
      ]
     },
     "metadata": {},
     "output_type": "display_data"
    }
   ],
   "source": [
    "plot = sns.distplot(sentiments_neg, color='r');\n",
    "plot.set(xlabel='Polarity Score', ylabel='1x10^3')\n",
    "plt.title('Negative Sentiments')\n",
    "plt.show()"
   ]
  },
  {
   "cell_type": "code",
   "execution_count": 82,
   "metadata": {
    "collapsed": false
   },
   "outputs": [
    {
     "data": {
      "text/plain": [
       "0.19354483949900808"
      ]
     },
     "execution_count": 82,
     "metadata": {},
     "output_type": "execute_result"
    }
   ],
   "source": [
    "np.mean(sentiments_neg)"
   ]
  },
  {
   "cell_type": "code",
   "execution_count": 83,
   "metadata": {
    "collapsed": false
   },
   "outputs": [
    {
     "data": {
      "text/plain": [
       "<matplotlib.text.Text at 0x1e2c4d9b0>"
      ]
     },
     "execution_count": 83,
     "metadata": {},
     "output_type": "execute_result"
    },
    {
     "data": {
      "image/png": "[encoded data removed]",
      "text/plain": [
       "<matplotlib.figure.Figure at 0xee8b9d68>"
      ]
     },
     "metadata": {},
     "output_type": "display_data"
    }
   ],
   "source": [
    "# Negative(red)\n",
    "plot = sns.distplot(sentiments_neg, color='r');\n",
    "plot.set(xlabel='Polarity Score', ylabel='1x10^3')\n",
    "# Positive(blue)\n",
    "plot = sns.distplot(sentiments_pos);\n",
    "plot.set(xlabel='Polarity Score', ylabel='1x10^3')\n",
    "plt.title('Positive and Negative')"
   ]
  },
  {
   "cell_type": "code",
   "execution_count": 84,
   "metadata": {
    "collapsed": false
   },
   "outputs": [
    {
     "data": {
      "text/plain": [
       "(0.19354483949900808, 0.2020932177119438)"
      ]
     },
     "execution_count": 84,
     "metadata": {},
     "output_type": "execute_result"
    }
   ],
   "source": [
    "np.mean(sentiments_neg), np.mean(sentiments_pos)"
   ]
  },
  {
   "cell_type": "code",
   "execution_count": null,
   "metadata": {
    "collapsed": true
   },
   "outputs": [],
   "source": []
  },
  {
   "cell_type": "code",
   "execution_count": null,
   "metadata": {
    "collapsed": true
   },
   "outputs": [],
   "source": []
  },
  {
   "cell_type": "code",
   "execution_count": null,
   "metadata": {
    "collapsed": true
   },
   "outputs": [],
   "source": []
  },
  {
   "cell_type": "code",
   "execution_count": null,
   "metadata": {
    "collapsed": true
   },
   "outputs": [],
   "source": []
  },
  {
   "cell_type": "code",
   "execution_count": null,
   "metadata": {
    "collapsed": true
   },
   "outputs": [],
   "source": []
  },
  {
   "cell_type": "code",
   "execution_count": null,
   "metadata": {
    "collapsed": true
   },
   "outputs": [],
   "source": []
  },
  {
   "cell_type": "code",
   "execution_count": null,
   "metadata": {
    "collapsed": true
   },
   "outputs": [],
   "source": []
  }
 ],
 "metadata": {
  "kernelspec": {
   "display_name": "Python 2",
   "language": "python",
   "name": "python2"
  },
  "language_info": {
   "codemirror_mode": {
    "name": "ipython",
    "version": 2
   },
   "file_extension": ".py",
   "mimetype": "text/x-python",
   "name": "python",
   "nbconvert_exporter": "python",
   "pygments_lexer": "ipython2",
   "version": "2.7.13"
  }
 },
 "nbformat": 4,
 "nbformat_minor": 2
}
