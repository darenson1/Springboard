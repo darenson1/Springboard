{
 "cells": [
  {
   "cell_type": "code",
   "execution_count": 38,
   "metadata": {
    "collapsed": false
   },
   "outputs": [
    {
     "name": "stdout",
     "output_type": "stream",
     "text": [
      "[nltk_data] Downloading package punkt to C:\\Users\\Danny\n",
      "[nltk_data]     Arenson\\AppData\\Roaming\\nltk_data...\n",
      "[nltk_data]   Package punkt is already up-to-date!\n"
     ]
    }
   ],
   "source": [
    "%matplotlib inline\n",
    "import numpy as np\n",
    "import pandas as pd\n",
    "import string\n",
    "import matplotlib.pyplot as plt\n",
    "import scipy.sparse as sparse\n",
    "import seaborn as sns\n",
    "import itertools\n",
    "import gzip\n",
    "import wordcloud\n",
    "import datetime as dt\n",
    "import pylab as pl\n",
    "\n",
    "import nltk\n",
    "from nltk.corpus import stopwords\n",
    "from nltk import word_tokenize\n",
    "from nltk.corpus import stopwords\n",
    "from nltk.stem.wordnet import WordNetLemmatizer\n",
    "from string import punctuation\n",
    "\n",
    "from sklearn.cross_validation import train_test_split, cross_val_score\n",
    "from sklearn.feature_extraction.text import CountVectorizer\n",
    "from sklearn.naive_bayes import MultinomialNB\n",
    "from sklearn import svm\n",
    "from sklearn.linear_model import LogisticRegression\n",
    "from sklearn.feature_extraction.text import TfidfVectorizer\n",
    "from sklearn.decomposition import TruncatedSVD\n",
    "from sklearn.metrics import precision_score, confusion_matrix\n",
    "from sklearn.metrics import f1_score\n",
    "from sklearn.pipeline import Pipeline, make_pipeline\n",
    "from sklearn.feature_extraction.text import CountVectorizer, TfidfVectorizer\n",
    "from sklearn.decomposition import NMF, LatentDirichletAllocation\n",
    "from sklearn.model_selection import GridSearchCV\n",
    "from sklearn.metrics import accuracy_score, confusion_matrix, f1_score\n",
    "\n",
    "\n",
    "from textblob import TextBlob\n",
    "from scipy.stats import ttest_ind\n",
    "from string import punctuation\n",
    "from collections import Counter\n",
    "nltk.download('punkt')\n",
    "from nltk.tokenize import sent_tokenize, word_tokenize\n",
    "from nltk.stem import WordNetLemmatizer\n",
    "from nltk.corpus import stopwords\n",
    "from nltk import FreqDist\n",
    "from nltk.tokenize import RegexpTokenizer"
   ]
  },
  {
   "cell_type": "code",
   "execution_count": 39,
   "metadata": {
    "collapsed": true
   },
   "outputs": [],
   "source": [
    "Sports_Outdoors = pd.read_json('Sports_and_Outdoors_5.json', lines=True)"
   ]
  },
  {
   "cell_type": "code",
   "execution_count": 40,
   "metadata": {
    "collapsed": true
   },
   "outputs": [],
   "source": [
    "Sports_Outdoors = Sports_Outdoors[['overall','summary']]"
   ]
  },
  {
   "cell_type": "code",
   "execution_count": 41,
   "metadata": {
    "collapsed": true
   },
   "outputs": [],
   "source": [
    "#creating a binary classifier for ratings\n",
    "Sports_Outdoors[\"overall\"] = Sports_Outdoors[\"overall\"].apply(lambda x: '1' if x > 3 else '0')"
   ]
  },
  {
   "cell_type": "code",
   "execution_count": 42,
   "metadata": {
    "collapsed": false
   },
   "outputs": [],
   "source": [
    "lemmatizer = nltk.WordNetLemmatizer()\n",
    "stop = stopwords.words('english')\n",
    "translation = string.maketrans(string.punctuation,' '*len(string.punctuation))\n",
    "def preprocess (eachline):\n",
    "    sentence = eachline.lower()\n",
    "    tokenizer = RegexpTokenizer(r'\\w+')\n",
    "    tokens = tokenizer.tokenize(sentence)\n",
    "    stop_words = (w for w in tokens if not w in stop)\n",
    "    clean_words =(w for w in stop_words if not w.isnumeric())\n",
    "    stemmed = [w for w in clean_words if lemmatizer.lemmatize(w)] \n",
    "    return ' '.join(stemmed)"
   ]
  },
  {
   "cell_type": "code",
   "execution_count": 43,
   "metadata": {
    "collapsed": false
   },
   "outputs": [],
   "source": [
    "cleaned_reviews = []\n",
    "for w in Sports_Outdoors['summary']:\n",
    "    cleaned_reviews.append(preprocess(w))"
   ]
  },
  {
   "cell_type": "code",
   "execution_count": 44,
   "metadata": {
    "collapsed": true
   },
   "outputs": [],
   "source": [
    "from sklearn.feature_extraction.text import TfidfVectorizer\n",
    "tfidfvectorizer = TfidfVectorizer()\n",
    "Xtfidf=tfidfvectorizer.fit_transform(cleaned_reviews)"
   ]
  },
  {
   "cell_type": "code",
   "execution_count": 45,
   "metadata": {
    "collapsed": true
   },
   "outputs": [],
   "source": [
    "from sklearn.feature_extraction.text import CountVectorizer\n",
    "CV = CountVectorizer()\n",
    "XCV=CV.fit_transform(cleaned_reviews)"
   ]
  },
  {
   "cell_type": "code",
   "execution_count": 46,
   "metadata": {
    "collapsed": false
   },
   "outputs": [
    {
     "data": {
      "image/png": "[encoded data removed]",
      "text/plain": [
       "<matplotlib.figure.Figure at 0x27e05b00>"
      ]
     },
     "metadata": {},
     "output_type": "display_data"
    }
   ],
   "source": [
    "fig = plt.figure(figsize=(8,8))\n",
    "ax = fig.gca()\n",
    "df = list((XCV > 0).sum(0).tolist()[0])\n",
    "c = pd.Series(df)\n",
    "y = np.arange(c.sum())\n",
    "plt.hist(c,y,normed=1, histtype='step', color='g', cumulative=True, linewidth=1.5, )\n",
    "plt.xlim(-1,1000)\n",
    "plt.grid()"
   ]
  },
  {
   "cell_type": "code",
   "execution_count": 47,
   "metadata": {
    "collapsed": true
   },
   "outputs": [],
   "source": [
    "from sklearn.feature_extraction.text import TfidfVectorizer\n",
    "tfidfvectorizer1 = TfidfVectorizer(min_df=5)\n",
    "X_clean=tfidfvectorizer1.fit_transform(cleaned_reviews)\n",
    "y_clean = (Sports_Outdoors.overall)"
   ]
  },
  {
   "cell_type": "code",
   "execution_count": 48,
   "metadata": {
    "collapsed": true
   },
   "outputs": [],
   "source": [
    "idf = tfidfvectorizer1.idf_\n",
    "idf_score =(dict(zip(tfidfvectorizer1.get_feature_names(), idf)))"
   ]
  },
  {
   "cell_type": "code",
   "execution_count": 50,
   "metadata": {
    "collapsed": true
   },
   "outputs": [],
   "source": [
    "s = pd.DataFrame.from_dict(idf_score, orient='index')"
   ]
  },
  {
   "cell_type": "code",
   "execution_count": 51,
   "metadata": {
    "collapsed": true
   },
   "outputs": [],
   "source": [
    "s.columns = ['Score']"
   ]
  },
  {
   "cell_type": "code",
   "execution_count": 52,
   "metadata": {
    "collapsed": false
   },
   "outputs": [
    {
     "data": {
      "text/html": [
       "<div>\n",
       "<table border=\"1\" class=\"dataframe\">\n",
       "  <thead>\n",
       "    <tr style=\"text-align: right;\">\n",
       "      <th></th>\n",
       "      <th>Score</th>\n",
       "    </tr>\n",
       "  </thead>\n",
       "  <tbody>\n",
       "    <tr>\n",
       "      <th>great</th>\n",
       "      <td>2.762601</td>\n",
       "    </tr>\n",
       "    <tr>\n",
       "      <th>good</th>\n",
       "      <td>3.304132</td>\n",
       "    </tr>\n",
       "    <tr>\n",
       "      <th>nice</th>\n",
       "      <td>4.048878</td>\n",
       "    </tr>\n",
       "    <tr>\n",
       "      <th>works</th>\n",
       "      <td>4.088145</td>\n",
       "    </tr>\n",
       "    <tr>\n",
       "      <th>product</th>\n",
       "      <td>4.338318</td>\n",
       "    </tr>\n",
       "    <tr>\n",
       "      <th>price</th>\n",
       "      <td>4.379659</td>\n",
       "    </tr>\n",
       "    <tr>\n",
       "      <th>knife</th>\n",
       "      <td>4.502756</td>\n",
       "    </tr>\n",
       "    <tr>\n",
       "      <th>perfect</th>\n",
       "      <td>4.571277</td>\n",
       "    </tr>\n",
       "    <tr>\n",
       "      <th>quality</th>\n",
       "      <td>4.609438</td>\n",
       "    </tr>\n",
       "    <tr>\n",
       "      <th>well</th>\n",
       "      <td>4.620469</td>\n",
       "    </tr>\n",
       "  </tbody>\n",
       "</table>\n",
       "</div>"
      ],
      "text/plain": [
       "            Score\n",
       "great    2.762601\n",
       "good     3.304132\n",
       "nice     4.048878\n",
       "works    4.088145\n",
       "product  4.338318\n",
       "price    4.379659\n",
       "knife    4.502756\n",
       "perfect  4.571277\n",
       "quality  4.609438\n",
       "well     4.620469"
      ]
     },
     "execution_count": 52,
     "metadata": {},
     "output_type": "execute_result"
    }
   ],
   "source": [
    "s.sort_values('Score', ascending=True).head(10)"
   ]
  },
  {
   "cell_type": "code",
   "execution_count": 53,
   "metadata": {
    "collapsed": false
   },
   "outputs": [
    {
     "data": {
      "text/html": [
       "<div>\n",
       "<table border=\"1\" class=\"dataframe\">\n",
       "  <thead>\n",
       "    <tr style=\"text-align: right;\">\n",
       "      <th></th>\n",
       "      <th>Score</th>\n",
       "    </tr>\n",
       "  </thead>\n",
       "  <tbody>\n",
       "    <tr>\n",
       "      <th>legacy</th>\n",
       "      <td>11.807497</td>\n",
       "    </tr>\n",
       "    <tr>\n",
       "      <th>operates</th>\n",
       "      <td>11.807497</td>\n",
       "    </tr>\n",
       "    <tr>\n",
       "      <th>guest</th>\n",
       "      <td>11.807497</td>\n",
       "    </tr>\n",
       "    <tr>\n",
       "      <th>shy</th>\n",
       "      <td>11.807497</td>\n",
       "    </tr>\n",
       "    <tr>\n",
       "      <th>wll</th>\n",
       "      <td>11.807497</td>\n",
       "    </tr>\n",
       "    <tr>\n",
       "      <th>snowboarding</th>\n",
       "      <td>11.807497</td>\n",
       "    </tr>\n",
       "    <tr>\n",
       "      <th>endless</th>\n",
       "      <td>11.807497</td>\n",
       "    </tr>\n",
       "    <tr>\n",
       "      <th>sipping</th>\n",
       "      <td>11.807497</td>\n",
       "    </tr>\n",
       "    <tr>\n",
       "      <th>shinny</th>\n",
       "      <td>11.807497</td>\n",
       "    </tr>\n",
       "    <tr>\n",
       "      <th>foul</th>\n",
       "      <td>11.807497</td>\n",
       "    </tr>\n",
       "  </tbody>\n",
       "</table>\n",
       "</div>"
      ],
      "text/plain": [
       "                  Score\n",
       "legacy        11.807497\n",
       "operates      11.807497\n",
       "guest         11.807497\n",
       "shy           11.807497\n",
       "wll           11.807497\n",
       "snowboarding  11.807497\n",
       "endless       11.807497\n",
       "sipping       11.807497\n",
       "shinny        11.807497\n",
       "foul          11.807497"
      ]
     },
     "execution_count": 53,
     "metadata": {},
     "output_type": "execute_result"
    }
   ],
   "source": [
    "s.sort_values('Score', ascending=True).tail(10)"
   ]
  },
  {
   "cell_type": "code",
   "execution_count": 54,
   "metadata": {
    "collapsed": false
   },
   "outputs": [],
   "source": [
    "from sklearn.cross_validation import StratifiedKFold"
   ]
  },
  {
   "cell_type": "code",
   "execution_count": 55,
   "metadata": {
    "collapsed": false
   },
   "outputs": [],
   "source": [
    "kf = StratifiedKFold(y_clean,n_folds=5, shuffle=True)\n",
    "for train, test in kf:\n",
    "    X_train, X_test = X_clean[train], X_clean[test]\n",
    "    y_train, y_test = y_clean[train], y_clean[test]"
   ]
  },
  {
   "cell_type": "code",
   "execution_count": 56,
   "metadata": {
    "collapsed": false
   },
   "outputs": [
    {
     "data": {
      "text/plain": [
       "((237070, 7916), (59267, 7916), (237070L,), (59267L,))"
      ]
     },
     "execution_count": 56,
     "metadata": {},
     "output_type": "execute_result"
    }
   ],
   "source": [
    "X_train.shape, X_test.shape, y_train.shape, y_test.shape"
   ]
  },
  {
   "cell_type": "code",
   "execution_count": 57,
   "metadata": {
    "collapsed": true
   },
   "outputs": [],
   "source": [
    "from sklearn.decomposition import TruncatedSVD"
   ]
  },
  {
   "cell_type": "code",
   "execution_count": 58,
   "metadata": {
    "collapsed": false
   },
   "outputs": [
    {
     "data": {
      "text/plain": [
       "TruncatedSVD(algorithm='randomized', n_components=2, n_iter=5,\n",
       "       random_state=None, tol=0.0)"
      ]
     },
     "execution_count": 58,
     "metadata": {},
     "output_type": "execute_result"
    }
   ],
   "source": [
    "svd = TruncatedSVD()\n",
    "svd.fit(X_train)"
   ]
  },
  {
   "cell_type": "code",
   "execution_count": 59,
   "metadata": {
    "collapsed": true
   },
   "outputs": [],
   "source": [
    "from sklearn import svm\n",
    "from sklearn.metrics import accuracy_score\n",
    "from sklearn.metrics import classification_report\n",
    "from sklearn.metrics import roc_curve, auc, roc_auc_score"
   ]
  },
  {
   "cell_type": "code",
   "execution_count": null,
   "metadata": {
    "collapsed": true
   },
   "outputs": [],
   "source": [
    "#SVM = svm.SVC(kernel='linear')\n",
    "#SVM.fit(X1cl_train, y1cl_train)"
   ]
  },
  {
   "cell_type": "code",
   "execution_count": 60,
   "metadata": {
    "collapsed": true
   },
   "outputs": [],
   "source": [
    "from sklearn.naive_bayes import BernoulliNB\n",
    "from sklearn import linear_model\n",
    "from sklearn.tree import DecisionTreeClassifier\n",
    "from sklearn.ensemble import RandomForestClassifier,AdaBoostClassifier"
   ]
  },
  {
   "cell_type": "markdown",
   "metadata": {},
   "source": [
    "### Bernoulli Naive Bayes"
   ]
  },
  {
   "cell_type": "code",
   "execution_count": 61,
   "metadata": {
    "collapsed": false
   },
   "outputs": [
    {
     "data": {
      "text/plain": [
       "BernoulliNB(alpha=1.0, binarize=0.5, class_prior=None, fit_prior=True)"
      ]
     },
     "execution_count": 61,
     "metadata": {},
     "output_type": "execute_result"
    }
   ],
   "source": [
    "BNB = BernoulliNB(binarize=0.5)\n",
    "BNB.fit(X_train, y_train)"
   ]
  },
  {
   "cell_type": "code",
   "execution_count": 62,
   "metadata": {
    "collapsed": false
   },
   "outputs": [
    {
     "name": "stdout",
     "output_type": "stream",
     "text": [
      "('Accuracy of test data: ', 0.8748038537466043)\n",
      "('Accuracy of training data: ', 0.8813810267009744)\n",
      "\n",
      "\n",
      "Classification report summary of BernoulliNB with alpha = 1.0:\n",
      "             precision    recall  f1-score   support\n",
      "\n",
      "          0       0.32      0.64      0.43      4352\n",
      "          1       0.97      0.89      0.93     54915\n",
      "\n",
      "avg / total       0.92      0.87      0.89     59267\n",
      "\n"
     ]
    }
   ],
   "source": [
    "print ('Accuracy of test data: ',(accuracy_score(BNB.predict(X_test), y_test)))\n",
    "print ('Accuracy of training data: ',(accuracy_score(BNB.predict(X_train), y_train)))\n",
    "print(\"\\n\")\n",
    "print ('Classification report summary of BernoulliNB with alpha = 1.0:')\n",
    "print(classification_report(BNB.predict(X_test), y_test))"
   ]
  },
  {
   "cell_type": "code",
   "execution_count": 64,
   "metadata": {
    "collapsed": false
   },
   "outputs": [
    {
     "data": {
      "text/plain": [
       "0.64611793998906886"
      ]
     },
     "execution_count": 64,
     "metadata": {},
     "output_type": "execute_result"
    }
   ],
   "source": [
    "y_true_BNB = np.array(y_test).astype(int)\n",
    "y_pred_BNB = np.array(BNB.predict(X_test)).astype(int)\n",
    "BernoulliNB_auc = roc_auc_score(y_true_BNB, y_pred_BNB)\n",
    "BernoulliNB_auc"
   ]
  },
  {
   "cell_type": "code",
   "execution_count": 65,
   "metadata": {
    "collapsed": true
   },
   "outputs": [],
   "source": [
    "probas1_ = BNB.predict_proba(X_test)[:,1]"
   ]
  },
  {
   "cell_type": "code",
   "execution_count": 66,
   "metadata": {
    "collapsed": false
   },
   "outputs": [
    {
     "data": {
      "text/plain": [
       "array([ 0.93476602,  0.9914988 ,  0.99254984, ...,  0.97722297,\n",
       "        0.82970043,  0.27708636])"
      ]
     },
     "execution_count": 66,
     "metadata": {},
     "output_type": "execute_result"
    }
   ],
   "source": [
    "probas1_"
   ]
  },
  {
   "cell_type": "code",
   "execution_count": 67,
   "metadata": {
    "collapsed": true
   },
   "outputs": [],
   "source": [
    "fpr1,tpr1,_ = roc_curve(y_true_BNB, probas1_)"
   ]
  },
  {
   "cell_type": "code",
   "execution_count": 68,
   "metadata": {
    "collapsed": true
   },
   "outputs": [],
   "source": [
    "from sklearn.naive_bayes import MultinomialNB"
   ]
  },
  {
   "cell_type": "markdown",
   "metadata": {},
   "source": [
    "### Multinomial Naive Bayes"
   ]
  },
  {
   "cell_type": "code",
   "execution_count": 70,
   "metadata": {
    "collapsed": false
   },
   "outputs": [
    {
     "name": "stdout",
     "output_type": "stream",
     "text": [
      "('Accuracy of test data: ', 0.88340897970202648)\n",
      "('Accuracy of training data: ', 0.88733285527481331)\n",
      "\n",
      "\n",
      "Classification report summary of MultinomialDB with alpha = 0.01:\n",
      "             precision    recall  f1-score   support\n",
      "\n",
      "          0       0.29      0.77      0.42      3194\n",
      "          1       0.99      0.89      0.94     56073\n",
      "\n",
      "avg / total       0.95      0.88      0.91     59267\n",
      "\n"
     ]
    }
   ],
   "source": [
    "clf1=MultinomialNB(alpha=0.1)\n",
    "clf1.fit(X_train,y_train)\n",
    "print ('Accuracy of test data: ',(accuracy_score(clf1.predict(X_test), y_test)))\n",
    "print ('Accuracy of training data: ',(accuracy_score(clf1.predict(X_train), y_train)))\n",
    "print(\"\\n\")\n",
    "print ('Classification report summary of MultinomialDB with alpha = 0.01:')\n",
    "print(classification_report(clf1.predict(X_test), y_test))"
   ]
  },
  {
   "cell_type": "code",
   "execution_count": 71,
   "metadata": {
    "collapsed": false
   },
   "outputs": [
    {
     "data": {
      "text/plain": [
       "0.63566049719240991"
      ]
     },
     "execution_count": 71,
     "metadata": {},
     "output_type": "execute_result"
    }
   ],
   "source": [
    "y_true_MNB = np.array(y_test).astype(int)\n",
    "y_pred_MNB = np.array(clf1.predict(X_test)).astype(int)\n",
    "MultinomialNB_auc = roc_auc_score(y_true_MNB, y_pred_MNB)\n",
    "MultinomialNB_auc"
   ]
  },
  {
   "cell_type": "code",
   "execution_count": 72,
   "metadata": {
    "collapsed": true
   },
   "outputs": [],
   "source": [
    "probas2_ = clf1.predict_proba(X_test)[:,1]"
   ]
  },
  {
   "cell_type": "code",
   "execution_count": 73,
   "metadata": {
    "collapsed": false
   },
   "outputs": [],
   "source": [
    "fpr2,tpr2,_ = roc_curve(y_true_MNB, probas2_)"
   ]
  },
  {
   "cell_type": "markdown",
   "metadata": {},
   "source": [
    "### Ada Boost"
   ]
  },
  {
   "cell_type": "code",
   "execution_count": 74,
   "metadata": {
    "collapsed": false
   },
   "outputs": [
    {
     "data": {
      "text/plain": [
       "AdaBoostClassifier(algorithm='SAMME.R', base_estimator=None,\n",
       "          learning_rate=1.0, n_estimators=300, random_state=None)"
      ]
     },
     "execution_count": 74,
     "metadata": {},
     "output_type": "execute_result"
    }
   ],
   "source": [
    "Ada=AdaBoostClassifier(n_estimators=300)\n",
    "Ada.fit(X_train,y_train)"
   ]
  },
  {
   "cell_type": "code",
   "execution_count": 75,
   "metadata": {
    "collapsed": false
   },
   "outputs": [
    {
     "name": "stdout",
     "output_type": "stream",
     "text": [
      "('Accuracy of test data: ', 0.88335836131405332)\n",
      "('Accuracy of training data: ', 0.88437592272324628)\n",
      "\n",
      "\n",
      "Classification report summary of AdaBoostClassifier:\n",
      "             precision    recall  f1-score   support\n",
      "\n",
      "          0       0.31      0.74      0.44      3655\n",
      "          1       0.98      0.89      0.93     55612\n",
      "\n",
      "avg / total       0.94      0.88      0.90     59267\n",
      "\n"
     ]
    }
   ],
   "source": [
    "print ('Accuracy of test data: ',(accuracy_score(Ada.predict(X_test), y_test)))\n",
    "print ('Accuracy of training data: ',(accuracy_score(Ada.predict(X_train), y_train)))\n",
    "print(\"\\n\")\n",
    "print ('Classification report summary of AdaBoostClassifier:')\n",
    "print(classification_report(Ada.predict(X_test), y_test))"
   ]
  },
  {
   "cell_type": "code",
   "execution_count": 76,
   "metadata": {
    "collapsed": false
   },
   "outputs": [
    {
     "data": {
      "text/plain": [
       "0.64658374778563865"
      ]
     },
     "execution_count": 76,
     "metadata": {},
     "output_type": "execute_result"
    }
   ],
   "source": [
    "y_true_ABC = np.array(y_test).astype(int)\n",
    "y_pred_ABC = np.array(Ada.predict(X_test)).astype(int)\n",
    "AdaBoostClassifier_auc = roc_auc_score(y_true_ABC, y_pred_ABC)\n",
    "AdaBoostClassifier_auc"
   ]
  },
  {
   "cell_type": "code",
   "execution_count": 77,
   "metadata": {
    "collapsed": true
   },
   "outputs": [],
   "source": [
    "probas3_ = Ada.predict_proba(X_test)[:,1]"
   ]
  },
  {
   "cell_type": "code",
   "execution_count": 78,
   "metadata": {
    "collapsed": true
   },
   "outputs": [],
   "source": [
    "fpr3,tpr3,_ = roc_curve(y_true_ABC, probas3_)"
   ]
  },
  {
   "cell_type": "code",
   "execution_count": 79,
   "metadata": {
    "collapsed": true
   },
   "outputs": [],
   "source": [
    "from sklearn.linear_model import LogisticRegression"
   ]
  },
  {
   "cell_type": "markdown",
   "metadata": {},
   "source": [
    "### Logistic Regression"
   ]
  },
  {
   "cell_type": "code",
   "execution_count": 80,
   "metadata": {
    "collapsed": false
   },
   "outputs": [
    {
     "name": "stdout",
     "output_type": "stream",
     "text": [
      "('Accuracy of test data: ', 0.88539996962896717)\n",
      "('Accuracy of training data: ', 0.89263508668325808)\n",
      "\n",
      "\n",
      "Classification report summary of Logistic Regression C=1:\n",
      "             precision    recall  f1-score   support\n",
      "\n",
      "          0       0.37      0.70      0.49      4588\n",
      "          1       0.97      0.90      0.94     54679\n",
      "\n",
      "avg / total       0.93      0.89      0.90     59267\n",
      "\n"
     ]
    }
   ],
   "source": [
    "logit=LogisticRegression(C=10)\n",
    "logit.fit(X_train,y_train)\n",
    "print ('Accuracy of test data: ',(accuracy_score(logit.predict(X_test), y_test)))\n",
    "print ('Accuracy of training data: ',(accuracy_score(logit.predict(X_train), y_train)))\n",
    "print(\"\\n\")\n",
    "print ('Classification report summary of Logistic Regression C=1:')\n",
    "print(classification_report(logit.predict(X_test), y_test))"
   ]
  },
  {
   "cell_type": "code",
   "execution_count": 81,
   "metadata": {
    "collapsed": false
   },
   "outputs": [
    {
     "data": {
      "text/plain": [
       "0.67298533198399224"
      ]
     },
     "execution_count": 81,
     "metadata": {},
     "output_type": "execute_result"
    }
   ],
   "source": [
    "y_true_log = np.array(y_test).astype(int)\n",
    "y_pred_log = np.array(logit.predict(X_test)).astype(int)\n",
    "LogisticRegression_auc = roc_auc_score(y_true_log, y_pred_log)\n",
    "LogisticRegression_auc"
   ]
  },
  {
   "cell_type": "code",
   "execution_count": 82,
   "metadata": {
    "collapsed": true
   },
   "outputs": [],
   "source": [
    "probas4_ = logit.predict_proba(X_test)[:,1]"
   ]
  },
  {
   "cell_type": "code",
   "execution_count": 83,
   "metadata": {
    "collapsed": false
   },
   "outputs": [],
   "source": [
    "fpr4,tpr4,_ = roc_curve(y_true_log, probas4_)"
   ]
  },
  {
   "cell_type": "markdown",
   "metadata": {},
   "source": [
    "### Decision Tree"
   ]
  },
  {
   "cell_type": "code",
   "execution_count": 84,
   "metadata": {
    "collapsed": false,
    "scrolled": true
   },
   "outputs": [
    {
     "name": "stdout",
     "output_type": "stream",
     "text": [
      "('Accuracy of test data: ', 0.87642364216174262)\n",
      "('Accuracy of training data: ', 0.92448643860463153)\n",
      "\n",
      "\n",
      "Classification report summary of Decision Tree:\n",
      "             precision    recall  f1-score   support\n",
      "\n",
      "          0       0.34      0.65      0.45      4610\n",
      "          1       0.97      0.90      0.93     54657\n",
      "\n",
      "avg / total       0.92      0.88      0.89     59267\n",
      "\n"
     ]
    }
   ],
   "source": [
    "dtree=DecisionTreeClassifier(max_depth=200, criterion='entropy')\n",
    "dtree.fit(X_train,y_train)\n",
    "print ('Accuracy of test data: ',(accuracy_score(dtree.predict(X_test), y_test)))\n",
    "print ('Accuracy of training data: ',(accuracy_score(dtree.predict(X_train), y_train)))\n",
    "print(\"\\n\")\n",
    "print ('Classification report summary of Decision Tree:')\n",
    "print(classification_report(dtree.predict(X_test), y_test))"
   ]
  },
  {
   "cell_type": "code",
   "execution_count": 85,
   "metadata": {
    "collapsed": false
   },
   "outputs": [
    {
     "data": {
      "text/plain": [
       "0.65553227362404598"
      ]
     },
     "execution_count": 85,
     "metadata": {},
     "output_type": "execute_result"
    }
   ],
   "source": [
    "y_true_DTC = np.array(y_test).astype(int)\n",
    "y_pred_DTC = np.array(dtree.predict(X_test)).astype(int)\n",
    "DecisionTreeClassifier_auc = roc_auc_score(y_true_DTC, y_pred_DTC)\n",
    "DecisionTreeClassifier_auc"
   ]
  },
  {
   "cell_type": "code",
   "execution_count": 86,
   "metadata": {
    "collapsed": true
   },
   "outputs": [],
   "source": [
    "probas5_ = dtree.predict_proba(X_test)[:,1]"
   ]
  },
  {
   "cell_type": "code",
   "execution_count": 87,
   "metadata": {
    "collapsed": false
   },
   "outputs": [],
   "source": [
    "fpr5,tpr5,_ = roc_curve(y_true_DTC, probas5_)"
   ]
  },
  {
   "cell_type": "markdown",
   "metadata": {},
   "source": [
    "### Random Forest"
   ]
  },
  {
   "cell_type": "code",
   "execution_count": 88,
   "metadata": {
    "collapsed": false,
    "scrolled": true
   },
   "outputs": [
    {
     "name": "stdout",
     "output_type": "stream",
     "text": [
      "('Accuracy of test data: ', 0.88529873285302108)\n",
      "('Accuracy of training data: ', 0.96153878601257015)\n",
      "\n",
      "\n",
      "Classification report summary of RandomForest:\n",
      "             precision    recall  f1-score   support\n",
      "\n",
      "          0       0.39      0.69      0.50      4970\n",
      "          1       0.97      0.90      0.94     54297\n",
      "\n",
      "avg / total       0.92      0.89      0.90     59267\n",
      "\n"
     ]
    }
   ],
   "source": [
    "random=RandomForestClassifier(n_estimators=50)\n",
    "random.fit(X_train,y_train)\n",
    "print ('Accuracy of test data: ',(accuracy_score(random.predict(X_test), y_test)))\n",
    "print ('Accuracy of training data: ',(accuracy_score(random.predict(X_train), y_train)))\n",
    "print(\"\\n\")\n",
    "print ('Classification report summary of RandomForest:')\n",
    "print(classification_report(random.predict(X_test), y_test))"
   ]
  },
  {
   "cell_type": "code",
   "execution_count": 89,
   "metadata": {
    "collapsed": false
   },
   "outputs": [
    {
     "data": {
      "text/plain": [
       "0.68191794173714682"
      ]
     },
     "execution_count": 89,
     "metadata": {},
     "output_type": "execute_result"
    }
   ],
   "source": [
    "y_true_RFC = np.array(y_test).astype(int)\n",
    "y_pred_RFC = np.array(random.predict(X_test)).astype(int)\n",
    "RandomForrestClassifier_auc = roc_auc_score(y_true_RFC, y_pred_RFC)\n",
    "RandomForrestClassifier_auc"
   ]
  },
  {
   "cell_type": "code",
   "execution_count": 90,
   "metadata": {
    "collapsed": true
   },
   "outputs": [],
   "source": [
    "probas6_ = random.predict_proba(X_test)[:,1]"
   ]
  },
  {
   "cell_type": "code",
   "execution_count": 91,
   "metadata": {
    "collapsed": true
   },
   "outputs": [],
   "source": [
    "fpr6,tpr6,_ = roc_curve(y_true_RFC, probas6_)"
   ]
  },
  {
   "cell_type": "code",
   "execution_count": 92,
   "metadata": {
    "collapsed": true
   },
   "outputs": [],
   "source": [
    "from sklearn.linear_model import Perceptron"
   ]
  },
  {
   "cell_type": "markdown",
   "metadata": {},
   "source": [
    "### Perceptron"
   ]
  },
  {
   "cell_type": "code",
   "execution_count": 93,
   "metadata": {
    "collapsed": false
   },
   "outputs": [
    {
     "data": {
      "text/plain": [
       "Perceptron(alpha=0.0001, class_weight=None, eta0=1.0, fit_intercept=True,\n",
       "      n_iter=1000, n_jobs=1, penalty=None, random_state=0, shuffle=True,\n",
       "      verbose=0, warm_start=False)"
      ]
     },
     "execution_count": 93,
     "metadata": {},
     "output_type": "execute_result"
    }
   ],
   "source": [
    "per=Perceptron(n_iter=1000)\n",
    "per.fit(X_train,y_train)"
   ]
  },
  {
   "cell_type": "code",
   "execution_count": 94,
   "metadata": {
    "collapsed": false
   },
   "outputs": [
    {
     "name": "stdout",
     "output_type": "stream",
     "text": [
      "('Accuracy of test data: ', 0.83528776553562689)\n",
      "('Accuracy of training data: ', 0.84367486396422997)\n",
      "\n",
      "\n",
      "Classification report summary of Perceptron:\n",
      "             precision    recall  f1-score   support\n",
      "\n",
      "          0       0.46      0.44      0.45      9000\n",
      "          1       0.90      0.91      0.90     50267\n",
      "\n",
      "avg / total       0.83      0.84      0.83     59267\n",
      "\n"
     ]
    }
   ],
   "source": [
    "print ('Accuracy of test data: ',(accuracy_score(per.predict(X_test), y_test)))\n",
    "print ('Accuracy of training data: ',(accuracy_score(per.predict(X_train), y_train)))\n",
    "print(\"\\n\")\n",
    "print ('Classification report summary of Perceptron:')\n",
    "print(classification_report(per.predict(X_test), y_test))"
   ]
  },
  {
   "cell_type": "code",
   "execution_count": 95,
   "metadata": {
    "collapsed": false
   },
   "outputs": [
    {
     "data": {
      "text/plain": [
       "0.67812411883324231"
      ]
     },
     "execution_count": 95,
     "metadata": {},
     "output_type": "execute_result"
    }
   ],
   "source": [
    "y_true_P = np.array(y_test).astype(int)\n",
    "y_pred_P = np.array(per.predict(X_test)).astype(int)\n",
    "Perceptron_auc = roc_auc_score(y_true_P, y_pred_P)\n",
    "Perceptron_auc"
   ]
  },
  {
   "cell_type": "markdown",
   "metadata": {},
   "source": [
    "### ROC Curve"
   ]
  },
  {
   "cell_type": "code",
   "execution_count": 97,
   "metadata": {
    "collapsed": false
   },
   "outputs": [
    {
     "data": {
      "image/png": "[encoded data removed]",
      "text/plain": [
       "<matplotlib.figure.Figure at 0x5fc6fe48>"
      ]
     },
     "metadata": {},
     "output_type": "display_data"
    }
   ],
   "source": [
    "fig = plt.figure(figsize=(8,8))\n",
    "plt.plot(fpr1,tpr1, label=('Bernoulli NB %.2f' %BernoulliNB_auc), color='k')\n",
    "plt.plot(fpr2,tpr2, label=('Multinomial NB %.2f' %MultinomialNB_auc))\n",
    "plt.plot(fpr3,tpr3, label=('AdaBoost %.2f' %AdaBoostClassifier_auc))\n",
    "plt.plot(fpr4,tpr4, label=('Logistic %.2f' %LogisticRegression_auc))\n",
    "plt.plot(fpr5,tpr5, label=('DecisionTree %.2f' %DecisionTreeClassifier_auc))\n",
    "plt.plot(fpr6,tpr6, label=('RandomForest %.2f' %RandomForrestClassifier_auc))\n",
    "plt.legend(loc='right')\n",
    "plt.plot([0,1],[0,1],'r--')\n",
    "plt.xlim(0,1)\n",
    "plt.ylim(0,1)\n",
    "plt.ylabel('True Postive Rate')\n",
    "plt.xlabel('False Positive Rate')\n",
    "plt.show()"
   ]
  },
  {
   "cell_type": "code",
   "execution_count": 98,
   "metadata": {
    "collapsed": true
   },
   "outputs": [],
   "source": [
    "from sklearn.metrics import precision_score, confusion_matrix\n",
    "import itertools"
   ]
  },
  {
   "cell_type": "markdown",
   "metadata": {},
   "source": [
    "### Confusion Matrix"
   ]
  },
  {
   "cell_type": "code",
   "execution_count": 99,
   "metadata": {
    "collapsed": true
   },
   "outputs": [],
   "source": [
    "def plot_confusion_matrix(cm,\n",
    "                          normalize=False,\n",
    "                          title='Confusion matrix',\n",
    "                          cmap=plt.cm.Blues):\n",
    "    \"\"\"\n",
    "    This function prints and plots the confusion matrix.\n",
    "    Normalization can be applied by setting `normalize=True`.\n",
    "    \"\"\"\n",
    "    plt.imshow(cm, interpolation='nearest', cmap=cmap)\n",
    "    plt.title(title)\n",
    "    plt.colorbar()\n",
    "\n",
    "    if normalize:\n",
    "        cm = cm.astype('float') / cm.sum(axis=1)[:, np.newaxis]\n",
    "        print(\"Normalized confusion matrix\")\n",
    "    else:\n",
    "        print('Confusion matrix, without normalization')\n",
    "\n",
    "    print(cm)\n",
    "\n",
    "    thresh = cm.max() / 2.\n",
    "    for i, j in itertools.product(range(cm.shape[0]), range(cm.shape[1])):\n",
    "        plt.text(j, i, cm[i, j],\n",
    "                 horizontalalignment=\"center\",\n",
    "                 color=\"white\" if cm[i, j] > thresh else \"black\")\n",
    "\n",
    "    plt.tight_layout()\n",
    "    plt.ylabel('True label')\n",
    "    plt.xlabel('Predicted label')"
   ]
  },
  {
   "cell_type": "markdown",
   "metadata": {},
   "source": [
    "### BNB"
   ]
  },
  {
   "cell_type": "code",
   "execution_count": 100,
   "metadata": {
    "collapsed": false
   },
   "outputs": [
    {
     "name": "stdout",
     "output_type": "stream",
     "text": [
      "Confusion matrix, without normalization\n",
      "[[ 2798  5866]\n",
      " [ 1554 49049]]\n"
     ]
    },
    {
     "data": {
      "image/png": "[encoded data removed]",
      "text/plain": [
       "<matplotlib.figure.Figure at 0x6efc5048>"
      ]
     },
     "metadata": {},
     "output_type": "display_data"
    }
   ],
   "source": [
    "fig = plt.figure(figsize=(8,8))\n",
    "cm1 = confusion_matrix(y_test, BNB.predict(X_test))\n",
    "plot_confusion_matrix(cm1);"
   ]
  },
  {
   "cell_type": "markdown",
   "metadata": {},
   "source": [
    "### MNB"
   ]
  },
  {
   "cell_type": "code",
   "execution_count": 101,
   "metadata": {
    "collapsed": false
   },
   "outputs": [
    {
     "name": "stdout",
     "output_type": "stream",
     "text": [
      "Confusion matrix, without normalization\n",
      "[[ 2474  6190]\n",
      " [  720 49883]]\n"
     ]
    },
    {
     "data": {
      "image/png": "[encoded data removed]",
      "text/plain": [
       "<matplotlib.figure.Figure at 0x62ed7cc0>"
      ]
     },
     "metadata": {},
     "output_type": "display_data"
    }
   ],
   "source": [
    "fig = plt.figure(figsize=(8,8))\n",
    "cm2 = confusion_matrix(y_test, clf1.predict(X_test))\n",
    "plot_confusion_matrix(cm2);"
   ]
  },
  {
   "cell_type": "markdown",
   "metadata": {},
   "source": [
    "### Ada"
   ]
  },
  {
   "cell_type": "code",
   "execution_count": 102,
   "metadata": {
    "collapsed": false
   },
   "outputs": [
    {
     "name": "stdout",
     "output_type": "stream",
     "text": [
      "Confusion matrix, without normalization\n",
      "[[ 2703  5961]\n",
      " [  952 49651]]\n"
     ]
    },
    {
     "data": {
      "image/png": "[encoded data removed]",
      "text/plain": [
       "<matplotlib.figure.Figure at 0x723e0048>"
      ]
     },
     "metadata": {},
     "output_type": "display_data"
    }
   ],
   "source": [
    "fig = plt.figure(figsize=(8,8))\n",
    "cm3 = confusion_matrix(y_test, Ada.predict(X_test))\n",
    "plot_confusion_matrix(cm3);"
   ]
  },
  {
   "cell_type": "markdown",
   "metadata": {},
   "source": [
    "### Logistic Regression"
   ]
  },
  {
   "cell_type": "code",
   "execution_count": 103,
   "metadata": {
    "collapsed": false
   },
   "outputs": [
    {
     "name": "stdout",
     "output_type": "stream",
     "text": [
      "Confusion matrix, without normalization\n",
      "[[ 3230  5434]\n",
      " [ 1358 49245]]\n"
     ]
    },
    {
     "data": {
      "image/png": "[encoded data removed]",
      "text/plain": [
       "<matplotlib.figure.Figure at 0x1989bc50>"
      ]
     },
     "metadata": {},
     "output_type": "display_data"
    }
   ],
   "source": [
    "fig = plt.figure(figsize=(8,8))\n",
    "cm4 = confusion_matrix(y_test, logit.predict(X_test))\n",
    "plot_confusion_matrix(cm4);"
   ]
  },
  {
   "cell_type": "markdown",
   "metadata": {},
   "source": [
    "### Decision Tree"
   ]
  },
  {
   "cell_type": "code",
   "execution_count": 104,
   "metadata": {
    "collapsed": false
   },
   "outputs": [
    {
     "name": "stdout",
     "output_type": "stream",
     "text": [
      "Confusion matrix, without normalization\n",
      "[[ 2975  5689]\n",
      " [ 1635 48968]]\n"
     ]
    },
    {
     "data": {
      "image/png": "[encoded data removed]",
      "text/plain": [
       "<matplotlib.figure.Figure at 0x59c9f7b8>"
      ]
     },
     "metadata": {},
     "output_type": "display_data"
    }
   ],
   "source": [
    "fig = plt.figure(figsize=(8,8))\n",
    "cm5 = confusion_matrix(y_test, dtree.predict(X_test))\n",
    "plot_confusion_matrix(cm5);"
   ]
  },
  {
   "cell_type": "markdown",
   "metadata": {},
   "source": [
    "### Random Forest"
   ]
  },
  {
   "cell_type": "code",
   "execution_count": 105,
   "metadata": {
    "collapsed": false
   },
   "outputs": [
    {
     "name": "stdout",
     "output_type": "stream",
     "text": [
      "Confusion matrix, without normalization\n",
      "[[ 3418  5246]\n",
      " [ 1552 49051]]\n"
     ]
    },
    {
     "data": {
      "image/png": "[encoded data removed]",
      "text/plain": [
       "<matplotlib.figure.Figure at 0x72f82be0>"
      ]
     },
     "metadata": {},
     "output_type": "display_data"
    }
   ],
   "source": [
    "fig = plt.figure(figsize=(8,8))\n",
    "cm6 = confusion_matrix(y_test, random.predict(X_test))\n",
    "plot_confusion_matrix(cm6);"
   ]
  },
  {
   "cell_type": "markdown",
   "metadata": {},
   "source": [
    "### Perceptron"
   ]
  },
  {
   "cell_type": "code",
   "execution_count": 106,
   "metadata": {
    "collapsed": false
   },
   "outputs": [
    {
     "name": "stdout",
     "output_type": "stream",
     "text": [
      "Confusion matrix, without normalization\n",
      "[[ 3951  4713]\n",
      " [ 5049 45554]]\n"
     ]
    },
    {
     "data": {
      "image/png": "[encoded data removed]",
      "text/plain": [
       "<matplotlib.figure.Figure at 0x46475390>"
      ]
     },
     "metadata": {},
     "output_type": "display_data"
    }
   ],
   "source": [
    "fig = plt.figure(figsize=(8,8))\n",
    "cm7 = confusion_matrix(y_test, per.predict(X_test))\n",
    "plot_confusion_matrix(cm7);"
   ]
  }
 ],
 "metadata": {
  "kernelspec": {
   "display_name": "Python 2",
   "language": "python",
   "name": "python2"
  },
  "language_info": {
   "codemirror_mode": {
    "name": "ipython",
    "version": 2
   },
   "file_extension": ".py",
   "mimetype": "text/x-python",
   "name": "python",
   "nbconvert_exporter": "python",
   "pygments_lexer": "ipython2",
   "version": "2.7.13"
  }
 },
 "nbformat": 4,
 "nbformat_minor": 2
}
