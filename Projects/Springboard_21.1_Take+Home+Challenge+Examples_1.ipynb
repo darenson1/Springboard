{
 "cells": [
  {
   "cell_type": "markdown",
   "metadata": {},
   "source": [
    "### Part 1 ‑ Exploratory data analysis\n",
    "\n",
    "The attached logins.json file contains (simulated) timestamps of user logins in a particular\n",
    "geographic location. Aggregate these login counts based on 15minute\n",
    "time intervals, and\n",
    "visualize and describe the resulting time series of login counts in ways that best characterize the\n",
    "underlying patterns of the demand. Please report/illustrate important features of the demand,\n",
    "such as daily cycles. If there are data quality issues, please report them."
   ]
  },
  {
   "cell_type": "code",
   "execution_count": 1,
   "metadata": {
    "collapsed": true
   },
   "outputs": [],
   "source": [
    "%matplotlib inline\n",
    "import matplotlib.pyplot as plt\n",
    "import pandas as pd\n",
    "import numpy as np\n",
    "import pandas as pd\n",
    "from pandas import datetime\n",
    "import matplotlib as mpl\n",
    "import matplotlib.pyplot as plt\n",
    "from matplotlib.dates import DateFormatter\n",
    "import seaborn as sns\n",
    "\n",
    "import json\n",
    "from pandas.io.json import json_normalize\n",
    "\n",
    "from sklearn.ensemble import RandomForestClassifier\n",
    "from sklearn.model_selection import train_test_split,GridSearchCV\n",
    "from sklearn.feature_extraction import DictVectorizer\n",
    "from sklearn import metrics, preprocessing\n",
    "\n",
    "from sklearn.svm import SVC\n",
    "\n",
    "%matplotlib inline"
   ]
  },
  {
   "cell_type": "code",
   "execution_count": 2,
   "metadata": {
    "collapsed": false
   },
   "outputs": [],
   "source": [
    "\n",
    "logins_df = pd.read_json('logins.json')"
   ]
  },
  {
   "cell_type": "code",
   "execution_count": 3,
   "metadata": {
    "collapsed": false
   },
   "outputs": [
    {
     "data": {
      "text/html": [
       "<div>\n",
       "<table border=\"1\" class=\"dataframe\">\n",
       "  <thead>\n",
       "    <tr style=\"text-align: right;\">\n",
       "      <th></th>\n",
       "      <th>login_time</th>\n",
       "    </tr>\n",
       "  </thead>\n",
       "  <tbody>\n",
       "    <tr>\n",
       "      <th>0</th>\n",
       "      <td>1970-01-01 20:13:18</td>\n",
       "    </tr>\n",
       "    <tr>\n",
       "      <th>1</th>\n",
       "      <td>1970-01-01 20:16:10</td>\n",
       "    </tr>\n",
       "    <tr>\n",
       "      <th>2</th>\n",
       "      <td>1970-01-01 20:16:37</td>\n",
       "    </tr>\n",
       "    <tr>\n",
       "      <th>3</th>\n",
       "      <td>1970-01-01 20:16:36</td>\n",
       "    </tr>\n",
       "    <tr>\n",
       "      <th>4</th>\n",
       "      <td>1970-01-01 20:26:21</td>\n",
       "    </tr>\n",
       "  </tbody>\n",
       "</table>\n",
       "</div>"
      ],
      "text/plain": [
       "           login_time\n",
       "0 1970-01-01 20:13:18\n",
       "1 1970-01-01 20:16:10\n",
       "2 1970-01-01 20:16:37\n",
       "3 1970-01-01 20:16:36\n",
       "4 1970-01-01 20:26:21"
      ]
     },
     "execution_count": 3,
     "metadata": {},
     "output_type": "execute_result"
    }
   ],
   "source": [
    "logins_df.head()"
   ]
  },
  {
   "cell_type": "code",
   "execution_count": 4,
   "metadata": {
    "collapsed": false
   },
   "outputs": [
    {
     "data": {
      "text/html": [
       "<div>\n",
       "<table border=\"1\" class=\"dataframe\">\n",
       "  <thead>\n",
       "    <tr style=\"text-align: right;\">\n",
       "      <th></th>\n",
       "      <th>login_time</th>\n",
       "    </tr>\n",
       "  </thead>\n",
       "  <tbody>\n",
       "    <tr>\n",
       "      <th>count</th>\n",
       "      <td>93142</td>\n",
       "    </tr>\n",
       "    <tr>\n",
       "      <th>unique</th>\n",
       "      <td>92265</td>\n",
       "    </tr>\n",
       "    <tr>\n",
       "      <th>top</th>\n",
       "      <td>1970-02-12 11:16:53</td>\n",
       "    </tr>\n",
       "    <tr>\n",
       "      <th>freq</th>\n",
       "      <td>3</td>\n",
       "    </tr>\n",
       "    <tr>\n",
       "      <th>first</th>\n",
       "      <td>1970-01-01 20:12:16</td>\n",
       "    </tr>\n",
       "    <tr>\n",
       "      <th>last</th>\n",
       "      <td>1970-04-13 18:57:38</td>\n",
       "    </tr>\n",
       "  </tbody>\n",
       "</table>\n",
       "</div>"
      ],
      "text/plain": [
       "                 login_time\n",
       "count                 93142\n",
       "unique                92265\n",
       "top     1970-02-12 11:16:53\n",
       "freq                      3\n",
       "first   1970-01-01 20:12:16\n",
       "last    1970-04-13 18:57:38"
      ]
     },
     "execution_count": 4,
     "metadata": {},
     "output_type": "execute_result"
    }
   ],
   "source": [
    "logins_df.describe()"
   ]
  },
  {
   "cell_type": "code",
   "execution_count": 5,
   "metadata": {
    "collapsed": true
   },
   "outputs": [],
   "source": [
    "logins_df['login_time_round'] = logins_df.login_time.dt.round('15min')"
   ]
  },
  {
   "cell_type": "code",
   "execution_count": 6,
   "metadata": {
    "collapsed": false
   },
   "outputs": [
    {
     "data": {
      "text/html": [
       "<div>\n",
       "<table border=\"1\" class=\"dataframe\">\n",
       "  <thead>\n",
       "    <tr style=\"text-align: right;\">\n",
       "      <th></th>\n",
       "      <th>login_time</th>\n",
       "      <th>login_time_round</th>\n",
       "    </tr>\n",
       "  </thead>\n",
       "  <tbody>\n",
       "    <tr>\n",
       "      <th>0</th>\n",
       "      <td>1970-01-01 20:13:18</td>\n",
       "      <td>1970-01-01 20:15:00</td>\n",
       "    </tr>\n",
       "    <tr>\n",
       "      <th>1</th>\n",
       "      <td>1970-01-01 20:16:10</td>\n",
       "      <td>1970-01-01 20:15:00</td>\n",
       "    </tr>\n",
       "    <tr>\n",
       "      <th>2</th>\n",
       "      <td>1970-01-01 20:16:37</td>\n",
       "      <td>1970-01-01 20:15:00</td>\n",
       "    </tr>\n",
       "    <tr>\n",
       "      <th>3</th>\n",
       "      <td>1970-01-01 20:16:36</td>\n",
       "      <td>1970-01-01 20:15:00</td>\n",
       "    </tr>\n",
       "    <tr>\n",
       "      <th>4</th>\n",
       "      <td>1970-01-01 20:26:21</td>\n",
       "      <td>1970-01-01 20:30:00</td>\n",
       "    </tr>\n",
       "  </tbody>\n",
       "</table>\n",
       "</div>"
      ],
      "text/plain": [
       "           login_time    login_time_round\n",
       "0 1970-01-01 20:13:18 1970-01-01 20:15:00\n",
       "1 1970-01-01 20:16:10 1970-01-01 20:15:00\n",
       "2 1970-01-01 20:16:37 1970-01-01 20:15:00\n",
       "3 1970-01-01 20:16:36 1970-01-01 20:15:00\n",
       "4 1970-01-01 20:26:21 1970-01-01 20:30:00"
      ]
     },
     "execution_count": 6,
     "metadata": {},
     "output_type": "execute_result"
    }
   ],
   "source": [
    "logins_df.head()"
   ]
  },
  {
   "cell_type": "code",
   "execution_count": 7,
   "metadata": {
    "collapsed": true
   },
   "outputs": [],
   "source": [
    "logins_groups_df = pd.DataFrame(logins_df.login_time_round.groupby(by=logins_df.login_time_round).size(), columns=['count'])"
   ]
  },
  {
   "cell_type": "code",
   "execution_count": 8,
   "metadata": {
    "collapsed": false
   },
   "outputs": [
    {
     "data": {
      "text/html": [
       "<div>\n",
       "<table border=\"1\" class=\"dataframe\">\n",
       "  <thead>\n",
       "    <tr style=\"text-align: right;\">\n",
       "      <th></th>\n",
       "      <th>count</th>\n",
       "    </tr>\n",
       "    <tr>\n",
       "      <th>login_time_round</th>\n",
       "      <th></th>\n",
       "    </tr>\n",
       "  </thead>\n",
       "  <tbody>\n",
       "    <tr>\n",
       "      <th>1970-01-01 20:15:00</th>\n",
       "      <td>6</td>\n",
       "    </tr>\n",
       "    <tr>\n",
       "      <th>1970-01-01 20:30:00</th>\n",
       "      <td>8</td>\n",
       "    </tr>\n",
       "    <tr>\n",
       "      <th>1970-01-01 20:45:00</th>\n",
       "      <td>7</td>\n",
       "    </tr>\n",
       "    <tr>\n",
       "      <th>1970-01-01 21:00:00</th>\n",
       "      <td>3</td>\n",
       "    </tr>\n",
       "    <tr>\n",
       "      <th>1970-01-01 21:15:00</th>\n",
       "      <td>4</td>\n",
       "    </tr>\n",
       "    <tr>\n",
       "      <th>1970-01-01 21:30:00</th>\n",
       "      <td>1</td>\n",
       "    </tr>\n",
       "    <tr>\n",
       "      <th>1970-01-01 21:45:00</th>\n",
       "      <td>1</td>\n",
       "    </tr>\n",
       "    <tr>\n",
       "      <th>1970-01-01 22:00:00</th>\n",
       "      <td>8</td>\n",
       "    </tr>\n",
       "    <tr>\n",
       "      <th>1970-01-01 22:15:00</th>\n",
       "      <td>9</td>\n",
       "    </tr>\n",
       "    <tr>\n",
       "      <th>1970-01-01 22:30:00</th>\n",
       "      <td>4</td>\n",
       "    </tr>\n",
       "    <tr>\n",
       "      <th>1970-01-01 23:00:00</th>\n",
       "      <td>7</td>\n",
       "    </tr>\n",
       "    <tr>\n",
       "      <th>1970-01-01 23:15:00</th>\n",
       "      <td>19</td>\n",
       "    </tr>\n",
       "    <tr>\n",
       "      <th>1970-01-01 23:30:00</th>\n",
       "      <td>13</td>\n",
       "    </tr>\n",
       "    <tr>\n",
       "      <th>1970-01-01 23:45:00</th>\n",
       "      <td>16</td>\n",
       "    </tr>\n",
       "    <tr>\n",
       "      <th>1970-01-02 00:00:00</th>\n",
       "      <td>13</td>\n",
       "    </tr>\n",
       "    <tr>\n",
       "      <th>1970-01-02 00:15:00</th>\n",
       "      <td>13</td>\n",
       "    </tr>\n",
       "    <tr>\n",
       "      <th>1970-01-02 00:30:00</th>\n",
       "      <td>14</td>\n",
       "    </tr>\n",
       "    <tr>\n",
       "      <th>1970-01-02 00:45:00</th>\n",
       "      <td>14</td>\n",
       "    </tr>\n",
       "    <tr>\n",
       "      <th>1970-01-02 01:00:00</th>\n",
       "      <td>10</td>\n",
       "    </tr>\n",
       "    <tr>\n",
       "      <th>1970-01-02 01:15:00</th>\n",
       "      <td>8</td>\n",
       "    </tr>\n",
       "    <tr>\n",
       "      <th>1970-01-02 01:30:00</th>\n",
       "      <td>7</td>\n",
       "    </tr>\n",
       "    <tr>\n",
       "      <th>1970-01-02 01:45:00</th>\n",
       "      <td>9</td>\n",
       "    </tr>\n",
       "    <tr>\n",
       "      <th>1970-01-02 02:00:00</th>\n",
       "      <td>9</td>\n",
       "    </tr>\n",
       "    <tr>\n",
       "      <th>1970-01-02 02:15:00</th>\n",
       "      <td>10</td>\n",
       "    </tr>\n",
       "    <tr>\n",
       "      <th>1970-01-02 02:30:00</th>\n",
       "      <td>18</td>\n",
       "    </tr>\n",
       "    <tr>\n",
       "      <th>1970-01-02 02:45:00</th>\n",
       "      <td>7</td>\n",
       "    </tr>\n",
       "    <tr>\n",
       "      <th>1970-01-02 03:00:00</th>\n",
       "      <td>8</td>\n",
       "    </tr>\n",
       "    <tr>\n",
       "      <th>1970-01-02 03:15:00</th>\n",
       "      <td>9</td>\n",
       "    </tr>\n",
       "    <tr>\n",
       "      <th>1970-01-02 03:30:00</th>\n",
       "      <td>6</td>\n",
       "    </tr>\n",
       "    <tr>\n",
       "      <th>1970-01-02 03:45:00</th>\n",
       "      <td>4</td>\n",
       "    </tr>\n",
       "    <tr>\n",
       "      <th>...</th>\n",
       "      <td>...</td>\n",
       "    </tr>\n",
       "    <tr>\n",
       "      <th>1970-04-13 11:45:00</th>\n",
       "      <td>11</td>\n",
       "    </tr>\n",
       "    <tr>\n",
       "      <th>1970-04-13 12:00:00</th>\n",
       "      <td>8</td>\n",
       "    </tr>\n",
       "    <tr>\n",
       "      <th>1970-04-13 12:15:00</th>\n",
       "      <td>7</td>\n",
       "    </tr>\n",
       "    <tr>\n",
       "      <th>1970-04-13 12:30:00</th>\n",
       "      <td>8</td>\n",
       "    </tr>\n",
       "    <tr>\n",
       "      <th>1970-04-13 12:45:00</th>\n",
       "      <td>14</td>\n",
       "    </tr>\n",
       "    <tr>\n",
       "      <th>1970-04-13 13:00:00</th>\n",
       "      <td>6</td>\n",
       "    </tr>\n",
       "    <tr>\n",
       "      <th>1970-04-13 13:15:00</th>\n",
       "      <td>7</td>\n",
       "    </tr>\n",
       "    <tr>\n",
       "      <th>1970-04-13 13:30:00</th>\n",
       "      <td>2</td>\n",
       "    </tr>\n",
       "    <tr>\n",
       "      <th>1970-04-13 13:45:00</th>\n",
       "      <td>8</td>\n",
       "    </tr>\n",
       "    <tr>\n",
       "      <th>1970-04-13 14:00:00</th>\n",
       "      <td>4</td>\n",
       "    </tr>\n",
       "    <tr>\n",
       "      <th>1970-04-13 14:15:00</th>\n",
       "      <td>4</td>\n",
       "    </tr>\n",
       "    <tr>\n",
       "      <th>1970-04-13 14:30:00</th>\n",
       "      <td>10</td>\n",
       "    </tr>\n",
       "    <tr>\n",
       "      <th>1970-04-13 14:45:00</th>\n",
       "      <td>6</td>\n",
       "    </tr>\n",
       "    <tr>\n",
       "      <th>1970-04-13 15:00:00</th>\n",
       "      <td>13</td>\n",
       "    </tr>\n",
       "    <tr>\n",
       "      <th>1970-04-13 15:15:00</th>\n",
       "      <td>7</td>\n",
       "    </tr>\n",
       "    <tr>\n",
       "      <th>1970-04-13 15:30:00</th>\n",
       "      <td>4</td>\n",
       "    </tr>\n",
       "    <tr>\n",
       "      <th>1970-04-13 15:45:00</th>\n",
       "      <td>2</td>\n",
       "    </tr>\n",
       "    <tr>\n",
       "      <th>1970-04-13 16:00:00</th>\n",
       "      <td>5</td>\n",
       "    </tr>\n",
       "    <tr>\n",
       "      <th>1970-04-13 16:15:00</th>\n",
       "      <td>7</td>\n",
       "    </tr>\n",
       "    <tr>\n",
       "      <th>1970-04-13 16:30:00</th>\n",
       "      <td>8</td>\n",
       "    </tr>\n",
       "    <tr>\n",
       "      <th>1970-04-13 16:45:00</th>\n",
       "      <td>4</td>\n",
       "    </tr>\n",
       "    <tr>\n",
       "      <th>1970-04-13 17:00:00</th>\n",
       "      <td>3</td>\n",
       "    </tr>\n",
       "    <tr>\n",
       "      <th>1970-04-13 17:15:00</th>\n",
       "      <td>3</td>\n",
       "    </tr>\n",
       "    <tr>\n",
       "      <th>1970-04-13 17:30:00</th>\n",
       "      <td>6</td>\n",
       "    </tr>\n",
       "    <tr>\n",
       "      <th>1970-04-13 17:45:00</th>\n",
       "      <td>8</td>\n",
       "    </tr>\n",
       "    <tr>\n",
       "      <th>1970-04-13 18:00:00</th>\n",
       "      <td>3</td>\n",
       "    </tr>\n",
       "    <tr>\n",
       "      <th>1970-04-13 18:15:00</th>\n",
       "      <td>6</td>\n",
       "    </tr>\n",
       "    <tr>\n",
       "      <th>1970-04-13 18:30:00</th>\n",
       "      <td>3</td>\n",
       "    </tr>\n",
       "    <tr>\n",
       "      <th>1970-04-13 18:45:00</th>\n",
       "      <td>7</td>\n",
       "    </tr>\n",
       "    <tr>\n",
       "      <th>1970-04-13 19:00:00</th>\n",
       "      <td>3</td>\n",
       "    </tr>\n",
       "  </tbody>\n",
       "</table>\n",
       "<p>9376 rows × 1 columns</p>\n",
       "</div>"
      ],
      "text/plain": [
       "                     count\n",
       "login_time_round          \n",
       "1970-01-01 20:15:00      6\n",
       "1970-01-01 20:30:00      8\n",
       "1970-01-01 20:45:00      7\n",
       "1970-01-01 21:00:00      3\n",
       "1970-01-01 21:15:00      4\n",
       "1970-01-01 21:30:00      1\n",
       "1970-01-01 21:45:00      1\n",
       "1970-01-01 22:00:00      8\n",
       "1970-01-01 22:15:00      9\n",
       "1970-01-01 22:30:00      4\n",
       "1970-01-01 23:00:00      7\n",
       "1970-01-01 23:15:00     19\n",
       "1970-01-01 23:30:00     13\n",
       "1970-01-01 23:45:00     16\n",
       "1970-01-02 00:00:00     13\n",
       "1970-01-02 00:15:00     13\n",
       "1970-01-02 00:30:00     14\n",
       "1970-01-02 00:45:00     14\n",
       "1970-01-02 01:00:00     10\n",
       "1970-01-02 01:15:00      8\n",
       "1970-01-02 01:30:00      7\n",
       "1970-01-02 01:45:00      9\n",
       "1970-01-02 02:00:00      9\n",
       "1970-01-02 02:15:00     10\n",
       "1970-01-02 02:30:00     18\n",
       "1970-01-02 02:45:00      7\n",
       "1970-01-02 03:00:00      8\n",
       "1970-01-02 03:15:00      9\n",
       "1970-01-02 03:30:00      6\n",
       "1970-01-02 03:45:00      4\n",
       "...                    ...\n",
       "1970-04-13 11:45:00     11\n",
       "1970-04-13 12:00:00      8\n",
       "1970-04-13 12:15:00      7\n",
       "1970-04-13 12:30:00      8\n",
       "1970-04-13 12:45:00     14\n",
       "1970-04-13 13:00:00      6\n",
       "1970-04-13 13:15:00      7\n",
       "1970-04-13 13:30:00      2\n",
       "1970-04-13 13:45:00      8\n",
       "1970-04-13 14:00:00      4\n",
       "1970-04-13 14:15:00      4\n",
       "1970-04-13 14:30:00     10\n",
       "1970-04-13 14:45:00      6\n",
       "1970-04-13 15:00:00     13\n",
       "1970-04-13 15:15:00      7\n",
       "1970-04-13 15:30:00      4\n",
       "1970-04-13 15:45:00      2\n",
       "1970-04-13 16:00:00      5\n",
       "1970-04-13 16:15:00      7\n",
       "1970-04-13 16:30:00      8\n",
       "1970-04-13 16:45:00      4\n",
       "1970-04-13 17:00:00      3\n",
       "1970-04-13 17:15:00      3\n",
       "1970-04-13 17:30:00      6\n",
       "1970-04-13 17:45:00      8\n",
       "1970-04-13 18:00:00      3\n",
       "1970-04-13 18:15:00      6\n",
       "1970-04-13 18:30:00      3\n",
       "1970-04-13 18:45:00      7\n",
       "1970-04-13 19:00:00      3\n",
       "\n",
       "[9376 rows x 1 columns]"
      ]
     },
     "execution_count": 8,
     "metadata": {},
     "output_type": "execute_result"
    }
   ],
   "source": [
    "logins_groups_df"
   ]
  },
  {
   "cell_type": "code",
   "execution_count": 18,
   "metadata": {
    "collapsed": false
   },
   "outputs": [
    {
     "data": {
      "text/html": [
       "<div>\n",
       "<table border=\"1\" class=\"dataframe\">\n",
       "  <thead>\n",
       "    <tr style=\"text-align: right;\">\n",
       "      <th></th>\n",
       "      <th>count</th>\n",
       "      <th>Minute</th>\n",
       "      <th>Hour</th>\n",
       "      <th>Day</th>\n",
       "      <th>Weekday</th>\n",
       "      <th>Week</th>\n",
       "      <th>Month</th>\n",
       "      <th>Date</th>\n",
       "      <th>Time</th>\n",
       "    </tr>\n",
       "    <tr>\n",
       "      <th>login_time</th>\n",
       "      <th></th>\n",
       "      <th></th>\n",
       "      <th></th>\n",
       "      <th></th>\n",
       "      <th></th>\n",
       "      <th></th>\n",
       "      <th></th>\n",
       "      <th></th>\n",
       "      <th></th>\n",
       "    </tr>\n",
       "  </thead>\n",
       "  <tbody>\n",
       "    <tr>\n",
       "      <th>1970-01-01 20:00:00</th>\n",
       "      <td>2</td>\n",
       "      <td>0</td>\n",
       "      <td>20</td>\n",
       "      <td>1</td>\n",
       "      <td>3</td>\n",
       "      <td>1</td>\n",
       "      <td>1</td>\n",
       "      <td>1970-01-01</td>\n",
       "      <td>20:00:00</td>\n",
       "    </tr>\n",
       "    <tr>\n",
       "      <th>1970-01-01 20:15:00</th>\n",
       "      <td>6</td>\n",
       "      <td>15</td>\n",
       "      <td>20</td>\n",
       "      <td>1</td>\n",
       "      <td>3</td>\n",
       "      <td>1</td>\n",
       "      <td>1</td>\n",
       "      <td>1970-01-01</td>\n",
       "      <td>20:15:00</td>\n",
       "    </tr>\n",
       "    <tr>\n",
       "      <th>1970-01-01 20:30:00</th>\n",
       "      <td>9</td>\n",
       "      <td>30</td>\n",
       "      <td>20</td>\n",
       "      <td>1</td>\n",
       "      <td>3</td>\n",
       "      <td>1</td>\n",
       "      <td>1</td>\n",
       "      <td>1970-01-01</td>\n",
       "      <td>20:30:00</td>\n",
       "    </tr>\n",
       "    <tr>\n",
       "      <th>1970-01-01 20:45:00</th>\n",
       "      <td>7</td>\n",
       "      <td>45</td>\n",
       "      <td>20</td>\n",
       "      <td>1</td>\n",
       "      <td>3</td>\n",
       "      <td>1</td>\n",
       "      <td>1</td>\n",
       "      <td>1970-01-01</td>\n",
       "      <td>20:45:00</td>\n",
       "    </tr>\n",
       "    <tr>\n",
       "      <th>1970-01-01 21:00:00</th>\n",
       "      <td>1</td>\n",
       "      <td>0</td>\n",
       "      <td>21</td>\n",
       "      <td>1</td>\n",
       "      <td>3</td>\n",
       "      <td>1</td>\n",
       "      <td>1</td>\n",
       "      <td>1970-01-01</td>\n",
       "      <td>21:00:00</td>\n",
       "    </tr>\n",
       "  </tbody>\n",
       "</table>\n",
       "</div>"
      ],
      "text/plain": [
       "                     count  Minute  Hour  Day  Weekday  Week  Month  \\\n",
       "login_time                                                            \n",
       "1970-01-01 20:00:00      2       0    20    1        3     1      1   \n",
       "1970-01-01 20:15:00      6      15    20    1        3     1      1   \n",
       "1970-01-01 20:30:00      9      30    20    1        3     1      1   \n",
       "1970-01-01 20:45:00      7      45    20    1        3     1      1   \n",
       "1970-01-01 21:00:00      1       0    21    1        3     1      1   \n",
       "\n",
       "                           Date      Time  \n",
       "login_time                                 \n",
       "1970-01-01 20:00:00  1970-01-01  20:00:00  \n",
       "1970-01-01 20:15:00  1970-01-01  20:15:00  \n",
       "1970-01-01 20:30:00  1970-01-01  20:30:00  \n",
       "1970-01-01 20:45:00  1970-01-01  20:45:00  \n",
       "1970-01-01 21:00:00  1970-01-01  21:00:00  "
      ]
     },
     "execution_count": 18,
     "metadata": {},
     "output_type": "execute_result"
    }
   ],
   "source": [
    "login['Minute']=login.index.minute\n",
    "login['Hour']=login.index.hour\n",
    "login['Day']=login.index.day\n",
    "login['Weekday']=login.index.weekday\n",
    "login['Week']=login.index.week\n",
    "login['Month']=login.index.month\n",
    "login['Date']=login.index.date\n",
    "login['Time']=login.index.time\n",
    "login.head()"
   ]
  },
  {
   "cell_type": "markdown",
   "metadata": {},
   "source": [
    "***Monthly***"
   ]
  },
  {
   "cell_type": "code",
   "execution_count": 10,
   "metadata": {
    "collapsed": false
   },
   "outputs": [
    {
     "data": {
      "text/plain": [
       "<matplotlib.axes._subplots.AxesSubplot at 0xd282208>"
      ]
     },
     "execution_count": 10,
     "metadata": {},
     "output_type": "execute_result"
    },
    {
     "data": {
      "image/png": "[encoded data removed]",
      "text/plain": [
       "<matplotlib.figure.Figure at 0xbe9cf98>"
      ]
     },
     "metadata": {},
     "output_type": "display_data"
    }
   ],
   "source": [
    "login=pd.DataFrame(index=logins_df['login_time']).sort_index()\n",
    "login['count']=1\n",
    "login=login.resample('15T').count()\n",
    "login.plot()"
   ]
  },
  {
   "cell_type": "code",
   "execution_count": 11,
   "metadata": {
    "collapsed": false
   },
   "outputs": [
    {
     "data": {
      "text/plain": [
       "<matplotlib.axes._subplots.AxesSubplot at 0xd66a1d0>"
      ]
     },
     "execution_count": 11,
     "metadata": {},
     "output_type": "execute_result"
    },
    {
     "data": {
      "image/png": "[encoded data removed]",
      "text/plain": [
       "<matplotlib.figure.Figure at 0xd678ac8>"
      ]
     },
     "metadata": {},
     "output_type": "display_data"
    }
   ],
   "source": [
    "logins_groups_df.groupby(by=logins_groups_df.index.month).size().plot(kind='bar')"
   ]
  },
  {
   "cell_type": "markdown",
   "metadata": {},
   "source": [
    "***Weekly***"
   ]
  },
  {
   "cell_type": "code",
   "execution_count": 12,
   "metadata": {
    "collapsed": false
   },
   "outputs": [
    {
     "data": {
      "text/plain": [
       "<matplotlib.axes._subplots.AxesSubplot at 0xc337630>"
      ]
     },
     "execution_count": 12,
     "metadata": {},
     "output_type": "execute_result"
    },
    {
     "data": {
      "image/png": "[encoded data removed]",
      "text/plain": [
       "<matplotlib.figure.Figure at 0xc007eb8>"
      ]
     },
     "metadata": {},
     "output_type": "display_data"
    }
   ],
   "source": [
    "logins_groups_df.groupby(by=logins_groups_df.index.dayofweek).size().plot(kind='bar')"
   ]
  },
  {
   "cell_type": "code",
   "execution_count": 19,
   "metadata": {
    "collapsed": false
   },
   "outputs": [
    {
     "data": {
      "text/plain": [
       "<matplotlib.text.Text at 0xbe9ce80>"
      ]
     },
     "execution_count": 19,
     "metadata": {},
     "output_type": "execute_result"
    },
    {
     "data": {
      "image/png": "[encoded data removed]",
      "text/plain": [
       "<matplotlib.figure.Figure at 0xdfee2e8>"
      ]
     },
     "metadata": {},
     "output_type": "display_data"
    }
   ],
   "source": [
    "daily=login.groupby('Weekday')['count'].agg('mean')\n",
    "weekdays=['Mon','Tue','Wed','Thu','Fri','Sat','Sun']\n",
    "\n",
    "fig, ax = plt.subplots()\n",
    "\n",
    "daily.plot()\n",
    "ax.set_xticklabels(weekdays)\n",
    "ax.set_xlabel('Weekday')\n",
    "ax.set_ylabel('average login counts')"
   ]
  },
  {
   "cell_type": "code",
   "execution_count": 20,
   "metadata": {
    "collapsed": false
   },
   "outputs": [
    {
     "data": {
      "text/plain": [
       "<matplotlib.text.Text at 0xc4bfa20>"
      ]
     },
     "execution_count": 20,
     "metadata": {},
     "output_type": "execute_result"
    },
    {
     "data": {
      "image/png": "[encoded data removed]",
      "text/plain": [
       "<matplotlib.figure.Figure at 0xed80fd0>"
      ]
     },
     "metadata": {},
     "output_type": "display_data"
    }
   ],
   "source": [
    "daily=login.groupby('Week')['count'].agg('mean')\n",
    "\n",
    "fig, ax = plt.subplots()\n",
    "\n",
    "daily.plot()\n",
    "ax.set_xlabel('Week')\n",
    "ax.set_ylabel('average login counts')\n",
    "plt.suptitle('Login counts change with time')"
   ]
  },
  {
   "cell_type": "markdown",
   "metadata": {},
   "source": [
    "***Daily***"
   ]
  },
  {
   "cell_type": "markdown",
   "metadata": {},
   "source": [
    "The daily pattern illustrates that users are mostly active in the morning hours of 2am and 5am, the noon hours around 12pm and 10pm. "
   ]
  },
  {
   "cell_type": "code",
   "execution_count": 22,
   "metadata": {
    "collapsed": false
   },
   "outputs": [
    {
     "data": {
      "image/png": "[encoded data removed]",
      "text/plain": [
       "<matplotlib.figure.Figure at 0xc4bf128>"
      ]
     },
     "metadata": {},
     "output_type": "display_data"
    }
   ],
   "source": [
    "# trend after aggregating daily data\n",
    "daily=login.groupby('Date')['count'].agg('mean')\n",
    "\n",
    "fig, ax = plt.subplots()\n",
    "\n",
    "daily.plot()\n",
    "ax.set_xlabel('Date')\n",
    "ax.set_ylabel('average login counts')\n",
    "plt.suptitle('Login counts change with time')\n",
    "fig.autofmt_xdate()"
   ]
  },
  {
   "cell_type": "markdown",
   "metadata": {},
   "source": [
    "***Hourly***"
   ]
  },
  {
   "cell_type": "code",
   "execution_count": 23,
   "metadata": {
    "collapsed": false
   },
   "outputs": [
    {
     "data": {
      "text/plain": [
       "<matplotlib.axes._subplots.AxesSubplot at 0xf65a9b0>"
      ]
     },
     "execution_count": 23,
     "metadata": {},
     "output_type": "execute_result"
    },
    {
     "data": {
      "image/png": "[encoded data removed]",
      "text/plain": [
       "<matplotlib.figure.Figure at 0xde80c88>"
      ]
     },
     "metadata": {},
     "output_type": "display_data"
    }
   ],
   "source": [
    "logins_groups_df.groupby(by=logins_groups_df.index.hour).size().plot(kind='bar')"
   ]
  },
  {
   "cell_type": "code",
   "execution_count": 24,
   "metadata": {
    "collapsed": false
   },
   "outputs": [
    {
     "data": {
      "text/plain": [
       "<matplotlib.text.Text at 0xfc68fd0>"
      ]
     },
     "execution_count": 24,
     "metadata": {},
     "output_type": "execute_result"
    },
    {
     "data": {
      "image/png": "[encoded data removed]",
      "text/plain": [
       "<matplotlib.figure.Figure at 0xdc012b0>"
      ]
     },
     "metadata": {},
     "output_type": "display_data"
    }
   ],
   "source": [
    "daily=login.groupby('Time')['count'].agg('mean')\n",
    "\n",
    "fig, ax = plt.subplots()\n",
    "\n",
    "daily.plot()\n",
    "ax.xaxis.set_major_locator(mpl.ticker.MultipleLocator(3600*3))\n",
    "fig.canvas.draw() # in order to get labels from below, otherwise won't locate x tick labels\n",
    "labels = [item.get_text()[:2] for item in ax.get_xticklabels()]\n",
    "ax.set_xticklabels(labels)\n",
    "ax.set_xlabel('Daily cycle (Hour)')\n",
    "ax.set_ylabel('average login counts')\n",
    "plt.suptitle('Daily change of login counts')"
   ]
  },
  {
   "cell_type": "markdown",
   "metadata": {},
   "source": [
    "Very consistent change in weekly usage."
   ]
  },
  {
   "cell_type": "markdown",
   "metadata": {},
   "source": [
    "### Part 2- Experiment and metrics design\n",
    "\n",
    "\n",
    "The neighboring cities of Gotham and Metropolis have complementary circadian rhythms: on weekdays, Ultimate Gotham is most active at night, and Ultimate Metropolis is most active during the day. On weekends, there is reasonable activity in both cities.\n",
    "\n",
    "However, a toll bridge, with a two way toll, between the two cities causes driver partners to tend to be exclusive to each city. The Ultimate managers of city operations for the two cities have proposed an experiment to encourage driver partners to be available in both cities, by reimbursing all \n",
    "toll costs.\n",
    "\n",
    "1. What would you choose as the key measure of success of this experiment in encouraging driver partners to serve both cities, and why would you choose this metric?\n",
    "\n",
    "**I would choose to measure number of drivers that serve by neighborhood and measure the number of trips per driver in the neigboring city**\n",
    "\n",
    "2. Describe a practical experiment you would design to compare the effectiveness of the proposed change in relation to the key measure of success.\n",
    "\n",
    "Please provide details on: \n",
    "\n",
    "a. how you will implement the experiment\n",
    "b. what statistical test(s) you will conduct to verify the significance of the observation\n",
    "c. how you would interpret the results and provide recommendations to the city operations team along with any caveats.\n",
    "\n",
    "**I would begin by doing some Hypothesis Testing. I would divide users into 2 groups as the control and experiment, irregardless of city. The user group that gets reimbursed would be the experiment and the control would be the users that don't recieve a reimbursement. I would then run this test for 2 weeks, so that I could collect enough of a sample then compare results of the two groups.\n",
    "In each group samples have been divided into 2 categories (commuting from two cities, or one city).I would then perform a chi squared test to see if there is any statistical significance with commuters from 1 or 2 cities. P value < 0.05 = statistical significance ie) recomendation for toll reimbursement.**\n"
   ]
  },
  {
   "cell_type": "markdown",
   "metadata": {},
   "source": [
    "### Part 3 ‑ Predictive modeling\n",
    "\n",
    "Ultimate is interested in predicting rider retention. To help explore this question, we have\n",
    "provided a sample dataset of a cohort of users who signed up for an Ultimate account in\n",
    "January 2014. The data was pulled several months later; we consider a user retained if they\n",
    "were “active” (i.e. took a trip) in the preceding 30 days.\n",
    "We would like you to use this data set to help understand what factors are the best predictors\n",
    "for retention, and offer suggestions to operationalize those insights to help Ultimate.\n",
    "The data is in the attached file ultimate_data_challenge.json. See below for a detailed\n",
    "description of the dataset. Please include any code you wrote for the analysis and delete the\n",
    "dataset when you have finished with the challenge.\n",
    "1. Perform any cleaning, exploratory analysis, and/or visualizations to use the provided\n",
    "data for this analysis (a few sentences/plots describing your approach will suffice). What\n",
    "fraction of the observed users were retained?\n",
    "2. Build a predictive model to help Ultimate determine whether or not a user will be active\n",
    "in their 6th month on the system. Discuss why you chose your approach, what\n",
    "alternatives you considered, and any concerns you have. How valid is your model?\n",
    "Include any key indicators of model performance.\n",
    "3. Briefly discuss how Ultimate might leverage the insights gained from the model to\n",
    "improve its longterm\n",
    "rider retention (again, a few sentences will suffice)."
   ]
  },
  {
   "cell_type": "code",
   "execution_count": 25,
   "metadata": {
    "collapsed": true
   },
   "outputs": [],
   "source": [
    "with open('ultimate_data_challenge.json') as f:\n",
    "    data = json.load(f)"
   ]
  },
  {
   "cell_type": "code",
   "execution_count": 26,
   "metadata": {
    "collapsed": false
   },
   "outputs": [
    {
     "data": {
      "text/plain": [
       "{u'avg_dist': 3.67,\n",
       " u'avg_rating_by_driver': 5.0,\n",
       " u'avg_rating_of_driver': 4.7,\n",
       " u'avg_surge': 1.1,\n",
       " u'city': u\"King's Landing\",\n",
       " u'last_trip_date': u'2014-06-17',\n",
       " u'phone': u'iPhone',\n",
       " u'signup_date': u'2014-01-25',\n",
       " u'surge_pct': 15.4,\n",
       " u'trips_in_first_30_days': 4,\n",
       " u'ultimate_black_user': True,\n",
       " u'weekday_pct': 46.2}"
      ]
     },
     "execution_count": 26,
     "metadata": {},
     "output_type": "execute_result"
    }
   ],
   "source": [
    "data[0]"
   ]
  },
  {
   "cell_type": "code",
   "execution_count": 27,
   "metadata": {
    "collapsed": false
   },
   "outputs": [
    {
     "data": {
      "text/html": [
       "<div>\n",
       "<table border=\"1\" class=\"dataframe\">\n",
       "  <thead>\n",
       "    <tr style=\"text-align: right;\">\n",
       "      <th></th>\n",
       "      <th>avg_dist</th>\n",
       "      <th>avg_rating_by_driver</th>\n",
       "      <th>avg_rating_of_driver</th>\n",
       "      <th>avg_surge</th>\n",
       "      <th>city</th>\n",
       "      <th>last_trip_date</th>\n",
       "      <th>phone</th>\n",
       "      <th>signup_date</th>\n",
       "      <th>surge_pct</th>\n",
       "      <th>trips_in_first_30_days</th>\n",
       "      <th>ultimate_black_user</th>\n",
       "      <th>weekday_pct</th>\n",
       "    </tr>\n",
       "  </thead>\n",
       "  <tbody>\n",
       "    <tr>\n",
       "      <th>0</th>\n",
       "      <td>3.67</td>\n",
       "      <td>5.0</td>\n",
       "      <td>4.7</td>\n",
       "      <td>1.10</td>\n",
       "      <td>King's Landing</td>\n",
       "      <td>2014-06-17</td>\n",
       "      <td>iPhone</td>\n",
       "      <td>2014-01-25</td>\n",
       "      <td>15.4</td>\n",
       "      <td>4</td>\n",
       "      <td>True</td>\n",
       "      <td>46.2</td>\n",
       "    </tr>\n",
       "    <tr>\n",
       "      <th>1</th>\n",
       "      <td>8.26</td>\n",
       "      <td>5.0</td>\n",
       "      <td>5.0</td>\n",
       "      <td>1.00</td>\n",
       "      <td>Astapor</td>\n",
       "      <td>2014-05-05</td>\n",
       "      <td>Android</td>\n",
       "      <td>2014-01-29</td>\n",
       "      <td>0.0</td>\n",
       "      <td>0</td>\n",
       "      <td>False</td>\n",
       "      <td>50.0</td>\n",
       "    </tr>\n",
       "    <tr>\n",
       "      <th>2</th>\n",
       "      <td>0.77</td>\n",
       "      <td>5.0</td>\n",
       "      <td>4.3</td>\n",
       "      <td>1.00</td>\n",
       "      <td>Astapor</td>\n",
       "      <td>2014-01-07</td>\n",
       "      <td>iPhone</td>\n",
       "      <td>2014-01-06</td>\n",
       "      <td>0.0</td>\n",
       "      <td>3</td>\n",
       "      <td>False</td>\n",
       "      <td>100.0</td>\n",
       "    </tr>\n",
       "    <tr>\n",
       "      <th>3</th>\n",
       "      <td>2.36</td>\n",
       "      <td>4.9</td>\n",
       "      <td>4.6</td>\n",
       "      <td>1.14</td>\n",
       "      <td>King's Landing</td>\n",
       "      <td>2014-06-29</td>\n",
       "      <td>iPhone</td>\n",
       "      <td>2014-01-10</td>\n",
       "      <td>20.0</td>\n",
       "      <td>9</td>\n",
       "      <td>True</td>\n",
       "      <td>80.0</td>\n",
       "    </tr>\n",
       "    <tr>\n",
       "      <th>4</th>\n",
       "      <td>3.13</td>\n",
       "      <td>4.9</td>\n",
       "      <td>4.4</td>\n",
       "      <td>1.19</td>\n",
       "      <td>Winterfell</td>\n",
       "      <td>2014-03-15</td>\n",
       "      <td>Android</td>\n",
       "      <td>2014-01-27</td>\n",
       "      <td>11.8</td>\n",
       "      <td>14</td>\n",
       "      <td>False</td>\n",
       "      <td>82.4</td>\n",
       "    </tr>\n",
       "  </tbody>\n",
       "</table>\n",
       "</div>"
      ],
      "text/plain": [
       "   avg_dist  avg_rating_by_driver  avg_rating_of_driver  avg_surge  \\\n",
       "0      3.67                   5.0                   4.7       1.10   \n",
       "1      8.26                   5.0                   5.0       1.00   \n",
       "2      0.77                   5.0                   4.3       1.00   \n",
       "3      2.36                   4.9                   4.6       1.14   \n",
       "4      3.13                   4.9                   4.4       1.19   \n",
       "\n",
       "             city last_trip_date    phone signup_date  surge_pct  \\\n",
       "0  King's Landing     2014-06-17   iPhone  2014-01-25       15.4   \n",
       "1         Astapor     2014-05-05  Android  2014-01-29        0.0   \n",
       "2         Astapor     2014-01-07   iPhone  2014-01-06        0.0   \n",
       "3  King's Landing     2014-06-29   iPhone  2014-01-10       20.0   \n",
       "4      Winterfell     2014-03-15  Android  2014-01-27       11.8   \n",
       "\n",
       "   trips_in_first_30_days ultimate_black_user  weekday_pct  \n",
       "0                       4                True         46.2  \n",
       "1                       0               False         50.0  \n",
       "2                       3               False        100.0  \n",
       "3                       9                True         80.0  \n",
       "4                      14               False         82.4  "
      ]
     },
     "execution_count": 27,
     "metadata": {},
     "output_type": "execute_result"
    }
   ],
   "source": [
    "df = pd.DataFrame.from_dict(data)\n",
    "df.head()"
   ]
  },
  {
   "cell_type": "code",
   "execution_count": 28,
   "metadata": {
    "collapsed": true
   },
   "outputs": [],
   "source": [
    "df.last_trip_date = pd.to_datetime(df.last_trip_date, format='%Y-%m-%d')\n",
    "df.signup_date = pd.to_datetime(df.signup_date, format='%Y-%m-%d')"
   ]
  },
  {
   "cell_type": "code",
   "execution_count": 29,
   "metadata": {
    "collapsed": true
   },
   "outputs": [],
   "source": [
    "# converting categorical data to binary for logistic regression\n",
    "df['is_Astapor'] = np.where(df.city == 'Astapor', 1, 0)\n",
    "df['is_Kings'] = np.where(df.city == 'King\\'s Landing', 1, 0)\n",
    "df['is_iPhone'] = np.where(df.phone == 'iPhone', 1, 0)\n",
    "df['ultimate_black_user_binary'] = np.where(df.ultimate_black_user == True, 1, 0)"
   ]
  },
  {
   "cell_type": "code",
   "execution_count": 30,
   "metadata": {
    "collapsed": false
   },
   "outputs": [
    {
     "data": {
      "text/plain": [
       "avg_dist                         0\n",
       "avg_rating_by_driver           201\n",
       "avg_rating_of_driver          8122\n",
       "avg_surge                        0\n",
       "city                             0\n",
       "last_trip_date                   0\n",
       "phone                          396\n",
       "signup_date                      0\n",
       "surge_pct                        0\n",
       "trips_in_first_30_days           0\n",
       "ultimate_black_user              0\n",
       "weekday_pct                      0\n",
       "is_Astapor                       0\n",
       "is_Kings                         0\n",
       "is_iPhone                        0\n",
       "ultimate_black_user_binary       0\n",
       "dtype: int64"
      ]
     },
     "execution_count": 30,
     "metadata": {},
     "output_type": "execute_result"
    }
   ],
   "source": [
    "# need to process NaNs\n",
    "df.isnull().sum()"
   ]
  },
  {
   "cell_type": "code",
   "execution_count": 31,
   "metadata": {
    "collapsed": true
   },
   "outputs": [],
   "source": [
    "df.avg_rating_of_driver.fillna(df.avg_rating_of_driver.mean(skipna=True), inplace=True)"
   ]
  },
  {
   "cell_type": "code",
   "execution_count": 32,
   "metadata": {
    "collapsed": false
   },
   "outputs": [
    {
     "data": {
      "text/plain": [
       "avg_dist                        0\n",
       "avg_rating_by_driver          201\n",
       "avg_rating_of_driver            0\n",
       "avg_surge                       0\n",
       "city                            0\n",
       "last_trip_date                  0\n",
       "phone                         396\n",
       "signup_date                     0\n",
       "surge_pct                       0\n",
       "trips_in_first_30_days          0\n",
       "ultimate_black_user             0\n",
       "weekday_pct                     0\n",
       "is_Astapor                      0\n",
       "is_Kings                        0\n",
       "is_iPhone                       0\n",
       "ultimate_black_user_binary      0\n",
       "dtype: int64"
      ]
     },
     "execution_count": 32,
     "metadata": {},
     "output_type": "execute_result"
    }
   ],
   "source": [
    "df.isnull().sum()"
   ]
  },
  {
   "cell_type": "code",
   "execution_count": 33,
   "metadata": {
    "collapsed": true
   },
   "outputs": [],
   "source": [
    "df_mask = df[df.avg_rating_by_driver.notnull()]"
   ]
  },
  {
   "cell_type": "code",
   "execution_count": 34,
   "metadata": {
    "collapsed": false
   },
   "outputs": [
    {
     "data": {
      "text/html": [
       "<div>\n",
       "<table border=\"1\" class=\"dataframe\">\n",
       "  <thead>\n",
       "    <tr style=\"text-align: right;\">\n",
       "      <th></th>\n",
       "      <th>avg_dist</th>\n",
       "      <th>avg_rating_by_driver</th>\n",
       "      <th>avg_rating_of_driver</th>\n",
       "      <th>avg_surge</th>\n",
       "      <th>city</th>\n",
       "      <th>last_trip_date</th>\n",
       "      <th>phone</th>\n",
       "      <th>signup_date</th>\n",
       "      <th>surge_pct</th>\n",
       "      <th>trips_in_first_30_days</th>\n",
       "      <th>ultimate_black_user</th>\n",
       "      <th>weekday_pct</th>\n",
       "      <th>is_Astapor</th>\n",
       "      <th>is_Kings</th>\n",
       "      <th>is_iPhone</th>\n",
       "      <th>ultimate_black_user_binary</th>\n",
       "    </tr>\n",
       "  </thead>\n",
       "  <tbody>\n",
       "    <tr>\n",
       "      <th>0</th>\n",
       "      <td>3.67</td>\n",
       "      <td>5.0</td>\n",
       "      <td>4.7</td>\n",
       "      <td>1.10</td>\n",
       "      <td>King's Landing</td>\n",
       "      <td>2014-06-17</td>\n",
       "      <td>iPhone</td>\n",
       "      <td>2014-01-25</td>\n",
       "      <td>15.4</td>\n",
       "      <td>4</td>\n",
       "      <td>True</td>\n",
       "      <td>46.2</td>\n",
       "      <td>0</td>\n",
       "      <td>1</td>\n",
       "      <td>1</td>\n",
       "      <td>1</td>\n",
       "    </tr>\n",
       "    <tr>\n",
       "      <th>1</th>\n",
       "      <td>8.26</td>\n",
       "      <td>5.0</td>\n",
       "      <td>5.0</td>\n",
       "      <td>1.00</td>\n",
       "      <td>Astapor</td>\n",
       "      <td>2014-05-05</td>\n",
       "      <td>Android</td>\n",
       "      <td>2014-01-29</td>\n",
       "      <td>0.0</td>\n",
       "      <td>0</td>\n",
       "      <td>False</td>\n",
       "      <td>50.0</td>\n",
       "      <td>1</td>\n",
       "      <td>0</td>\n",
       "      <td>0</td>\n",
       "      <td>0</td>\n",
       "    </tr>\n",
       "    <tr>\n",
       "      <th>2</th>\n",
       "      <td>0.77</td>\n",
       "      <td>5.0</td>\n",
       "      <td>4.3</td>\n",
       "      <td>1.00</td>\n",
       "      <td>Astapor</td>\n",
       "      <td>2014-01-07</td>\n",
       "      <td>iPhone</td>\n",
       "      <td>2014-01-06</td>\n",
       "      <td>0.0</td>\n",
       "      <td>3</td>\n",
       "      <td>False</td>\n",
       "      <td>100.0</td>\n",
       "      <td>1</td>\n",
       "      <td>0</td>\n",
       "      <td>1</td>\n",
       "      <td>0</td>\n",
       "    </tr>\n",
       "    <tr>\n",
       "      <th>3</th>\n",
       "      <td>2.36</td>\n",
       "      <td>4.9</td>\n",
       "      <td>4.6</td>\n",
       "      <td>1.14</td>\n",
       "      <td>King's Landing</td>\n",
       "      <td>2014-06-29</td>\n",
       "      <td>iPhone</td>\n",
       "      <td>2014-01-10</td>\n",
       "      <td>20.0</td>\n",
       "      <td>9</td>\n",
       "      <td>True</td>\n",
       "      <td>80.0</td>\n",
       "      <td>0</td>\n",
       "      <td>1</td>\n",
       "      <td>1</td>\n",
       "      <td>1</td>\n",
       "    </tr>\n",
       "    <tr>\n",
       "      <th>4</th>\n",
       "      <td>3.13</td>\n",
       "      <td>4.9</td>\n",
       "      <td>4.4</td>\n",
       "      <td>1.19</td>\n",
       "      <td>Winterfell</td>\n",
       "      <td>2014-03-15</td>\n",
       "      <td>Android</td>\n",
       "      <td>2014-01-27</td>\n",
       "      <td>11.8</td>\n",
       "      <td>14</td>\n",
       "      <td>False</td>\n",
       "      <td>82.4</td>\n",
       "      <td>0</td>\n",
       "      <td>0</td>\n",
       "      <td>0</td>\n",
       "      <td>0</td>\n",
       "    </tr>\n",
       "  </tbody>\n",
       "</table>\n",
       "</div>"
      ],
      "text/plain": [
       "   avg_dist  avg_rating_by_driver  avg_rating_of_driver  avg_surge  \\\n",
       "0      3.67                   5.0                   4.7       1.10   \n",
       "1      8.26                   5.0                   5.0       1.00   \n",
       "2      0.77                   5.0                   4.3       1.00   \n",
       "3      2.36                   4.9                   4.6       1.14   \n",
       "4      3.13                   4.9                   4.4       1.19   \n",
       "\n",
       "             city last_trip_date    phone signup_date  surge_pct  \\\n",
       "0  King's Landing     2014-06-17   iPhone  2014-01-25       15.4   \n",
       "1         Astapor     2014-05-05  Android  2014-01-29        0.0   \n",
       "2         Astapor     2014-01-07   iPhone  2014-01-06        0.0   \n",
       "3  King's Landing     2014-06-29   iPhone  2014-01-10       20.0   \n",
       "4      Winterfell     2014-03-15  Android  2014-01-27       11.8   \n",
       "\n",
       "   trips_in_first_30_days ultimate_black_user  weekday_pct  is_Astapor  \\\n",
       "0                       4                True         46.2           0   \n",
       "1                       0               False         50.0           1   \n",
       "2                       3               False        100.0           1   \n",
       "3                       9                True         80.0           0   \n",
       "4                      14               False         82.4           0   \n",
       "\n",
       "   is_Kings  is_iPhone  ultimate_black_user_binary  \n",
       "0         1          1                           1  \n",
       "1         0          0                           0  \n",
       "2         0          1                           0  \n",
       "3         1          1                           1  \n",
       "4         0          0                           0  "
      ]
     },
     "execution_count": 34,
     "metadata": {},
     "output_type": "execute_result"
    }
   ],
   "source": [
    "df.head()"
   ]
  },
  {
   "cell_type": "code",
   "execution_count": 35,
   "metadata": {
    "collapsed": false
   },
   "outputs": [
    {
     "data": {
      "text/html": [
       "<div>\n",
       "<table border=\"1\" class=\"dataframe\">\n",
       "  <thead>\n",
       "    <tr style=\"text-align: right;\">\n",
       "      <th></th>\n",
       "      <th>avg_dist</th>\n",
       "      <th>avg_rating_by_driver</th>\n",
       "      <th>avg_rating_of_driver</th>\n",
       "      <th>avg_surge</th>\n",
       "      <th>city</th>\n",
       "      <th>last_trip_date</th>\n",
       "      <th>phone</th>\n",
       "      <th>signup_date</th>\n",
       "      <th>surge_pct</th>\n",
       "      <th>trips_in_first_30_days</th>\n",
       "      <th>ultimate_black_user</th>\n",
       "      <th>weekday_pct</th>\n",
       "      <th>is_Astapor</th>\n",
       "      <th>is_Kings</th>\n",
       "      <th>is_iPhone</th>\n",
       "      <th>ultimate_black_user_binary</th>\n",
       "    </tr>\n",
       "  </thead>\n",
       "  <tbody>\n",
       "    <tr>\n",
       "      <th>count</th>\n",
       "      <td>49799.000000</td>\n",
       "      <td>49799.000000</td>\n",
       "      <td>49799.000000</td>\n",
       "      <td>49799.000000</td>\n",
       "      <td>49799</td>\n",
       "      <td>49799</td>\n",
       "      <td>49406</td>\n",
       "      <td>49799</td>\n",
       "      <td>49799.000000</td>\n",
       "      <td>49799.000000</td>\n",
       "      <td>49799</td>\n",
       "      <td>49799.000000</td>\n",
       "      <td>49799.000000</td>\n",
       "      <td>49799.000000</td>\n",
       "      <td>49799.000000</td>\n",
       "      <td>49799.000000</td>\n",
       "    </tr>\n",
       "    <tr>\n",
       "      <th>unique</th>\n",
       "      <td>NaN</td>\n",
       "      <td>NaN</td>\n",
       "      <td>NaN</td>\n",
       "      <td>NaN</td>\n",
       "      <td>3</td>\n",
       "      <td>182</td>\n",
       "      <td>2</td>\n",
       "      <td>31</td>\n",
       "      <td>NaN</td>\n",
       "      <td>NaN</td>\n",
       "      <td>2</td>\n",
       "      <td>NaN</td>\n",
       "      <td>NaN</td>\n",
       "      <td>NaN</td>\n",
       "      <td>NaN</td>\n",
       "      <td>NaN</td>\n",
       "    </tr>\n",
       "    <tr>\n",
       "      <th>top</th>\n",
       "      <td>NaN</td>\n",
       "      <td>NaN</td>\n",
       "      <td>NaN</td>\n",
       "      <td>NaN</td>\n",
       "      <td>Winterfell</td>\n",
       "      <td>2014-06-29 00:00:00</td>\n",
       "      <td>iPhone</td>\n",
       "      <td>2014-01-18 00:00:00</td>\n",
       "      <td>NaN</td>\n",
       "      <td>NaN</td>\n",
       "      <td>False</td>\n",
       "      <td>NaN</td>\n",
       "      <td>NaN</td>\n",
       "      <td>NaN</td>\n",
       "      <td>NaN</td>\n",
       "      <td>NaN</td>\n",
       "    </tr>\n",
       "    <tr>\n",
       "      <th>freq</th>\n",
       "      <td>NaN</td>\n",
       "      <td>NaN</td>\n",
       "      <td>NaN</td>\n",
       "      <td>NaN</td>\n",
       "      <td>23233</td>\n",
       "      <td>2033</td>\n",
       "      <td>34446</td>\n",
       "      <td>2936</td>\n",
       "      <td>NaN</td>\n",
       "      <td>NaN</td>\n",
       "      <td>30979</td>\n",
       "      <td>NaN</td>\n",
       "      <td>NaN</td>\n",
       "      <td>NaN</td>\n",
       "      <td>NaN</td>\n",
       "      <td>NaN</td>\n",
       "    </tr>\n",
       "    <tr>\n",
       "      <th>first</th>\n",
       "      <td>NaN</td>\n",
       "      <td>NaN</td>\n",
       "      <td>NaN</td>\n",
       "      <td>NaN</td>\n",
       "      <td>NaN</td>\n",
       "      <td>2014-01-01 00:00:00</td>\n",
       "      <td>NaN</td>\n",
       "      <td>2014-01-01 00:00:00</td>\n",
       "      <td>NaN</td>\n",
       "      <td>NaN</td>\n",
       "      <td>NaN</td>\n",
       "      <td>NaN</td>\n",
       "      <td>NaN</td>\n",
       "      <td>NaN</td>\n",
       "      <td>NaN</td>\n",
       "      <td>NaN</td>\n",
       "    </tr>\n",
       "    <tr>\n",
       "      <th>last</th>\n",
       "      <td>NaN</td>\n",
       "      <td>NaN</td>\n",
       "      <td>NaN</td>\n",
       "      <td>NaN</td>\n",
       "      <td>NaN</td>\n",
       "      <td>2014-07-01 00:00:00</td>\n",
       "      <td>NaN</td>\n",
       "      <td>2014-01-31 00:00:00</td>\n",
       "      <td>NaN</td>\n",
       "      <td>NaN</td>\n",
       "      <td>NaN</td>\n",
       "      <td>NaN</td>\n",
       "      <td>NaN</td>\n",
       "      <td>NaN</td>\n",
       "      <td>NaN</td>\n",
       "      <td>NaN</td>\n",
       "    </tr>\n",
       "    <tr>\n",
       "      <th>mean</th>\n",
       "      <td>5.795332</td>\n",
       "      <td>4.778158</td>\n",
       "      <td>4.601762</td>\n",
       "      <td>1.074396</td>\n",
       "      <td>NaN</td>\n",
       "      <td>NaN</td>\n",
       "      <td>NaN</td>\n",
       "      <td>NaN</td>\n",
       "      <td>8.821665</td>\n",
       "      <td>2.285166</td>\n",
       "      <td>NaN</td>\n",
       "      <td>60.957132</td>\n",
       "      <td>0.330850</td>\n",
       "      <td>0.202615</td>\n",
       "      <td>0.691701</td>\n",
       "      <td>0.377919</td>\n",
       "    </tr>\n",
       "    <tr>\n",
       "      <th>std</th>\n",
       "      <td>5.665794</td>\n",
       "      <td>0.446652</td>\n",
       "      <td>0.564056</td>\n",
       "      <td>0.220694</td>\n",
       "      <td>NaN</td>\n",
       "      <td>NaN</td>\n",
       "      <td>NaN</td>\n",
       "      <td>NaN</td>\n",
       "      <td>19.860920</td>\n",
       "      <td>3.798589</td>\n",
       "      <td>NaN</td>\n",
       "      <td>37.017558</td>\n",
       "      <td>0.470524</td>\n",
       "      <td>0.401952</td>\n",
       "      <td>0.461796</td>\n",
       "      <td>0.484872</td>\n",
       "    </tr>\n",
       "    <tr>\n",
       "      <th>min</th>\n",
       "      <td>0.000000</td>\n",
       "      <td>1.000000</td>\n",
       "      <td>1.000000</td>\n",
       "      <td>1.000000</td>\n",
       "      <td>NaN</td>\n",
       "      <td>NaN</td>\n",
       "      <td>NaN</td>\n",
       "      <td>NaN</td>\n",
       "      <td>0.000000</td>\n",
       "      <td>0.000000</td>\n",
       "      <td>NaN</td>\n",
       "      <td>0.000000</td>\n",
       "      <td>0.000000</td>\n",
       "      <td>0.000000</td>\n",
       "      <td>0.000000</td>\n",
       "      <td>0.000000</td>\n",
       "    </tr>\n",
       "    <tr>\n",
       "      <th>25%</th>\n",
       "      <td>2.420000</td>\n",
       "      <td>4.700000</td>\n",
       "      <td>4.500000</td>\n",
       "      <td>1.000000</td>\n",
       "      <td>NaN</td>\n",
       "      <td>NaN</td>\n",
       "      <td>NaN</td>\n",
       "      <td>NaN</td>\n",
       "      <td>0.000000</td>\n",
       "      <td>0.000000</td>\n",
       "      <td>NaN</td>\n",
       "      <td>33.300000</td>\n",
       "      <td>0.000000</td>\n",
       "      <td>0.000000</td>\n",
       "      <td>0.000000</td>\n",
       "      <td>0.000000</td>\n",
       "    </tr>\n",
       "    <tr>\n",
       "      <th>50%</th>\n",
       "      <td>3.890000</td>\n",
       "      <td>5.000000</td>\n",
       "      <td>4.700000</td>\n",
       "      <td>1.000000</td>\n",
       "      <td>NaN</td>\n",
       "      <td>NaN</td>\n",
       "      <td>NaN</td>\n",
       "      <td>NaN</td>\n",
       "      <td>0.000000</td>\n",
       "      <td>1.000000</td>\n",
       "      <td>NaN</td>\n",
       "      <td>66.700000</td>\n",
       "      <td>0.000000</td>\n",
       "      <td>0.000000</td>\n",
       "      <td>1.000000</td>\n",
       "      <td>0.000000</td>\n",
       "    </tr>\n",
       "    <tr>\n",
       "      <th>75%</th>\n",
       "      <td>6.940000</td>\n",
       "      <td>5.000000</td>\n",
       "      <td>5.000000</td>\n",
       "      <td>1.050000</td>\n",
       "      <td>NaN</td>\n",
       "      <td>NaN</td>\n",
       "      <td>NaN</td>\n",
       "      <td>NaN</td>\n",
       "      <td>8.700000</td>\n",
       "      <td>3.000000</td>\n",
       "      <td>NaN</td>\n",
       "      <td>100.000000</td>\n",
       "      <td>1.000000</td>\n",
       "      <td>0.000000</td>\n",
       "      <td>1.000000</td>\n",
       "      <td>1.000000</td>\n",
       "    </tr>\n",
       "    <tr>\n",
       "      <th>max</th>\n",
       "      <td>129.890000</td>\n",
       "      <td>5.000000</td>\n",
       "      <td>5.000000</td>\n",
       "      <td>8.000000</td>\n",
       "      <td>NaN</td>\n",
       "      <td>NaN</td>\n",
       "      <td>NaN</td>\n",
       "      <td>NaN</td>\n",
       "      <td>100.000000</td>\n",
       "      <td>125.000000</td>\n",
       "      <td>NaN</td>\n",
       "      <td>100.000000</td>\n",
       "      <td>1.000000</td>\n",
       "      <td>1.000000</td>\n",
       "      <td>1.000000</td>\n",
       "      <td>1.000000</td>\n",
       "    </tr>\n",
       "  </tbody>\n",
       "</table>\n",
       "</div>"
      ],
      "text/plain": [
       "            avg_dist  avg_rating_by_driver  avg_rating_of_driver  \\\n",
       "count   49799.000000          49799.000000          49799.000000   \n",
       "unique           NaN                   NaN                   NaN   \n",
       "top              NaN                   NaN                   NaN   \n",
       "freq             NaN                   NaN                   NaN   \n",
       "first            NaN                   NaN                   NaN   \n",
       "last             NaN                   NaN                   NaN   \n",
       "mean        5.795332              4.778158              4.601762   \n",
       "std         5.665794              0.446652              0.564056   \n",
       "min         0.000000              1.000000              1.000000   \n",
       "25%         2.420000              4.700000              4.500000   \n",
       "50%         3.890000              5.000000              4.700000   \n",
       "75%         6.940000              5.000000              5.000000   \n",
       "max       129.890000              5.000000              5.000000   \n",
       "\n",
       "           avg_surge        city       last_trip_date   phone  \\\n",
       "count   49799.000000       49799                49799   49406   \n",
       "unique           NaN           3                  182       2   \n",
       "top              NaN  Winterfell  2014-06-29 00:00:00  iPhone   \n",
       "freq             NaN       23233                 2033   34446   \n",
       "first            NaN         NaN  2014-01-01 00:00:00     NaN   \n",
       "last             NaN         NaN  2014-07-01 00:00:00     NaN   \n",
       "mean        1.074396         NaN                  NaN     NaN   \n",
       "std         0.220694         NaN                  NaN     NaN   \n",
       "min         1.000000         NaN                  NaN     NaN   \n",
       "25%         1.000000         NaN                  NaN     NaN   \n",
       "50%         1.000000         NaN                  NaN     NaN   \n",
       "75%         1.050000         NaN                  NaN     NaN   \n",
       "max         8.000000         NaN                  NaN     NaN   \n",
       "\n",
       "                signup_date     surge_pct  trips_in_first_30_days  \\\n",
       "count                 49799  49799.000000            49799.000000   \n",
       "unique                   31           NaN                     NaN   \n",
       "top     2014-01-18 00:00:00           NaN                     NaN   \n",
       "freq                   2936           NaN                     NaN   \n",
       "first   2014-01-01 00:00:00           NaN                     NaN   \n",
       "last    2014-01-31 00:00:00           NaN                     NaN   \n",
       "mean                    NaN      8.821665                2.285166   \n",
       "std                     NaN     19.860920                3.798589   \n",
       "min                     NaN      0.000000                0.000000   \n",
       "25%                     NaN      0.000000                0.000000   \n",
       "50%                     NaN      0.000000                1.000000   \n",
       "75%                     NaN      8.700000                3.000000   \n",
       "max                     NaN    100.000000              125.000000   \n",
       "\n",
       "       ultimate_black_user   weekday_pct    is_Astapor      is_Kings  \\\n",
       "count                49799  49799.000000  49799.000000  49799.000000   \n",
       "unique                   2           NaN           NaN           NaN   \n",
       "top                  False           NaN           NaN           NaN   \n",
       "freq                 30979           NaN           NaN           NaN   \n",
       "first                  NaN           NaN           NaN           NaN   \n",
       "last                   NaN           NaN           NaN           NaN   \n",
       "mean                   NaN     60.957132      0.330850      0.202615   \n",
       "std                    NaN     37.017558      0.470524      0.401952   \n",
       "min                    NaN      0.000000      0.000000      0.000000   \n",
       "25%                    NaN     33.300000      0.000000      0.000000   \n",
       "50%                    NaN     66.700000      0.000000      0.000000   \n",
       "75%                    NaN    100.000000      1.000000      0.000000   \n",
       "max                    NaN    100.000000      1.000000      1.000000   \n",
       "\n",
       "           is_iPhone  ultimate_black_user_binary  \n",
       "count   49799.000000                49799.000000  \n",
       "unique           NaN                         NaN  \n",
       "top              NaN                         NaN  \n",
       "freq             NaN                         NaN  \n",
       "first            NaN                         NaN  \n",
       "last             NaN                         NaN  \n",
       "mean        0.691701                    0.377919  \n",
       "std         0.461796                    0.484872  \n",
       "min         0.000000                    0.000000  \n",
       "25%         0.000000                    0.000000  \n",
       "50%         1.000000                    0.000000  \n",
       "75%         1.000000                    1.000000  \n",
       "max         1.000000                    1.000000  "
      ]
     },
     "execution_count": 35,
     "metadata": {},
     "output_type": "execute_result"
    }
   ],
   "source": [
    "df_mask.describe(include='all')"
   ]
  },
  {
   "cell_type": "code",
   "execution_count": 36,
   "metadata": {
    "collapsed": false
   },
   "outputs": [
    {
     "data": {
      "text/plain": [
       "<matplotlib.axes._subplots.AxesSubplot at 0xf65aa90>"
      ]
     },
     "execution_count": 36,
     "metadata": {},
     "output_type": "execute_result"
    },
    {
     "data": {
      "image/png": "[encoded data removed]",
      "text/plain": [
       "<matplotlib.figure.Figure at 0xf476f98>"
      ]
     },
     "metadata": {},
     "output_type": "display_data"
    }
   ],
   "source": [
    "df_mask.last_trip_date.dt.month.value_counts().sort_values().plot(kind='bar')"
   ]
  },
  {
   "cell_type": "code",
   "execution_count": 37,
   "metadata": {
    "collapsed": false
   },
   "outputs": [
    {
     "data": {
      "text/plain": [
       "<matplotlib.axes._subplots.AxesSubplot at 0xf476588>"
      ]
     },
     "execution_count": 37,
     "metadata": {},
     "output_type": "execute_result"
    },
    {
     "data": {
      "image/png": "[encoded data removed]",
      "text/plain": [
       "<matplotlib.figure.Figure at 0xef71278>"
      ]
     },
     "metadata": {},
     "output_type": "display_data"
    }
   ],
   "source": [
    "df_mask.city.value_counts().plot(kind='bar')"
   ]
  },
  {
   "cell_type": "code",
   "execution_count": 38,
   "metadata": {
    "collapsed": true
   },
   "outputs": [],
   "source": [
    "df['active_six'] = np.where(df.last_trip_date.dt.month >= 6, 1, 0)"
   ]
  },
  {
   "cell_type": "code",
   "execution_count": 39,
   "metadata": {
    "collapsed": false
   },
   "outputs": [
    {
     "data": {
      "text/plain": [
       "<matplotlib.axes._subplots.AxesSubplot at 0x18f81668>"
      ]
     },
     "execution_count": 39,
     "metadata": {},
     "output_type": "execute_result"
    },
    {
     "data": {
      "image/png": "[encoded data removed]",
      "text/plain": [
       "<matplotlib.figure.Figure at 0xf2fb470>"
      ]
     },
     "metadata": {},
     "output_type": "display_data"
    }
   ],
   "source": [
    "df.active_six.value_counts().plot(kind='bar')"
   ]
  },
  {
   "cell_type": "code",
   "execution_count": 40,
   "metadata": {
    "collapsed": false
   },
   "outputs": [
    {
     "data": {
      "image/png": "[encoded data removed]",
      "text/plain": [
       "<matplotlib.figure.Figure at 0x19553400>"
      ]
     },
     "metadata": {},
     "output_type": "display_data"
    }
   ],
   "source": [
    "df.active_six.value_counts().plot(kind='bar')\n",
    "plt.xticks(range(2), ('Inactive', 'Active'))\n",
    "plt.ylabel(\"User Counts\")\n",
    "plt.title(\"Active vs. Inactive Users\")\n",
    "plt.show()"
   ]
  },
  {
   "cell_type": "code",
   "execution_count": 41,
   "metadata": {
    "collapsed": false
   },
   "outputs": [
    {
     "data": {
      "text/plain": [
       "(avg_dist                             float64\n",
       " avg_rating_by_driver                 float64\n",
       " avg_rating_of_driver                 float64\n",
       " avg_surge                            float64\n",
       " city                                  object\n",
       " last_trip_date                datetime64[ns]\n",
       " phone                                 object\n",
       " signup_date                   datetime64[ns]\n",
       " surge_pct                            float64\n",
       " trips_in_first_30_days                 int64\n",
       " ultimate_black_user                     bool\n",
       " weekday_pct                          float64\n",
       " is_Astapor                             int32\n",
       " is_Kings                               int32\n",
       " is_iPhone                              int32\n",
       " ultimate_black_user_binary             int32\n",
       " active_six                             int32\n",
       " dtype: object, (50000, 17))"
      ]
     },
     "execution_count": 41,
     "metadata": {},
     "output_type": "execute_result"
    }
   ],
   "source": [
    "df.dtypes, df.shape"
   ]
  },
  {
   "cell_type": "code",
   "execution_count": 42,
   "metadata": {
    "collapsed": true
   },
   "outputs": [],
   "source": [
    "df['last_trip_date']=pd.to_datetime(df['last_trip_date'])\n",
    "df['signup_date']=pd.to_datetime(df['signup_date'])\n",
    "df['signup_weekday']=df['signup_date'].dt.weekday\n",
    "days_between_signup_and_last_trip=(df['last_trip_date']-df['signup_date']).dt.days"
   ]
  },
  {
   "cell_type": "code",
   "execution_count": 43,
   "metadata": {
    "collapsed": false
   },
   "outputs": [
    {
     "data": {
      "text/plain": [
       "<matplotlib.axes._subplots.AxesSubplot at 0x196a2518>"
      ]
     },
     "execution_count": 43,
     "metadata": {},
     "output_type": "execute_result"
    },
    {
     "data": {
      "image/png": "[encoded data removed]",
      "text/plain": [
       "<matplotlib.figure.Figure at 0xf839710>"
      ]
     },
     "metadata": {},
     "output_type": "display_data"
    }
   ],
   "source": [
    "days_between_signup_and_last_trip.hist(bins=80)"
   ]
  },
  {
   "cell_type": "code",
   "execution_count": 44,
   "metadata": {
    "collapsed": false
   },
   "outputs": [
    {
     "name": "stdout",
     "output_type": "stream",
     "text": [
      "23.0 percent of users are retained.\n"
     ]
    }
   ],
   "source": [
    "print('%.1f percent of users are retained.'%(100*len(df[days_between_signup_and_last_trip>151])/len(df)))"
   ]
  },
  {
   "cell_type": "code",
   "execution_count": 45,
   "metadata": {
    "collapsed": false
   },
   "outputs": [
    {
     "data": {
      "image/png": "[encoded data removed]",
      "text/plain": [
       "<matplotlib.figure.Figure at 0x1a11eba8>"
      ]
     },
     "metadata": {},
     "output_type": "display_data"
    }
   ],
   "source": [
    "days_between_signup_and_last_trip[days_between_signup_and_last_trip<10].value_counts().sort_index().plot.bar(rot=0);"
   ]
  },
  {
   "cell_type": "code",
   "execution_count": 46,
   "metadata": {
    "collapsed": false
   },
   "outputs": [
    {
     "name": "stdout",
     "output_type": "stream",
     "text": [
      "15.0 percent of users only uses the trip within 3 days of signing up. These kind of users are defined to be short-term users.\n"
     ]
    }
   ],
   "source": [
    "print('%.1f percent of users only uses the trip within 3 days of signing up. These kind of users are defined to be short-term users.'%(100*len(df[days_between_signup_and_last_trip<3])/len(df)))"
   ]
  },
  {
   "cell_type": "code",
   "execution_count": 47,
   "metadata": {
    "collapsed": true
   },
   "outputs": [],
   "source": [
    "days_between_signup_and_last_trip\n",
    "df['retained']=days_between_signup_and_last_trip.apply(lambda x:'retained' if x>151 else 'short-term' if x<3 else 'other not retained')"
   ]
  },
  {
   "cell_type": "code",
   "execution_count": 48,
   "metadata": {
    "collapsed": false
   },
   "outputs": [
    {
     "data": {
      "text/plain": [
       "Index([u'avg_rating_by_driver', u'phone'], dtype='object')"
      ]
     },
     "execution_count": 48,
     "metadata": {},
     "output_type": "execute_result"
    }
   ],
   "source": [
    "df.columns[df.isnull().any()]"
   ]
  },
  {
   "cell_type": "code",
   "execution_count": 49,
   "metadata": {
    "collapsed": false
   },
   "outputs": [
    {
     "data": {
      "text/plain": [
       "Index([], dtype='object')"
      ]
     },
     "execution_count": 49,
     "metadata": {},
     "output_type": "execute_result"
    }
   ],
   "source": [
    "df.avg_rating_by_driver.fillna(df.avg_rating_by_driver.mean(),inplace=True)\n",
    "df.avg_rating_of_driver.fillna(df.avg_rating_of_driver.mean(),inplace=True)\n",
    "df.phone.fillna('Unknown',inplace=True)\n",
    "df.columns[df.isnull().any()]"
   ]
  },
  {
   "cell_type": "code",
   "execution_count": 50,
   "metadata": {
    "collapsed": false
   },
   "outputs": [
    {
     "data": {
      "text/html": [
       "<div>\n",
       "<table border=\"1\" class=\"dataframe\">\n",
       "  <thead>\n",
       "    <tr style=\"text-align: right;\">\n",
       "      <th></th>\n",
       "      <th>avg_dist</th>\n",
       "      <th>avg_rating_by_driver</th>\n",
       "      <th>avg_rating_of_driver</th>\n",
       "      <th>avg_surge</th>\n",
       "      <th>city</th>\n",
       "      <th>last_trip_date</th>\n",
       "      <th>phone</th>\n",
       "      <th>signup_date</th>\n",
       "      <th>surge_pct</th>\n",
       "      <th>trips_in_first_30_days</th>\n",
       "      <th>ultimate_black_user</th>\n",
       "      <th>weekday_pct</th>\n",
       "      <th>is_Astapor</th>\n",
       "      <th>is_Kings</th>\n",
       "      <th>is_iPhone</th>\n",
       "      <th>ultimate_black_user_binary</th>\n",
       "      <th>active_six</th>\n",
       "      <th>signup_weekday</th>\n",
       "      <th>retained</th>\n",
       "    </tr>\n",
       "  </thead>\n",
       "  <tbody>\n",
       "    <tr>\n",
       "      <th>72</th>\n",
       "      <td>0.0</td>\n",
       "      <td>3.0</td>\n",
       "      <td>5.000000</td>\n",
       "      <td>1.0</td>\n",
       "      <td>Astapor</td>\n",
       "      <td>2014-01-08</td>\n",
       "      <td>iPhone</td>\n",
       "      <td>2014-01-07</td>\n",
       "      <td>0.0</td>\n",
       "      <td>1</td>\n",
       "      <td>False</td>\n",
       "      <td>100.0</td>\n",
       "      <td>1</td>\n",
       "      <td>0</td>\n",
       "      <td>1</td>\n",
       "      <td>0</td>\n",
       "      <td>0</td>\n",
       "      <td>1</td>\n",
       "      <td>short-term</td>\n",
       "    </tr>\n",
       "    <tr>\n",
       "      <th>116</th>\n",
       "      <td>0.0</td>\n",
       "      <td>5.0</td>\n",
       "      <td>5.000000</td>\n",
       "      <td>1.0</td>\n",
       "      <td>Winterfell</td>\n",
       "      <td>2014-01-11</td>\n",
       "      <td>Android</td>\n",
       "      <td>2014-01-10</td>\n",
       "      <td>0.0</td>\n",
       "      <td>1</td>\n",
       "      <td>False</td>\n",
       "      <td>100.0</td>\n",
       "      <td>0</td>\n",
       "      <td>0</td>\n",
       "      <td>0</td>\n",
       "      <td>0</td>\n",
       "      <td>0</td>\n",
       "      <td>4</td>\n",
       "      <td>short-term</td>\n",
       "    </tr>\n",
       "    <tr>\n",
       "      <th>188</th>\n",
       "      <td>0.0</td>\n",
       "      <td>5.0</td>\n",
       "      <td>4.601559</td>\n",
       "      <td>1.0</td>\n",
       "      <td>Winterfell</td>\n",
       "      <td>2014-01-14</td>\n",
       "      <td>Android</td>\n",
       "      <td>2014-01-11</td>\n",
       "      <td>0.0</td>\n",
       "      <td>1</td>\n",
       "      <td>False</td>\n",
       "      <td>100.0</td>\n",
       "      <td>0</td>\n",
       "      <td>0</td>\n",
       "      <td>0</td>\n",
       "      <td>0</td>\n",
       "      <td>0</td>\n",
       "      <td>5</td>\n",
       "      <td>other not retained</td>\n",
       "    </tr>\n",
       "    <tr>\n",
       "      <th>356</th>\n",
       "      <td>0.0</td>\n",
       "      <td>5.0</td>\n",
       "      <td>4.000000</td>\n",
       "      <td>1.0</td>\n",
       "      <td>Winterfell</td>\n",
       "      <td>2014-01-16</td>\n",
       "      <td>Android</td>\n",
       "      <td>2014-01-15</td>\n",
       "      <td>0.0</td>\n",
       "      <td>1</td>\n",
       "      <td>False</td>\n",
       "      <td>100.0</td>\n",
       "      <td>0</td>\n",
       "      <td>0</td>\n",
       "      <td>0</td>\n",
       "      <td>0</td>\n",
       "      <td>0</td>\n",
       "      <td>2</td>\n",
       "      <td>short-term</td>\n",
       "    </tr>\n",
       "    <tr>\n",
       "      <th>479</th>\n",
       "      <td>0.0</td>\n",
       "      <td>5.0</td>\n",
       "      <td>5.000000</td>\n",
       "      <td>1.0</td>\n",
       "      <td>Winterfell</td>\n",
       "      <td>2014-01-25</td>\n",
       "      <td>iPhone</td>\n",
       "      <td>2014-01-24</td>\n",
       "      <td>0.0</td>\n",
       "      <td>1</td>\n",
       "      <td>False</td>\n",
       "      <td>0.0</td>\n",
       "      <td>0</td>\n",
       "      <td>0</td>\n",
       "      <td>1</td>\n",
       "      <td>0</td>\n",
       "      <td>0</td>\n",
       "      <td>4</td>\n",
       "      <td>short-term</td>\n",
       "    </tr>\n",
       "  </tbody>\n",
       "</table>\n",
       "</div>"
      ],
      "text/plain": [
       "     avg_dist  avg_rating_by_driver  avg_rating_of_driver  avg_surge  \\\n",
       "72        0.0                   3.0              5.000000        1.0   \n",
       "116       0.0                   5.0              5.000000        1.0   \n",
       "188       0.0                   5.0              4.601559        1.0   \n",
       "356       0.0                   5.0              4.000000        1.0   \n",
       "479       0.0                   5.0              5.000000        1.0   \n",
       "\n",
       "           city last_trip_date    phone signup_date  surge_pct  \\\n",
       "72      Astapor     2014-01-08   iPhone  2014-01-07        0.0   \n",
       "116  Winterfell     2014-01-11  Android  2014-01-10        0.0   \n",
       "188  Winterfell     2014-01-14  Android  2014-01-11        0.0   \n",
       "356  Winterfell     2014-01-16  Android  2014-01-15        0.0   \n",
       "479  Winterfell     2014-01-25   iPhone  2014-01-24        0.0   \n",
       "\n",
       "     trips_in_first_30_days ultimate_black_user  weekday_pct  is_Astapor  \\\n",
       "72                        1               False        100.0           1   \n",
       "116                       1               False        100.0           0   \n",
       "188                       1               False        100.0           0   \n",
       "356                       1               False        100.0           0   \n",
       "479                       1               False          0.0           0   \n",
       "\n",
       "     is_Kings  is_iPhone  ultimate_black_user_binary  active_six  \\\n",
       "72          0          1                           0           0   \n",
       "116         0          0                           0           0   \n",
       "188         0          0                           0           0   \n",
       "356         0          0                           0           0   \n",
       "479         0          1                           0           0   \n",
       "\n",
       "     signup_weekday            retained  \n",
       "72                1          short-term  \n",
       "116               4          short-term  \n",
       "188               5  other not retained  \n",
       "356               2          short-term  \n",
       "479               4          short-term  "
      ]
     },
     "execution_count": 50,
     "metadata": {},
     "output_type": "execute_result"
    }
   ],
   "source": [
    "df[df.avg_dist==0].head()"
   ]
  },
  {
   "cell_type": "code",
   "execution_count": 51,
   "metadata": {
    "collapsed": true
   },
   "outputs": [],
   "source": [
    "continous_val=['avg_dist', 'avg_rating_by_driver', 'avg_rating_of_driver', 'avg_surge','surge_pct',\n",
    "       'trips_in_first_30_days','weekday_pct', 'signup_weekday','retained']\n",
    "\n",
    "continous=df[continous_val]"
   ]
  },
  {
   "cell_type": "code",
   "execution_count": 53,
   "metadata": {
    "collapsed": false
   },
   "outputs": [
    {
     "data": {
      "image/png": "[encoded data removed]",
      "text/plain": [
       "<matplotlib.figure.Figure at 0x22783160>"
      ]
     },
     "metadata": {},
     "output_type": "display_data"
    }
   ],
   "source": [
    "\n",
    "plt.figure(figsize=(20,24))\n",
    "for i in range(1,len(continous_val)):\n",
    "    plt.subplot(4,2,i)\n",
    "    col=continous_val[i-1]\n",
    "    for n in df.retained.unique():\n",
    "        df.loc[df.retained==n,col].hist(label='retained',normed=True,alpha=0.4,bins=21)\n",
    "   \n",
    "    plt.legend()\n",
    "    plt.gca().set_xlabel(col)\n",
    "    i+=1"
   ]
  },
  {
   "cell_type": "code",
   "execution_count": 54,
   "metadata": {
    "collapsed": false
   },
   "outputs": [
    {
     "data": {
      "image/png": "[encoded data removed]",
      "text/plain": [
       "<matplotlib.figure.Figure at 0x22ad04a8>"
      ]
     },
     "metadata": {},
     "output_type": "display_data"
    }
   ],
   "source": [
    "plt.figure(figsize=(20,24))\n",
    "for i in range(1,len(continous_val)):\n",
    "    plt.subplot(4,2,i)\n",
    "    col=continous_val[i-1]\n",
    "    \n",
    "    sns.violinplot('retained', col, data=continous)\n",
    "    i+=1"
   ]
  },
  {
   "cell_type": "code",
   "execution_count": 55,
   "metadata": {
    "collapsed": true
   },
   "outputs": [],
   "source": [
    "from sklearn.model_selection import GridSearchCV, train_test_split, StratifiedKFold\n",
    "from sklearn.linear_model import LogisticRegression\n",
    "from sklearn.metrics import accuracy_score, classification_report, confusion_matrix"
   ]
  },
  {
   "cell_type": "markdown",
   "metadata": {},
   "source": [
    "### Modeling:\n"
   ]
  },
  {
   "cell_type": "code",
   "execution_count": 56,
   "metadata": {
    "collapsed": false
   },
   "outputs": [
    {
     "name": "stdout",
     "output_type": "stream",
     "text": [
      "('label_3:', [('other not retained', 0), ('retained', 1), ('short-term', 2)])\n"
     ]
    }
   ],
   "source": [
    "def separate_label_features(df, labelcol):\n",
    "    label=df[labelcol]\n",
    "    features=df.drop(labelcol,axis=1)\n",
    "    return features, label\n",
    "\n",
    "def DictVectorizer_cat(df, cols):\n",
    "    dv = DictVectorizer(sparse=False) \n",
    "    transformed=pd.DataFrame(dv.fit_transform(df[cols].to_dict( orient = 'records' )), columns=dv.feature_names_)\n",
    "    return df.drop(cols,axis=1).join(transformed)\n",
    "\n",
    "\n",
    "features, label=separate_label_features(df, 'retained')\n",
    "\n",
    "features.drop(['last_trip_date','signup_date'],axis=1,inplace=True)\n",
    "features['ultimate_black_user']=features['ultimate_black_user'].astype(int)\n",
    "\n",
    "cat=['city','phone']    \n",
    "features=DictVectorizer_cat(features,cat)\n",
    "\n",
    "# two ways of labeling: only label retained and not retained, label three classes\n",
    "le = preprocessing.LabelEncoder()\n",
    "label_3 = le.fit_transform(label)\n",
    "classes_N=len(le.classes_)\n",
    "print('label_3:',list(zip(le.classes_,le.transform(le.classes_))))\n",
    "label_2=label=='retained'\n",
    "\n",
    "\n",
    "# train test split\n",
    "X_train_1, X_test_2, y_train_1, y_test_1 = train_test_split(features, label_2, test_size=0.2, random_state=12)\n",
    "X_train_2, X_test_2, y_train_2, y_test_2 = train_test_split(features, label_3, test_size=0.2, random_state=12)"
   ]
  },
  {
   "cell_type": "code",
   "execution_count": 57,
   "metadata": {
    "collapsed": true
   },
   "outputs": [],
   "source": [
    "model = LogisticRegression(max_iter=500, solver='sag', n_jobs=4)"
   ]
  },
  {
   "cell_type": "code",
   "execution_count": 58,
   "metadata": {
    "collapsed": false
   },
   "outputs": [
    {
     "name": "stderr",
     "output_type": "stream",
     "text": [
      "C:\\Users\\Danny Arenson\\lib\\site-packages\\sklearn\\linear_model\\sag.py:286: ConvergenceWarning: The max_iter was reached which means the coef_ did not converge\n",
      "  \"the coef_ did not converge\", ConvergenceWarning)\n"
     ]
    },
    {
     "data": {
      "text/plain": [
       "LogisticRegression(C=1.0, class_weight=None, dual=False, fit_intercept=True,\n",
       "          intercept_scaling=1, max_iter=500, multi_class='ovr', n_jobs=4,\n",
       "          penalty='l2', random_state=None, solver='sag', tol=0.0001,\n",
       "          verbose=0, warm_start=False)"
      ]
     },
     "execution_count": 58,
     "metadata": {},
     "output_type": "execute_result"
    }
   ],
   "source": [
    "model.fit(X_train_1, y_train_1)"
   ]
  },
  {
   "cell_type": "code",
   "execution_count": 59,
   "metadata": {
    "collapsed": false
   },
   "outputs": [
    {
     "data": {
      "text/plain": [
       "LogisticRegression(C=1.0, class_weight=None, dual=False, fit_intercept=True,\n",
       "          intercept_scaling=1, max_iter=500, multi_class='ovr', n_jobs=4,\n",
       "          penalty='l2', random_state=None, solver='sag', tol=0.0001,\n",
       "          verbose=0, warm_start=False)"
      ]
     },
     "execution_count": 59,
     "metadata": {},
     "output_type": "execute_result"
    }
   ],
   "source": [
    "model.fit(X_train_2, y_train_2)"
   ]
  },
  {
   "cell_type": "code",
   "execution_count": 60,
   "metadata": {
    "collapsed": true
   },
   "outputs": [],
   "source": [
    "preds = model.predict(X_train_1)"
   ]
  },
  {
   "cell_type": "code",
   "execution_count": 61,
   "metadata": {
    "collapsed": false
   },
   "outputs": [
    {
     "name": "stdout",
     "output_type": "stream",
     "text": [
      "0.85835\n"
     ]
    }
   ],
   "source": [
    "\n",
    "print(accuracy_score(preds, y_train_1))"
   ]
  },
  {
   "cell_type": "code",
   "execution_count": 62,
   "metadata": {
    "collapsed": false
   },
   "outputs": [
    {
     "data": {
      "text/plain": [
       "array([[24960,  5659,     1],\n",
       "       [    6,  9374,     0],\n",
       "       [    0,     0,     0]])"
      ]
     },
     "execution_count": 62,
     "metadata": {},
     "output_type": "execute_result"
    }
   ],
   "source": [
    "confusion_matrix(y_true=y_train_1, y_pred=preds)"
   ]
  },
  {
   "cell_type": "code",
   "execution_count": 63,
   "metadata": {
    "collapsed": false
   },
   "outputs": [
    {
     "name": "stdout",
     "output_type": "stream",
     "text": [
      "             precision    recall  f1-score   support\n",
      "\n",
      "          0       0.75      0.77      0.76     24433\n",
      "          1       0.62      1.00      0.77      9380\n",
      "          2       0.00      0.00      0.00      6187\n",
      "\n",
      "avg / total       0.61      0.70      0.64     40000\n",
      "\n"
     ]
    }
   ],
   "source": [
    "print(classification_report(y_true=y_train_2, y_pred=preds))"
   ]
  },
  {
   "cell_type": "code",
   "execution_count": 64,
   "metadata": {
    "collapsed": false
   },
   "outputs": [
    {
     "data": {
      "text/plain": [
       "GridSearchCV(cv=StratifiedKFold(n_splits=5, random_state=None, shuffle=False),\n",
       "       error_score='raise',\n",
       "       estimator=LogisticRegression(C=1.0, class_weight=None, dual=False, fit_intercept=True,\n",
       "          intercept_scaling=1, max_iter=500, multi_class='ovr', n_jobs=2,\n",
       "          penalty='l2', random_state=None, solver='sag', tol=0.0001,\n",
       "          verbose=0, warm_start=False),\n",
       "       fit_params={}, iid=True, n_jobs=4,\n",
       "       param_grid={'C': [0.0001, 0.001, 0.01, 0.1, 1, 10, 100]},\n",
       "       pre_dispatch='2*n_jobs', refit=True, return_train_score=True,\n",
       "       scoring='accuracy', verbose=0)"
      ]
     },
     "execution_count": 64,
     "metadata": {},
     "output_type": "execute_result"
    }
   ],
   "source": [
    "model2 = LogisticRegression(max_iter=500, solver='sag', n_jobs=2)\n",
    "model2 = GridSearchCV(model2, param_grid={'C': [0.0001, 0.001, 0.01, 0.1, 1, 10, 100]}, scoring='accuracy', n_jobs=4, \n",
    "                     cv=StratifiedKFold(n_splits=5))\n",
    "model2.fit(X_train_1, y_train_1)"
   ]
  },
  {
   "cell_type": "code",
   "execution_count": 65,
   "metadata": {
    "collapsed": false
   },
   "outputs": [
    {
     "data": {
      "text/plain": [
       "{'mean_fit_time': array([  3.81219997,   7.12479997,   7.70679998,  11.20540004,\n",
       "         12.1902    ,  12.24199996,  11.65099993]),\n",
       " 'mean_score_time': array([ 0.03680005,  0.00720005,  0.00300002,  0.00539999,  0.00400004,\n",
       "         0.00460005,  0.002     ]),\n",
       " 'mean_test_score': array([ 0.7739  ,  0.80865 ,  0.856475,  0.858625,  0.85875 ,  0.858775,\n",
       "         0.858775]),\n",
       " 'mean_train_score': array([ 0.7738125 ,  0.80890625,  0.8566375 ,  0.85869375,  0.85845   ,\n",
       "         0.85841875,  0.85840625]),\n",
       " 'param_C': masked_array(data = [0.0001 0.001 0.01 0.1 1 10 100],\n",
       "              mask = [False False False False False False False],\n",
       "        fill_value = ?),\n",
       " 'params': ({'C': 0.0001},\n",
       "  {'C': 0.001},\n",
       "  {'C': 0.01},\n",
       "  {'C': 0.1},\n",
       "  {'C': 1},\n",
       "  {'C': 10},\n",
       "  {'C': 100}),\n",
       " 'rank_test_score': array([7, 6, 5, 4, 3, 1, 1]),\n",
       " 'split0_test_score': array([ 0.77325 ,  0.809375,  0.856625,  0.856   ,  0.855875,  0.855625,\n",
       "         0.855625]),\n",
       " 'split0_train_score': array([ 0.7738125 ,  0.8095    ,  0.8565625 ,  0.859     ,  0.85890625,\n",
       "         0.858875  ,  0.858875  ]),\n",
       " 'split1_test_score': array([ 0.774   ,  0.809125,  0.85925 ,  0.86075 ,  0.860375,  0.860375,\n",
       "         0.860375]),\n",
       " 'split1_train_score': array([ 0.7738125 ,  0.80803125,  0.85671875,  0.85825   ,  0.85809375,\n",
       "         0.85809375,  0.85809375]),\n",
       " 'split2_test_score': array([ 0.7755  ,  0.8115  ,  0.858875,  0.8615  ,  0.862375,  0.86275 ,\n",
       "         0.86275 ]),\n",
       " 'split2_train_score': array([ 0.77325   ,  0.80796875,  0.855625  ,  0.85775   ,  0.857     ,\n",
       "         0.85696875,  0.8569375 ]),\n",
       " 'split3_test_score': array([ 0.77425 ,  0.806375,  0.852375,  0.856875,  0.857375,  0.857375,\n",
       "         0.857375]),\n",
       " 'split3_train_score': array([ 0.7739375 ,  0.8095    ,  0.8569375 ,  0.85915625,  0.85909375,\n",
       "         0.85909375,  0.85909375]),\n",
       " 'split4_test_score': array([ 0.7725  ,  0.806875,  0.85525 ,  0.858   ,  0.85775 ,  0.85775 ,\n",
       "         0.85775 ]),\n",
       " 'split4_train_score': array([ 0.77425   ,  0.80953125,  0.85734375,  0.8593125 ,  0.85915625,\n",
       "         0.8590625 ,  0.85903125]),\n",
       " 'std_fit_time': array([ 0.2294964 ,  0.07925507,  0.16663307,  1.36402549,  0.07552329,\n",
       "         0.12315679,  0.99270702]),\n",
       " 'std_score_time': array([ 0.02601068,  0.00840006,  0.00063241,  0.00484142,  0.00109545,\n",
       "         0.00320005,  0.00167331]),\n",
       " 'std_test_score': array([ 0.00100747,  0.00185472,  0.00252166,  0.00215058,  0.0023211 ,\n",
       "         0.00250175,  0.00250175]),\n",
       " 'std_train_score': array([ 0.00032355,  0.0007403 ,  0.00057029,  0.00059634,  0.00081863,\n",
       "         0.00081072,  0.00081705])}"
      ]
     },
     "execution_count": 65,
     "metadata": {},
     "output_type": "execute_result"
    }
   ],
   "source": [
    "model2.cv_results_"
   ]
  },
  {
   "cell_type": "code",
   "execution_count": null,
   "metadata": {
    "collapsed": true
   },
   "outputs": [],
   "source": []
  },
  {
   "cell_type": "code",
   "execution_count": null,
   "metadata": {
    "collapsed": true
   },
   "outputs": [],
   "source": []
  },
  {
   "cell_type": "code",
   "execution_count": null,
   "metadata": {
    "collapsed": true
   },
   "outputs": [],
   "source": []
  },
  {
   "cell_type": "code",
   "execution_count": null,
   "metadata": {
    "collapsed": true
   },
   "outputs": [],
   "source": []
  },
  {
   "cell_type": "code",
   "execution_count": null,
   "metadata": {
    "collapsed": true
   },
   "outputs": [],
   "source": []
  },
  {
   "cell_type": "code",
   "execution_count": null,
   "metadata": {
    "collapsed": true
   },
   "outputs": [],
   "source": []
  },
  {
   "cell_type": "code",
   "execution_count": null,
   "metadata": {
    "collapsed": true
   },
   "outputs": [],
   "source": []
  },
  {
   "cell_type": "code",
   "execution_count": null,
   "metadata": {
    "collapsed": true
   },
   "outputs": [],
   "source": []
  }
 ],
 "metadata": {
  "kernelspec": {
   "display_name": "Python 2",
   "language": "python",
   "name": "python2"
  },
  "language_info": {
   "codemirror_mode": {
    "name": "ipython",
    "version": 2
   },
   "file_extension": ".py",
   "mimetype": "text/x-python",
   "name": "python",
   "nbconvert_exporter": "python",
   "pygments_lexer": "ipython2",
   "version": "2.7.13"
  }
 },
 "nbformat": 4,
 "nbformat_minor": 2
}
