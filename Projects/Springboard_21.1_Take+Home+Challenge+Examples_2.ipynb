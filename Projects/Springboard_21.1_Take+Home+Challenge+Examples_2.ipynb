{
 "cells": [
  {
   "cell_type": "markdown",
   "metadata": {},
   "source": [
    "For this exercise, you will analyze a dataset from Amazon. The data format and a\n",
    "sample entry are shown on the next page.\n",
    "\n",
    "A. (Suggested duration: 90 mins)\n",
    "With the given data for 548552 products, perform exploratory analysis and make\n",
    "suggestions for further analysis on the following aspects.\n",
    "\n",
    "\n",
    "B. (Suggested duration: 30 mins)\n",
    "Give the number crunching a rest! Just think about these problems.\n"
   ]
  },
  {
   "cell_type": "code",
   "execution_count": 42,
   "metadata": {
    "collapsed": true
   },
   "outputs": [],
   "source": [
    "import pandas as pd\n",
    "import statsmodels.api as sm\n",
    "from statsmodels.formula.api import ols\n",
    "from itertools import combinations\n",
    "from collections import Counter\n",
    "\n",
    "%matplotlib inline \n",
    "\n",
    "import numpy as np\n",
    "import scipy.stats as stats\n",
    "import matplotlib.pyplot as plt\n",
    "import sklearn\n",
    "\n",
    "import seaborn as sns\n",
    "\n",
    "\n",
    "from matplotlib import rcParams\n",
    "sns.set_style(\"whitegrid\")\n",
    "sns.set_context(\"poster\")"
   ]
  },
  {
   "cell_type": "code",
   "execution_count": 43,
   "metadata": {
    "collapsed": false
   },
   "outputs": [],
   "source": [
    "import re\n",
    "amazon_stats = []\n",
    "\n",
    "pattern =\"reviews:\"\n",
    "with open(\"amazon-meta.txt\", 'r') as f:\n",
    "    for line in f:\n",
    "        if pattern in line:\n",
    "            _, value = line.split(':', 1)\n",
    "            numbers = re.findall(r': [0-9]+', value)\n",
    "            numbers_clean = [float(x[1:].strip()) for x in numbers]\n",
    "            ratings = {'total': numbers_clean[0],\n",
    "                      'downloaded': numbers_clean[1],\n",
    "                      'avg_rating': numbers_clean[2],}\n",
    "            amazon_stats.append(ratings)"
   ]
  },
  {
   "cell_type": "code",
   "execution_count": 44,
   "metadata": {
    "collapsed": false
   },
   "outputs": [
    {
     "data": {
      "text/html": [
       "<div>\n",
       "<table border=\"1\" class=\"dataframe\">\n",
       "  <thead>\n",
       "    <tr style=\"text-align: right;\">\n",
       "      <th></th>\n",
       "      <th>avg_rating</th>\n",
       "      <th>downloaded</th>\n",
       "      <th>total</th>\n",
       "    </tr>\n",
       "  </thead>\n",
       "  <tbody>\n",
       "    <tr>\n",
       "      <th>0</th>\n",
       "      <td>5.0</td>\n",
       "      <td>2.0</td>\n",
       "      <td>2.0</td>\n",
       "    </tr>\n",
       "    <tr>\n",
       "      <th>1</th>\n",
       "      <td>4.0</td>\n",
       "      <td>12.0</td>\n",
       "      <td>12.0</td>\n",
       "    </tr>\n",
       "    <tr>\n",
       "      <th>2</th>\n",
       "      <td>5.0</td>\n",
       "      <td>1.0</td>\n",
       "      <td>1.0</td>\n",
       "    </tr>\n",
       "    <tr>\n",
       "      <th>3</th>\n",
       "      <td>4.0</td>\n",
       "      <td>1.0</td>\n",
       "      <td>1.0</td>\n",
       "    </tr>\n",
       "    <tr>\n",
       "      <th>4</th>\n",
       "      <td>0.0</td>\n",
       "      <td>0.0</td>\n",
       "      <td>0.0</td>\n",
       "    </tr>\n",
       "  </tbody>\n",
       "</table>\n",
       "</div>"
      ],
      "text/plain": [
       "   avg_rating  downloaded  total\n",
       "0         5.0         2.0    2.0\n",
       "1         4.0        12.0   12.0\n",
       "2         5.0         1.0    1.0\n",
       "3         4.0         1.0    1.0\n",
       "4         0.0         0.0    0.0"
      ]
     },
     "execution_count": 44,
     "metadata": {},
     "output_type": "execute_result"
    }
   ],
   "source": [
    "amazon_data =pd.DataFrame(amazon_stats)\n",
    "amazon_data.head()"
   ]
  },
  {
   "cell_type": "code",
   "execution_count": 45,
   "metadata": {
    "collapsed": false
   },
   "outputs": [
    {
     "data": {
      "text/html": [
       "<div>\n",
       "<table border=\"1\" class=\"dataframe\">\n",
       "  <thead>\n",
       "    <tr style=\"text-align: right;\">\n",
       "      <th></th>\n",
       "      <th>avg_rating</th>\n",
       "      <th>downloaded</th>\n",
       "      <th>total</th>\n",
       "    </tr>\n",
       "  </thead>\n",
       "  <tbody>\n",
       "    <tr>\n",
       "      <th>count</th>\n",
       "      <td>542684.000000</td>\n",
       "      <td>542684.000000</td>\n",
       "      <td>542684.000000</td>\n",
       "    </tr>\n",
       "    <tr>\n",
       "      <th>mean</th>\n",
       "      <td>3.075602</td>\n",
       "      <td>13.992017</td>\n",
       "      <td>14.339818</td>\n",
       "    </tr>\n",
       "    <tr>\n",
       "      <th>std</th>\n",
       "      <td>1.944418</td>\n",
       "      <td>71.908413</td>\n",
       "      <td>74.768369</td>\n",
       "    </tr>\n",
       "    <tr>\n",
       "      <th>min</th>\n",
       "      <td>0.000000</td>\n",
       "      <td>0.000000</td>\n",
       "      <td>0.000000</td>\n",
       "    </tr>\n",
       "    <tr>\n",
       "      <th>25%</th>\n",
       "      <td>0.000000</td>\n",
       "      <td>0.000000</td>\n",
       "      <td>0.000000</td>\n",
       "    </tr>\n",
       "    <tr>\n",
       "      <th>50%</th>\n",
       "      <td>4.000000</td>\n",
       "      <td>2.000000</td>\n",
       "      <td>2.000000</td>\n",
       "    </tr>\n",
       "    <tr>\n",
       "      <th>75%</th>\n",
       "      <td>5.000000</td>\n",
       "      <td>7.000000</td>\n",
       "      <td>8.000000</td>\n",
       "    </tr>\n",
       "    <tr>\n",
       "      <th>max</th>\n",
       "      <td>5.000000</td>\n",
       "      <td>4995.000000</td>\n",
       "      <td>5545.000000</td>\n",
       "    </tr>\n",
       "  </tbody>\n",
       "</table>\n",
       "</div>"
      ],
      "text/plain": [
       "          avg_rating     downloaded          total\n",
       "count  542684.000000  542684.000000  542684.000000\n",
       "mean        3.075602      13.992017      14.339818\n",
       "std         1.944418      71.908413      74.768369\n",
       "min         0.000000       0.000000       0.000000\n",
       "25%         0.000000       0.000000       0.000000\n",
       "50%         4.000000       2.000000       2.000000\n",
       "75%         5.000000       7.000000       8.000000\n",
       "max         5.000000    4995.000000    5545.000000"
      ]
     },
     "execution_count": 45,
     "metadata": {},
     "output_type": "execute_result"
    }
   ],
   "source": [
    "amazon_data.describe()"
   ]
  },
  {
   "cell_type": "code",
   "execution_count": 46,
   "metadata": {
    "collapsed": false
   },
   "outputs": [
    {
     "name": "stdout",
     "output_type": "stream",
     "text": [
      "                            OLS Regression Results                            \n",
      "==============================================================================\n",
      "Dep. Variable:             avg_rating   R-squared:                       0.007\n",
      "Model:                            OLS   Adj. R-squared:                  0.007\n",
      "Method:                 Least Squares   F-statistic:                     3862.\n",
      "Date:                Tue, 22 Aug 2017   Prob (F-statistic):               0.00\n",
      "Time:                        17:41:01   Log-Likelihood:            -1.1290e+06\n",
      "No. Observations:              542684   AIC:                         2.258e+06\n",
      "Df Residuals:                  542682   BIC:                         2.258e+06\n",
      "Df Model:                           1                                         \n",
      "Covariance Type:            nonrobust                                         \n",
      "==============================================================================\n",
      "                 coef    std err          t      P>|t|      [95.0% Conf. Int.]\n",
      "------------------------------------------------------------------------------\n",
      "Intercept      3.0438      0.003   1135.977      0.000         3.039     3.049\n",
      "downloaded     0.0023   3.66e-05     62.147      0.000         0.002     0.002\n",
      "==============================================================================\n",
      "Omnibus:                   259270.933   Durbin-Watson:                   1.954\n",
      "Prob(Omnibus):                  0.000   Jarque-Bera (JB):            73198.054\n",
      "Skew:                          -0.713   Prob(JB):                         0.00\n",
      "Kurtosis:                       1.902   Cond. No.                         74.6\n",
      "==============================================================================\n",
      "\n",
      "Warnings:\n",
      "[1] Standard Errors assume that the covariance matrix of the errors is correctly specified.\n"
     ]
    }
   ],
   "source": [
    "m = ols('avg_rating ~ downloaded',amazon_data).fit()\n",
    "print(m.summary())"
   ]
  },
  {
   "cell_type": "markdown",
   "metadata": {},
   "source": [
    "**1. Trustworthiness of ratings\n",
    "Ratings are susceptible to manipulation, bias etc. What can you say (quantitatively\n",
    "speaking) about the ratings in this dataset?**"
   ]
  },
  {
   "cell_type": "code",
   "execution_count": 47,
   "metadata": {
    "collapsed": false
   },
   "outputs": [
    {
     "data": {
      "text/plain": [
       "<matplotlib.axes._subplots.AxesSubplot at 0x1ea89080>"
      ]
     },
     "execution_count": 47,
     "metadata": {},
     "output_type": "execute_result"
    },
    {
     "data": {
      "image/png": "[encoded data removed]",
      "text/plain": [
       "<matplotlib.figure.Figure at 0x1ea7aef0>"
      ]
     },
     "metadata": {},
     "output_type": "display_data"
    }
   ],
   "source": [
    "sns.regplot(y=\"downloaded\", x=\"avg_rating\", data=amazon_data, fit_reg = False)"
   ]
  },
  {
   "cell_type": "code",
   "execution_count": 48,
   "metadata": {
    "collapsed": true
   },
   "outputs": [],
   "source": [
    "df2 = 'amazon-meta.txt'"
   ]
  },
  {
   "cell_type": "markdown",
   "metadata": {},
   "source": [
    "**1. Algorithm thinking\n",
    "How would build the product categorization from scratch, using similar/co-purchased\n",
    "information?**"
   ]
  },
  {
   "cell_type": "code",
   "execution_count": 49,
   "metadata": {
    "collapsed": true
   },
   "outputs": [],
   "source": [
    "items = []\n",
    "\n",
    "with open(df2) as f:\n",
    "    info = set()\n",
    "    categories = False\n",
    "    item_count = 0\n",
    "    for i, line in enumerate(f):\n",
    "        \n",
    "        if categories:\n",
    "            if ':' in line:\n",
    "                # the end of categories\n",
    "                categories = False\n",
    "                continue\n",
    "            set_ = set([l.strip().split('[', 1)[0]\n",
    "                     for l in line.strip().split('|') if len(l.strip().split('[', 1)[0]) > 1])\n",
    "            info = info.union(set_)\n",
    "        \n",
    "        elif 'categories:' in line:\n",
    "            categories = True\n",
    "        \n",
    "        # the end of the item\n",
    "        elif len(line.strip()) == 0:\n",
    "            # Only save the categories if at least 1 was found\n",
    "            if len(info) > 0:\n",
    "                items.append(info)\n",
    "                \n",
    "            info = set()\n",
    "            \n",
    "            item_count += 1\n",
    "            if item_count > 100:\n",
    "                break"
   ]
  },
  {
   "cell_type": "markdown",
   "metadata": {},
   "source": [
    "\n",
    "2) Category bloat\n",
    "Consider the product group named 'Books'. Each product in this group is associated with\n",
    "categories. Naturally, with categorization, there are tradeoffs between how broad or\n",
    "specific the categories must be.\n",
    "\n",
    "**For this dataset, quantify the following:**\n",
    "\n",
    "**a. Is there redundancy in the categorization? How can it be identified/removed?**\n",
    "\n",
    "**b. Is is possible to reduce the number of categories drastically (say to 10% of existing\n",
    "categories) by sacrificing relatively few category entries (say close to 10%)?**"
   ]
  },
  {
   "cell_type": "code",
   "execution_count": 50,
   "metadata": {
    "collapsed": false
   },
   "outputs": [
    {
     "data": {
      "text/plain": [
       "[{'Books',\n",
       "  'Christianity',\n",
       "  'Clergy',\n",
       "  'Preaching',\n",
       "  'Religion & Spirituality',\n",
       "  'Sermons',\n",
       "  'Subjects'},\n",
       " {'Books',\n",
       "  'Earth-Based Religions',\n",
       "  'Religion & Spirituality',\n",
       "  'Subjects',\n",
       "  'Wicca',\n",
       "  'Witchcraft'},\n",
       " {'Books', 'Crafts & Hobbies', 'General', 'Home & Garden', 'Subjects'}]"
      ]
     },
     "execution_count": 50,
     "metadata": {},
     "output_type": "execute_result"
    }
   ],
   "source": [
    "items[:3]"
   ]
  },
  {
   "cell_type": "code",
   "execution_count": 51,
   "metadata": {
    "collapsed": false
   },
   "outputs": [],
   "source": [
    "all_combo = [\n",
    "    tuple(sorted(combo)) \n",
    "    for item in items\n",
    "    for combo in list(combinations(item, 1))\n",
    "]"
   ]
  },
  {
   "cell_type": "code",
   "execution_count": 52,
   "metadata": {
    "collapsed": false
   },
   "outputs": [
    {
     "data": {
      "text/plain": [
       "[('Preaching',),\n",
       " ('Christianity',),\n",
       " ('Subjects',),\n",
       " ('Clergy',),\n",
       " ('Religion & Spirituality',),\n",
       " ('Sermons',),\n",
       " ('Books',),\n",
       " ('Wicca',),\n",
       " ('Witchcraft',),\n",
       " ('Earth-Based Religions',)]"
      ]
     },
     "execution_count": 52,
     "metadata": {},
     "output_type": "execute_result"
    }
   ],
   "source": [
    "all_combo[:10]"
   ]
  },
  {
   "cell_type": "code",
   "execution_count": 53,
   "metadata": {
    "collapsed": true
   },
   "outputs": [],
   "source": [
    "all_combos = [\n",
    "    tuple(sorted(combo))  \n",
    "    for item in items\n",
    "    for combo in list(combinations(item, 2))\n",
    "]"
   ]
  },
  {
   "cell_type": "code",
   "execution_count": 54,
   "metadata": {
    "collapsed": false
   },
   "outputs": [
    {
     "data": {
      "text/plain": [
       "[('Christianity', 'Preaching'),\n",
       " ('Preaching', 'Subjects'),\n",
       " ('Clergy', 'Preaching'),\n",
       " ('Preaching', 'Religion & Spirituality'),\n",
       " ('Preaching', 'Sermons'),\n",
       " ('Books', 'Preaching'),\n",
       " ('Christianity', 'Subjects'),\n",
       " ('Christianity', 'Clergy'),\n",
       " ('Christianity', 'Religion & Spirituality'),\n",
       " ('Christianity', 'Sermons')]"
      ]
     },
     "execution_count": 54,
     "metadata": {},
     "output_type": "execute_result"
    }
   ],
   "source": [
    "all_combos[:10]"
   ]
  },
  {
   "cell_type": "code",
   "execution_count": 55,
   "metadata": {
    "collapsed": false
   },
   "outputs": [
    {
     "data": {
      "text/plain": [
       "[(('Books', 'Subjects'), 80),\n",
       " (('Books', 'General'), 63),\n",
       " (('General', 'Subjects'), 62),\n",
       " (('Amazon.com Stores', 'General'), 14),\n",
       " (('Books', \"Children's Books\"), 14),\n",
       " ((\"Children's Books\", 'Subjects'), 13),\n",
       " (('Books', 'Literature & Fiction'), 13),\n",
       " (('General', 'Literature & Fiction'), 13),\n",
       " (('General', 'Specialty Stores'), 12),\n",
       " (('Literature & Fiction', 'Subjects'), 12),\n",
       " (('Amazon.com Stores', 'Books'), 11),\n",
       " (('Religion & Spirituality', 'Subjects'), 11),\n",
       " (('Books', 'Religion & Spirituality'), 11),\n",
       " (('Amazon.com Stores', 'Subjects'), 11),\n",
       " (('Books', 'Nonfiction'), 10),\n",
       " (('Nonfiction', 'Subjects'), 10),\n",
       " ((\"Children's Books\", 'Literature'), 9),\n",
       " (('Literature', 'Subjects'), 9),\n",
       " (('Christianity', 'Subjects'), 9),\n",
       " (('Books', 'Home & Office'), 9)]"
      ]
     },
     "execution_count": 55,
     "metadata": {},
     "output_type": "execute_result"
    }
   ],
   "source": [
    "Counter(all_combos).most_common()[:20]"
   ]
  },
  {
   "cell_type": "markdown",
   "metadata": {},
   "source": [
    "**2. Product thinking\n",
    "Now, put on your 'product thinking' hat.**\n",
    "\n",
    "**a. Is it a good idea to show users the categorization hierarchy for items?**\n",
    "Having a hierarchical organization allows a company to focus on the level of specificity that best suits a given situation. \n",
    "\n",
    "**b. Is it a good idea to show users similar/co-purchased items?**\n",
    "It is a good idea to show customers similar/co-purchased items as this may entice customers to make additional purchases that they may not have originally intended to make.\n",
    "\n",
    "**c. Is it a good idea to show users reviews and ratings for items?**\n",
    "Showing consumer product ratings can increase consumer confidence in the product, and lead to more purchases\n",
    "\n"
   ]
  },
  {
   "cell_type": "code",
   "execution_count": null,
   "metadata": {
    "collapsed": true
   },
   "outputs": [],
   "source": []
  },
  {
   "cell_type": "code",
   "execution_count": null,
   "metadata": {
    "collapsed": true
   },
   "outputs": [],
   "source": []
  }
 ],
 "metadata": {
  "kernelspec": {
   "display_name": "Python 2",
   "language": "python",
   "name": "python2"
  },
  "language_info": {
   "codemirror_mode": {
    "name": "ipython",
    "version": 2
   },
   "file_extension": ".py",
   "mimetype": "text/x-python",
   "name": "python",
   "nbconvert_exporter": "python",
   "pygments_lexer": "ipython2",
   "version": "2.7.13"
  }
 },
 "nbformat": 4,
 "nbformat_minor": 2
}
